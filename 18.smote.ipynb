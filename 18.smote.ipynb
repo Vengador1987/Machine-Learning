{
 "cells": [
  {
   "cell_type": "markdown",
   "id": "aeded45b",
   "metadata": {},
   "source": [
    "## Synthetic Minority Oversampling Technique (SMOTE)\n",
    "\n",
    "El desbalance de clases al momento de entrenar un modelo de predicción puede ser crucial, al haber un desbalance el modelo se inclinará por la clase mayoritaria, ya que es lo más probable que suceda, y tendrá un rendimiento deficiente con la clase minoritaria, en algunos casos puede que la clase minoritaria sea la más importante para la clasificación.\n",
    "\n",
    "Un enfoque para abordar conjuntos de datos desbalanceados es sobremuestrear (**oversampling**) la clase minoritaria. El enfoque más simple consiste en duplicar instancias en la clase minoritaria, aunque estos ejemplos no agregan ninguna información nueva al modelo.\n",
    "\n",
    "En su lugar, se pueden sintetizar nuevas instancias a partir de los ejemplos existentes. Este es un tipo de aumento de datos (**data augmentation**) para la clase minoritaria y se conoce como **`Synthetic Minority Oversampling Technique`** (Técnica de sobremuestreo de minorías sintéticas)\n",
    "\n",
    "Otro enfoque sería el de eliminar aleatoriamente instancias de la clase mayoritaria (**undersampling**)\n",
    "\n",
    "\n",
    "#### Sampling:\n",
    "\n",
    "- **Undersampling:** remover algunos patrones de la clase mayoritaria.\n",
    "\n",
    "- **Oversampling:** crear patrones sintéticos que se agregan a la clase minoritaria.\n",
    "\n",
    "- **Híbrido:** combinar **undersampling** y **oversampling**.\n",
    "\n",
    "\n",
    "- Vamos a utilizar la libreria **imblearn**:\n",
    "\n",
    "```python\n",
    "pip install imblearn\n",
    "```"
   ]
  },
  {
   "cell_type": "markdown",
   "id": "0809d655",
   "metadata": {},
   "source": [
    "### Algoritmo SMOTE\n",
    "\n",
    "\n",
    "**1.** Elegir un patrón de la clase minoritaría al azar.\n",
    "\n",
    "**2.** Encontrar los k-vecinos más cercanos del patrón elegido anteriormente.\n",
    "\n",
    "**3.** Seleccionar un vecino al azar y crear un patrón sintético en un punto al azar entre el patrón elegido al inicio y un vecino seleccionado al azar. "
   ]
  },
  {
   "cell_type": "code",
   "execution_count": null,
   "id": "4225997c",
   "metadata": {},
   "outputs": [],
   "source": [
    "import numpy as np\n",
    "import pandas as pd\n",
    "import matplotlib.pyplot as plt\n",
    "import seaborn as sns"
   ]
  },
  {
   "cell_type": "code",
   "execution_count": null,
   "id": "7a5f4108",
   "metadata": {},
   "outputs": [],
   "source": [
    "# Crea un dataset artificial \n",
    "\n",
    "from sklearn.datasets import make_classification\n",
    "\n",
    "X, y = make_classification(n_samples            = 600,\n",
    "                           n_features           = 2,\n",
    "                           n_redundant          = 0,\n",
    "                           n_clusters_per_class = 1,\n",
    "                           weights              = [0.9, 0.10],\n",
    "                           random_state         = 5)"
   ]
  },
  {
   "cell_type": "code",
   "execution_count": null,
   "id": "25b312cd",
   "metadata": {},
   "outputs": [],
   "source": [
    "from collections import Counter\n",
    "\n",
    "Counter(y)"
   ]
  },
  {
   "cell_type": "code",
   "execution_count": null,
   "id": "41a22aee",
   "metadata": {},
   "outputs": [],
   "source": [
    "plt.figure(figsize = (10, 8))\n",
    "\n",
    "# Puntos Clase 0 (mayoritaria)\n",
    "plt.scatter(X[np.where(y == 0)[0], 0], X[np.where(y == 0), 1])\n",
    "\n",
    "# Puntos Clase 1 (minoritaria)\n",
    "plt.scatter(X[np.where(y == 1)[0], 0], X[np.where(y == 1), 1])\n",
    "\n",
    "plt.show()"
   ]
  },
  {
   "cell_type": "markdown",
   "id": "69c28e39",
   "metadata": {},
   "source": [
    "**SMOTE (oversampling)**"
   ]
  },
  {
   "cell_type": "code",
   "execution_count": null,
   "id": "22a349eb",
   "metadata": {},
   "outputs": [],
   "source": [
    "from imblearn.over_sampling import SMOTE \n",
    "\n",
    "oversampling = SMOTE()\n",
    "X_balanceado, y_balanceado = oversampling.fit_resample(X, y) # Se obtienen nuevos X e y"
   ]
  },
  {
   "cell_type": "code",
   "execution_count": null,
   "id": "a139eded",
   "metadata": {},
   "outputs": [],
   "source": [
    "Counter(y_balanceado)"
   ]
  },
  {
   "cell_type": "code",
   "execution_count": null,
   "id": "c47114a1",
   "metadata": {},
   "outputs": [],
   "source": [
    "plt.figure(figsize = (10, 8))\n",
    "\n",
    "# Nuevos puntos, creados sinteticamente\n",
    "\n",
    "# Puntos Clase 0\n",
    "plt.scatter(X_balanceado[np.where(y_balanceado == 0)[0], 0], X_balanceado[np.where(y_balanceado == 0), 1])\n",
    "\n",
    "# Puntos Clase 1 (SOMTE)\n",
    "plt.scatter(X_balanceado[np.where(y_balanceado == 1)[0], 0], X_balanceado[np.where(y_balanceado == 1), 1])\n",
    "\n",
    "# Puntos Clase 1 (originales)\n",
    "plt.scatter(X[np.where(y == 1)[0], 0], X[np.where(y == 1), 1])\n",
    "\n",
    "plt.show()"
   ]
  },
  {
   "cell_type": "code",
   "execution_count": null,
   "id": "f2f45064",
   "metadata": {},
   "outputs": [],
   "source": [
    "# Podemos elegir el porcentaje de la clase mayoritaria que se agrege a la clase minoritaría \n",
    "\n",
    "oversampling = SMOTE(sampling_strategy = 0.8)  # Queremos un 80% del tamaño de la clase mayoritaria\n",
    "X_balanceado, y_balanceado = oversampling.fit_resample(X, y) # Se obtienen nuevos X e y\n",
    "\n",
    "\n",
    "# Plot\n",
    "plt.figure(figsize = (10, 8))\n",
    "\n",
    "# Puntos Clase 0\n",
    "plt.scatter(X_balanceado[np.where(y_balanceado == 0)[0], 0], X_balanceado[np.where(y_balanceado == 0), 1])\n",
    "\n",
    "# Puntos Clase 1 (SOMTE)\n",
    "plt.scatter(X_balanceado[np.where(y_balanceado == 1)[0], 0], X_balanceado[np.where(y_balanceado == 1), 1])\n",
    "\n",
    "# Puntos Clase 1 (originales)\n",
    "plt.scatter(X[np.where(y == 1)[0], 0], X[np.where(y == 1), 1])\n",
    "\n",
    "plt.show()"
   ]
  },
  {
   "cell_type": "code",
   "execution_count": null,
   "id": "e7eb6737",
   "metadata": {},
   "outputs": [],
   "source": [
    "Counter(y_balanceado) # 430 es un 80% de 538"
   ]
  },
  {
   "cell_type": "markdown",
   "id": "f7f3e99c",
   "metadata": {},
   "source": [
    "**Undersampling**"
   ]
  },
  {
   "cell_type": "code",
   "execution_count": null,
   "id": "b8409000",
   "metadata": {},
   "outputs": [],
   "source": [
    "X.shape, y.shape"
   ]
  },
  {
   "cell_type": "code",
   "execution_count": null,
   "id": "9be1b55a",
   "metadata": {},
   "outputs": [],
   "source": [
    "Counter(y)"
   ]
  },
  {
   "cell_type": "code",
   "execution_count": null,
   "id": "580f3089",
   "metadata": {},
   "outputs": [],
   "source": [
    "from imblearn.under_sampling import RandomUnderSampler\n",
    "\n",
    "undersampling = RandomUnderSampler(sampling_strategy = 0.2) # Especificamos que la clase minoritaria represente el 80% de la clase mayoritaria\n",
    "X_balanceado, y_balanceado = undersampling.fit_resample(X, y) # Se obtienen nuevos X e y"
   ]
  },
  {
   "cell_type": "code",
   "execution_count": null,
   "id": "8d2afc66",
   "metadata": {},
   "outputs": [],
   "source": [
    "Counter(y_balanceado)"
   ]
  },
  {
   "cell_type": "code",
   "execution_count": null,
   "id": "679b10fa",
   "metadata": {},
   "outputs": [],
   "source": [
    "62/0.2"
   ]
  },
  {
   "cell_type": "code",
   "execution_count": null,
   "id": "73ef9837",
   "metadata": {},
   "outputs": [],
   "source": [
    "plt.figure(figsize = (10, 8))\n",
    "\n",
    "# Nuevos puntos, creados sinteticamente\n",
    "\n",
    "# Puntos Clase 0 (Undersampling)\n",
    "plt.scatter(X_balanceado[np.where(y_balanceado == 0)[0], 0], X_balanceado[np.where(y_balanceado == 0), 1])\n",
    "\n",
    "# Puntos Clase 1\n",
    "plt.scatter(X_balanceado[np.where(y_balanceado == 1)[0], 0], X_balanceado[np.where(y_balanceado == 1), 1])\n",
    "\n",
    "plt.show()"
   ]
  },
  {
   "cell_type": "code",
   "execution_count": null,
   "id": "29814af6",
   "metadata": {},
   "outputs": [],
   "source": [
    "################################################################################################################################"
   ]
  }
 ],
 "metadata": {
  "kernelspec": {
   "display_name": "Python 3",
   "language": "python",
   "name": "python3"
  },
  "language_info": {
   "codemirror_mode": {
    "name": "ipython",
    "version": 3
   },
   "file_extension": ".py",
   "mimetype": "text/x-python",
   "name": "python",
   "nbconvert_exporter": "python",
   "pygments_lexer": "ipython3",
   "version": "3.8.8"
  }
 },
 "nbformat": 4,
 "nbformat_minor": 5
}
