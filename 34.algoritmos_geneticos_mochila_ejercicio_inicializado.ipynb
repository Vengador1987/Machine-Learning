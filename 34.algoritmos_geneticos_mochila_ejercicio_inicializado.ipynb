{
 "cells": [
  {
   "cell_type": "markdown",
   "id": "f4629a61",
   "metadata": {},
   "source": [
    "## Algoritmos Genéticos: Problema de la Mochila\n",
    "\n",
    "Siguiendo los pasos de la teoria de Algoritmos Genéticos, has el algoritmo del problema de la mochila.\n",
    "\n",
    "- Población Inicial: 20\n",
    "- Número de Genes: 20\n",
    "- Probabilidad de Cruce: 0.9\n",
    "- Probabilidad de Mutación: 0.1\n",
    "- Peso Maximo = 2500"
   ]
  },
  {
   "cell_type": "code",
   "execution_count": 1,
   "id": "ffd12930",
   "metadata": {},
   "outputs": [],
   "source": [
    "import random"
   ]
  },
  {
   "cell_type": "code",
   "execution_count": 2,
   "id": "18591134",
   "metadata": {},
   "outputs": [
    {
     "name": "stdout",
     "output_type": "stream",
     "text": [
      "['objeto_0', 'objeto_1', 'objeto_2', 'objeto_3', 'objeto_4', 'objeto_5', 'objeto_6', 'objeto_7', 'objeto_8', 'objeto_9', 'objeto_10', 'objeto_11', 'objeto_12', 'objeto_13', 'objeto_14', 'objeto_15', 'objeto_16', 'objeto_17', 'objeto_18', 'objeto_19']\n"
     ]
    }
   ],
   "source": [
    "n_genes = 20\n",
    "peso_max = 2500\n",
    "n_poblacion = 20 \n",
    "\n",
    "nombres = [f\"objeto_{i}\" for i in range(n_genes)]\n",
    "print(nombres)"
   ]
  },
  {
   "cell_type": "code",
   "execution_count": 3,
   "id": "406b08f5",
   "metadata": {},
   "outputs": [
    {
     "name": "stdout",
     "output_type": "stream",
     "text": [
      "[138, 268, 386, 129, 145, 351, 168, 213, 250, 113, 109, 141, 274, 148, 337, 383, 258, 317, 187, 234]\n"
     ]
    }
   ],
   "source": [
    "pesos = [random.randint(100, 400) for i in range(n_genes)]\n",
    "print(pesos)"
   ]
  },
  {
   "cell_type": "code",
   "execution_count": 4,
   "id": "1065465a",
   "metadata": {},
   "outputs": [
    {
     "name": "stdout",
     "output_type": "stream",
     "text": [
      "[684, 724, 621, 796, 756, 760, 796, 623, 607, 784, 765, 755, 723, 657, 717, 683, 719, 557, 546, 638]\n"
     ]
    }
   ],
   "source": [
    "valores = [random.randint(500, 800) for i in range(n_genes)]\n",
    "print(valores)"
   ]
  },
  {
   "cell_type": "code",
   "execution_count": 5,
   "id": "48b5207c",
   "metadata": {},
   "outputs": [
    {
     "name": "stdout",
     "output_type": "stream",
     "text": [
      "objeto_0 684 138\n",
      "objeto_1 724 268\n",
      "objeto_2 621 386\n",
      "objeto_3 796 129\n",
      "objeto_4 756 145\n",
      "objeto_5 760 351\n",
      "objeto_6 796 168\n",
      "objeto_7 623 213\n",
      "objeto_8 607 250\n",
      "objeto_9 784 113\n",
      "objeto_10 765 109\n",
      "objeto_11 755 141\n",
      "objeto_12 723 274\n",
      "objeto_13 657 148\n",
      "objeto_14 717 337\n",
      "objeto_15 683 383\n",
      "objeto_16 719 258\n",
      "objeto_17 557 317\n",
      "objeto_18 546 187\n",
      "objeto_19 638 234\n"
     ]
    }
   ],
   "source": [
    "for x, y, z in zip(nombres, valores, pesos):\n",
    "    print(x, y, z)"
   ]
  },
  {
   "cell_type": "code",
   "execution_count": 6,
   "id": "d4b79c1f",
   "metadata": {},
   "outputs": [
    {
     "data": {
      "text/plain": [
       "[1, 0, 0, 0, 0, 1, 1, 1, 0, 1, 0, 1, 1, 1, 1, 1, 0, 1, 1, 1]"
      ]
     },
     "execution_count": 6,
     "metadata": {},
     "output_type": "execute_result"
    }
   ],
   "source": [
    "individuo = [random.randint(0, 1) for i in range(n_genes)]\n",
    "\n",
    "individuo"
   ]
  },
  {
   "cell_type": "code",
   "execution_count": 7,
   "id": "9cb1e9b8",
   "metadata": {},
   "outputs": [
    {
     "name": "stdout",
     "output_type": "stream",
     "text": [
      "1 138\n",
      "0 268\n",
      "0 386\n",
      "0 129\n",
      "0 145\n",
      "1 351\n",
      "1 168\n",
      "1 213\n",
      "0 250\n",
      "1 113\n",
      "0 109\n",
      "1 141\n",
      "1 274\n",
      "1 148\n",
      "1 337\n",
      "1 383\n",
      "0 258\n",
      "1 317\n",
      "1 187\n",
      "1 234\n"
     ]
    }
   ],
   "source": [
    "for x, y in zip(individuo, pesos):\n",
    "    print(x, y)"
   ]
  },
  {
   "cell_type": "code",
   "execution_count": 8,
   "id": "d43ab80e",
   "metadata": {},
   "outputs": [
    {
     "data": {
      "text/plain": [
       "3004"
      ]
     },
     "execution_count": 8,
     "metadata": {},
     "output_type": "execute_result"
    }
   ],
   "source": [
    "import numpy as np\n",
    "\n",
    "np.dot(individuo, pesos)"
   ]
  },
  {
   "cell_type": "code",
   "execution_count": 9,
   "id": "8943eb4e",
   "metadata": {},
   "outputs": [
    {
     "data": {
      "text/plain": [
       "8923"
      ]
     },
     "execution_count": 9,
     "metadata": {},
     "output_type": "execute_result"
    }
   ],
   "source": [
    "np.dot(individuo, valores)"
   ]
  },
  {
   "cell_type": "code",
   "execution_count": 10,
   "id": "61ce2d1e",
   "metadata": {},
   "outputs": [],
   "source": [
    "def inicializar_poblacion(n_poblacion, n_genes, peso_max, pesos):\n",
    "    poblacion = list()\n",
    "\n",
    "    while len(poblacion) < n_poblacion:\n",
    "        individuo = [random.randint(0, 1) for i in range(n_genes)]\n",
    "\n",
    "        peso_individuo = np.dot(individuo, pesos)\n",
    "\n",
    "        if peso_individuo <= peso_max:\n",
    "            poblacion.append(individuo)\n",
    "    return poblacion"
   ]
  },
  {
   "cell_type": "code",
   "execution_count": 11,
   "id": "cbb176e6",
   "metadata": {},
   "outputs": [
    {
     "data": {
      "text/plain": [
       "[[1, 1, 0, 0, 0, 1, 1, 0, 1, 1, 0, 1, 1, 0, 0, 0, 0, 1, 1, 0],\n",
       " [0, 0, 0, 1, 1, 1, 0, 0, 1, 0, 0, 1, 1, 0, 0, 0, 0, 0, 0, 0],\n",
       " [0, 0, 0, 1, 1, 0, 1, 0, 1, 0, 0, 0, 0, 1, 1, 0, 0, 1, 0, 1],\n",
       " [1, 0, 1, 0, 1, 0, 1, 0, 1, 0, 0, 1, 0, 0, 1, 0, 1, 0, 0, 1],\n",
       " [1, 0, 0, 0, 1, 0, 0, 1, 1, 0, 1, 0, 0, 1, 0, 1, 0, 1, 1, 0],\n",
       " [0, 1, 1, 0, 0, 1, 0, 0, 1, 1, 1, 1, 0, 0, 0, 1, 0, 0, 0, 1],\n",
       " [0, 0, 1, 1, 0, 0, 1, 1, 1, 1, 1, 1, 1, 1, 0, 0, 0, 0, 1, 1],\n",
       " [0, 0, 0, 1, 0, 0, 0, 0, 0, 1, 1, 1, 0, 0, 0, 0, 0, 0, 0, 1],\n",
       " [0, 1, 0, 1, 0, 0, 0, 1, 0, 0, 1, 0, 1, 1, 0, 1, 1, 0, 0, 0],\n",
       " [1, 1, 0, 0, 1, 0, 1, 0, 1, 0, 0, 1, 1, 0, 0, 1, 1, 0, 1, 1],\n",
       " [0, 0, 0, 0, 1, 0, 0, 1, 0, 1, 0, 0, 0, 1, 0, 1, 0, 1, 0, 0],\n",
       " [0, 1, 0, 1, 1, 1, 0, 0, 0, 1, 1, 1, 1, 0, 0, 1, 1, 1, 0, 0],\n",
       " [0, 1, 1, 1, 0, 0, 1, 0, 0, 1, 0, 1, 0, 0, 1, 1, 1, 0, 0, 1],\n",
       " [0, 1, 1, 1, 1, 0, 0, 0, 0, 0, 1, 0, 0, 1, 0, 0, 0, 1, 0, 1],\n",
       " [1, 0, 0, 1, 1, 0, 0, 1, 1, 1, 1, 1, 1, 1, 0, 1, 0, 1, 0, 0],\n",
       " [1, 0, 0, 1, 1, 1, 1, 0, 1, 0, 1, 0, 0, 0, 0, 1, 1, 1, 0, 0],\n",
       " [0, 1, 1, 1, 0, 0, 1, 0, 1, 0, 1, 1, 1, 0, 1, 0, 0, 0, 1, 0],\n",
       " [1, 1, 0, 0, 0, 0, 0, 1, 0, 0, 0, 0, 1, 1, 0, 0, 0, 1, 1, 0],\n",
       " [1, 1, 0, 0, 1, 1, 0, 0, 0, 0, 1, 1, 0, 1, 1, 0, 0, 1, 1, 0],\n",
       " [1, 0, 1, 0, 0, 0, 1, 0, 0, 1, 1, 1, 1, 1, 1, 1, 0, 0, 0, 0]]"
      ]
     },
     "execution_count": 11,
     "metadata": {},
     "output_type": "execute_result"
    }
   ],
   "source": [
    "poblacion = inicializar_poblacion(n_poblacion, n_genes, peso_max, pesos)\n",
    "poblacion"
   ]
  },
  {
   "cell_type": "code",
   "execution_count": 12,
   "id": "a6303f1e",
   "metadata": {},
   "outputs": [
    {
     "name": "stdout",
     "output_type": "stream",
     "text": [
      "0 6936 2207\n",
      "1 4397 1290\n",
      "2 5524 1728\n",
      "3 6293 2057\n",
      "4 5878 1890\n",
      "5 6337 2235\n",
      "6 8311 2352\n",
      "7 3738 726\n",
      "8 5690 1782\n",
      "9 7631 2446\n",
      "10 4060 1319\n",
      "11 8022 2488\n",
      "12 7233 2417\n",
      "13 5514 1736\n",
      "14 8390 2360\n",
      "15 7123 2248\n",
      "16 7050 2249\n",
      "17 4514 1545\n",
      "18 6921 2141\n",
      "19 7185 2197\n"
     ]
    }
   ],
   "source": [
    "for num, individuo in enumerate(poblacion):\n",
    "    print(num, np.dot(individuo, valores), np.dot(individuo, pesos))"
   ]
  },
  {
   "cell_type": "code",
   "execution_count": null,
   "id": "caa2ddb8",
   "metadata": {},
   "outputs": [],
   "source": []
  }
 ],
 "metadata": {
  "kernelspec": {
   "display_name": "Python 3 (ipykernel)",
   "language": "python",
   "name": "python3"
  },
  "language_info": {
   "codemirror_mode": {
    "name": "ipython",
    "version": 3
   },
   "file_extension": ".py",
   "mimetype": "text/x-python",
   "name": "python",
   "nbconvert_exporter": "python",
   "pygments_lexer": "ipython3",
   "version": "3.9.7"
  }
 },
 "nbformat": 4,
 "nbformat_minor": 5
}
