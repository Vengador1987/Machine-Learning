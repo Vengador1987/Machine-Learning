{
 "cells": [
  {
   "cell_type": "markdown",
   "id": "f4629a61",
   "metadata": {},
   "source": [
    "## Algoritmos Genéticos: Problema de la Mochila\n",
    "\n",
    "Siguiendo los pasos de la teoria de Algoritmos Genéticos, has el algoritmo del problema de la mochila.\n",
    "\n",
    "- Población Inicial: 20\n",
    "- Número de Genes: 20\n",
    "- Probabilidad de Cruce: 0.9\n",
    "- Probabilidad de Mutación: 0.1\n",
    "- Peso Maximo = 2500"
   ]
  },
  {
   "cell_type": "code",
   "execution_count": 1,
   "id": "ffd12930",
   "metadata": {},
   "outputs": [],
   "source": [
    "import random"
   ]
  },
  {
   "cell_type": "code",
   "execution_count": 2,
   "id": "18591134",
   "metadata": {},
   "outputs": [
    {
     "name": "stdout",
     "output_type": "stream",
     "text": [
      "['objeto_0', 'objeto_1', 'objeto_2', 'objeto_3', 'objeto_4', 'objeto_5', 'objeto_6', 'objeto_7', 'objeto_8', 'objeto_9', 'objeto_10', 'objeto_11', 'objeto_12', 'objeto_13', 'objeto_14', 'objeto_15', 'objeto_16', 'objeto_17', 'objeto_18', 'objeto_19']\n"
     ]
    }
   ],
   "source": [
    "n_genes = 20\n",
    "peso_max = 2500\n",
    "n_poblacion = 20 \n",
    "\n",
    "nombres = [f\"objeto_{i}\" for i in range(n_genes)]\n",
    "print(nombres)"
   ]
  },
  {
   "cell_type": "code",
   "execution_count": 3,
   "id": "406b08f5",
   "metadata": {},
   "outputs": [
    {
     "name": "stdout",
     "output_type": "stream",
     "text": [
      "[112, 186, 310, 150, 332, 240, 166, 295, 302, 391, 150, 301, 202, 271, 250, 346, 236, 176, 363, 113]\n"
     ]
    }
   ],
   "source": [
    "pesos = [random.randint(100, 400) for i in range(n_genes)]\n",
    "print(pesos)"
   ]
  },
  {
   "cell_type": "code",
   "execution_count": 4,
   "id": "1065465a",
   "metadata": {},
   "outputs": [
    {
     "name": "stdout",
     "output_type": "stream",
     "text": [
      "[691, 633, 766, 531, 723, 602, 745, 706, 653, 649, 572, 646, 610, 568, 634, 505, 561, 704, 651, 744]\n"
     ]
    }
   ],
   "source": [
    "valores = [random.randint(500, 800) for i in range(n_genes)]\n",
    "print(valores)"
   ]
  },
  {
   "cell_type": "code",
   "execution_count": 5,
   "id": "48b5207c",
   "metadata": {},
   "outputs": [
    {
     "name": "stdout",
     "output_type": "stream",
     "text": [
      "objeto_0 691 112\n",
      "objeto_1 633 186\n",
      "objeto_2 766 310\n",
      "objeto_3 531 150\n",
      "objeto_4 723 332\n",
      "objeto_5 602 240\n",
      "objeto_6 745 166\n",
      "objeto_7 706 295\n",
      "objeto_8 653 302\n",
      "objeto_9 649 391\n",
      "objeto_10 572 150\n",
      "objeto_11 646 301\n",
      "objeto_12 610 202\n",
      "objeto_13 568 271\n",
      "objeto_14 634 250\n",
      "objeto_15 505 346\n",
      "objeto_16 561 236\n",
      "objeto_17 704 176\n",
      "objeto_18 651 363\n",
      "objeto_19 744 113\n"
     ]
    }
   ],
   "source": [
    "for x, y, z in zip(nombres, valores, pesos):\n",
    "    print(x, y, z)"
   ]
  },
  {
   "cell_type": "code",
   "execution_count": 6,
   "id": "d4b79c1f",
   "metadata": {},
   "outputs": [
    {
     "data": {
      "text/plain": [
       "[1, 1, 0, 1, 1, 0, 1, 1, 0, 1, 0, 1, 0, 1, 0, 0, 1, 1, 1, 0]"
      ]
     },
     "execution_count": 6,
     "metadata": {},
     "output_type": "execute_result"
    }
   ],
   "source": [
    "individuo = [random.randint(0, 1) for i in range(n_genes)]\n",
    "\n",
    "individuo"
   ]
  },
  {
   "cell_type": "code",
   "execution_count": 7,
   "id": "9cb1e9b8",
   "metadata": {},
   "outputs": [
    {
     "name": "stdout",
     "output_type": "stream",
     "text": [
      "1 112\n",
      "1 186\n",
      "0 310\n",
      "1 150\n",
      "1 332\n",
      "0 240\n",
      "1 166\n",
      "1 295\n",
      "0 302\n",
      "1 391\n",
      "0 150\n",
      "1 301\n",
      "0 202\n",
      "1 271\n",
      "0 250\n",
      "0 346\n",
      "1 236\n",
      "1 176\n",
      "1 363\n",
      "0 113\n"
     ]
    }
   ],
   "source": [
    "for x, y in zip(individuo, pesos):\n",
    "    print(x, y)"
   ]
  },
  {
   "cell_type": "code",
   "execution_count": 8,
   "id": "d43ab80e",
   "metadata": {},
   "outputs": [
    {
     "data": {
      "text/plain": [
       "2979"
      ]
     },
     "execution_count": 8,
     "metadata": {},
     "output_type": "execute_result"
    }
   ],
   "source": [
    "import numpy as np\n",
    "\n",
    "np.dot(individuo, pesos)"
   ]
  },
  {
   "cell_type": "code",
   "execution_count": 9,
   "id": "8943eb4e",
   "metadata": {},
   "outputs": [
    {
     "data": {
      "text/plain": [
       "7808"
      ]
     },
     "execution_count": 9,
     "metadata": {},
     "output_type": "execute_result"
    }
   ],
   "source": [
    "np.dot(individuo, valores)"
   ]
  },
  {
   "cell_type": "code",
   "execution_count": 10,
   "id": "61ce2d1e",
   "metadata": {},
   "outputs": [],
   "source": [
    "def inicializar_poblacion(n_poblacion, n_genes, peso_max):\n",
    "    poblacion = list()\n",
    "\n",
    "    while len(poblacion) < n_poblacion:\n",
    "        individuo = [random.randint(0, 1) for i in range(n_genes)]\n",
    "\n",
    "        peso_individuo = np.dot(individuo, pesos)\n",
    "\n",
    "        if peso_individuo <= peso_max:\n",
    "            poblacion.append(individuo)\n",
    "    return poblacion"
   ]
  },
  {
   "cell_type": "code",
   "execution_count": 11,
   "id": "cbb176e6",
   "metadata": {},
   "outputs": [
    {
     "data": {
      "text/plain": [
       "[[0, 1, 1, 0, 0, 0, 0, 0, 1, 0, 0, 1, 1, 0, 1, 0, 1, 1, 0, 0],\n",
       " [1, 0, 0, 1, 0, 1, 0, 0, 0, 1, 0, 0, 1, 0, 0, 0, 0, 1, 1, 1],\n",
       " [1, 1, 0, 0, 0, 0, 1, 1, 1, 0, 0, 1, 1, 1, 0, 0, 0, 0, 1, 0],\n",
       " [1, 0, 0, 1, 1, 0, 0, 0, 0, 1, 0, 1, 1, 1, 1, 0, 0, 1, 0, 1],\n",
       " [1, 1, 0, 1, 1, 0, 0, 0, 0, 0, 1, 1, 0, 1, 0, 0, 1, 0, 1, 0],\n",
       " [1, 0, 0, 0, 0, 0, 1, 1, 0, 0, 1, 0, 0, 0, 0, 0, 0, 0, 0, 0],\n",
       " [1, 0, 0, 0, 0, 1, 1, 0, 0, 1, 0, 1, 0, 0, 1, 1, 0, 1, 1, 1],\n",
       " [1, 0, 0, 0, 0, 0, 1, 1, 0, 1, 1, 0, 1, 0, 0, 0, 1, 1, 0, 1],\n",
       " [0, 1, 0, 0, 0, 1, 0, 0, 0, 0, 0, 0, 1, 0, 1, 0, 0, 0, 1, 0],\n",
       " [0, 0, 1, 0, 1, 1, 1, 0, 1, 1, 1, 0, 0, 0, 0, 1, 1, 0, 0, 0],\n",
       " [0, 0, 0, 0, 0, 0, 1, 1, 0, 0, 1, 1, 1, 0, 1, 1, 0, 1, 0, 1],\n",
       " [0, 1, 0, 0, 1, 0, 0, 0, 1, 1, 0, 0, 1, 1, 1, 0, 0, 0, 0, 0],\n",
       " [1, 0, 0, 0, 0, 0, 1, 0, 0, 0, 1, 1, 0, 0, 0, 1, 0, 0, 1, 0],\n",
       " [1, 1, 1, 0, 0, 0, 0, 1, 1, 0, 0, 1, 1, 1, 0, 0, 0, 1, 0, 1],\n",
       " [0, 0, 1, 1, 0, 1, 0, 1, 1, 0, 0, 0, 0, 0, 0, 0, 0, 0, 1, 0],\n",
       " [1, 1, 1, 1, 0, 1, 0, 1, 0, 1, 0, 0, 0, 1, 0, 0, 1, 1, 0, 0],\n",
       " [1, 0, 0, 1, 1, 1, 0, 0, 0, 1, 1, 0, 1, 0, 1, 0, 0, 0, 1, 0],\n",
       " [1, 0, 1, 1, 1, 0, 1, 0, 1, 1, 1, 0, 0, 0, 0, 0, 1, 1, 0, 0],\n",
       " [1, 1, 0, 0, 0, 0, 0, 1, 1, 0, 1, 1, 1, 0, 1, 0, 0, 1, 1, 1],\n",
       " [1, 0, 1, 0, 1, 1, 0, 0, 0, 1, 1, 0, 0, 0, 1, 0, 1, 0, 0, 1]]"
      ]
     },
     "execution_count": 11,
     "metadata": {},
     "output_type": "execute_result"
    }
   ],
   "source": [
    "poblacion = inicializar_poblacion(n_poblacion, n_genes, peso_max)\n",
    "poblacion"
   ]
  },
  {
   "cell_type": "code",
   "execution_count": 12,
   "id": "a6303f1e",
   "metadata": {},
   "outputs": [
    {
     "name": "stdout",
     "output_type": "stream",
     "text": [
      "0 5207 1963\n",
      "1 5182 1747\n",
      "2 5903 2198\n",
      "3 6500 2298\n",
      "4 5576 2101\n",
      "5 2714 723\n",
      "6 6571 2458\n",
      "7 5982 1841\n",
      "8 3130 1241\n",
      "9 5776 2473\n",
      "10 5866 1999\n",
      "11 4470 1934\n",
      "12 3810 1438\n",
      "13 6721 2268\n",
      "14 3909 1660\n",
      "15 6411 2367\n",
      "16 5663 2190\n",
      "17 6595 2325\n",
      "18 7244 2450\n",
      "19 5942 2134\n"
     ]
    }
   ],
   "source": [
    "for num, individuo in enumerate(poblacion):\n",
    "    print(num, np.dot(individuo, valores), np.dot(individuo, pesos))"
   ]
  },
  {
   "cell_type": "code",
   "execution_count": null,
   "id": "caa2ddb8",
   "metadata": {},
   "outputs": [],
   "source": []
  }
 ],
 "metadata": {
  "kernelspec": {
   "display_name": "Python 3 (ipykernel)",
   "language": "python",
   "name": "python3"
  },
  "language_info": {
   "codemirror_mode": {
    "name": "ipython",
    "version": 3
   },
   "file_extension": ".py",
   "mimetype": "text/x-python",
   "name": "python",
   "nbconvert_exporter": "python",
   "pygments_lexer": "ipython3",
   "version": "3.9.7"
  }
 },
 "nbformat": 4,
 "nbformat_minor": 5
}
