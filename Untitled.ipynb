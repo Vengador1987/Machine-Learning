{
 "cells": [
  {
   "cell_type": "code",
   "execution_count": 20,
   "id": "62f83e8b-1e9a-4e60-a039-6d9870c18883",
   "metadata": {},
   "outputs": [],
   "source": [
    "import random\n",
    "import numpy as np"
   ]
  },
  {
   "cell_type": "code",
   "execution_count": 21,
   "id": "da511f20-9654-4a2d-94ef-b6653644f73d",
   "metadata": {},
   "outputs": [],
   "source": [
    "probabilidad_cruce = 0.9\n",
    "probabilidad_mutacion = 0.1"
   ]
  },
  {
   "cell_type": "code",
   "execution_count": 22,
   "id": "e55a16f5-68eb-43a6-9966-375c670009fe",
   "metadata": {},
   "outputs": [],
   "source": [
    "n_genes = 20\n",
    "peso_max = 2500\n",
    "n_poblacion = 20 \n",
    "\n",
    "# nombres = [f\"objeto_{i}\" for i in range(n_genes)]\n",
    "# print(nombres)"
   ]
  },
  {
   "cell_type": "code",
   "execution_count": 23,
   "id": "42748b6e-fc5a-42e0-9815-7f42f6ff0f28",
   "metadata": {},
   "outputs": [
    {
     "name": "stdout",
     "output_type": "stream",
     "text": [
      "[288, 317, 253, 399, 263, 161, 367, 392, 226, 262, 114, 202, 133, 157, 358, 143, 196, 144, 277, 369]\n"
     ]
    }
   ],
   "source": [
    "pesos = [random.randint(100, 400) for i in range(n_genes)]\n",
    "print(pesos)"
   ]
  },
  {
   "cell_type": "code",
   "execution_count": 24,
   "id": "8673e96b-17c9-4a31-8505-c0cea9b27bbf",
   "metadata": {},
   "outputs": [
    {
     "name": "stdout",
     "output_type": "stream",
     "text": [
      "[589, 766, 590, 607, 789, 715, 617, 502, 523, 748, 636, 632, 720, 518, 595, 731, 733, 646, 607, 746]\n"
     ]
    }
   ],
   "source": [
    "valores = [random.randint(500, 800) for i in range(n_genes)]\n",
    "print(valores)"
   ]
  },
  {
   "cell_type": "code",
   "execution_count": 25,
   "id": "62d20aad-1dcf-410b-88c7-23b615196fe3",
   "metadata": {},
   "outputs": [],
   "source": [
    "def inicializar_poblacion(n_poblacion, n_genes, peso_max):\n",
    "    poblacion = list()\n",
    "\n",
    "    while len(poblacion) < n_poblacion:\n",
    "        individuo = [random.randint(0, 1) for i in range(n_genes)]\n",
    "\n",
    "        peso_individuo = np.dot(individuo, pesos)\n",
    "\n",
    "        if peso_individuo <= peso_max:\n",
    "            poblacion.append(individuo)\n",
    "    return poblacion"
   ]
  },
  {
   "cell_type": "code",
   "execution_count": 26,
   "id": "e853d2e4-fb20-4b18-a7e3-aef8c5099811",
   "metadata": {},
   "outputs": [
    {
     "data": {
      "text/plain": [
       "[[0, 0, 0, 0, 1, 1, 0, 1, 0, 1, 0, 1, 0, 0, 1, 1, 0, 1, 1, 0],\n",
       " [1, 0, 1, 1, 0, 1, 1, 0, 0, 0, 0, 1, 0, 0, 0, 0, 1, 1, 0, 0],\n",
       " [0, 0, 0, 1, 0, 1, 0, 1, 1, 0, 1, 0, 1, 0, 0, 1, 1, 1, 0, 1],\n",
       " [1, 1, 0, 0, 1, 0, 0, 0, 1, 1, 0, 1, 1, 0, 1, 1, 0, 0, 0, 0],\n",
       " [1, 0, 0, 1, 1, 0, 1, 1, 0, 0, 0, 0, 0, 0, 0, 1, 0, 0, 1, 1],\n",
       " [0, 0, 0, 0, 1, 1, 0, 0, 0, 0, 1, 0, 0, 1, 0, 1, 0, 0, 0, 0],\n",
       " [0, 0, 0, 1, 1, 1, 0, 1, 0, 1, 0, 0, 0, 1, 0, 0, 0, 1, 1, 0],\n",
       " [1, 1, 0, 1, 1, 0, 0, 0, 0, 0, 0, 0, 1, 1, 1, 1, 0, 0, 0, 1],\n",
       " [1, 0, 1, 1, 1, 0, 0, 0, 1, 0, 1, 0, 1, 1, 0, 1, 0, 1, 0, 0],\n",
       " [1, 0, 0, 0, 0, 1, 1, 0, 1, 0, 0, 0, 0, 0, 1, 0, 0, 0, 1, 1],\n",
       " [1, 0, 0, 0, 1, 1, 0, 1, 1, 0, 1, 1, 1, 0, 0, 0, 0, 1, 1, 0],\n",
       " [0, 1, 1, 1, 0, 0, 0, 0, 0, 0, 1, 1, 1, 0, 1, 1, 0, 0, 1, 0],\n",
       " [1, 0, 1, 0, 0, 0, 0, 1, 0, 0, 1, 1, 1, 1, 0, 1, 0, 0, 1, 0],\n",
       " [0, 1, 0, 0, 1, 1, 0, 0, 1, 1, 0, 1, 1, 0, 1, 1, 0, 0, 0, 0],\n",
       " [1, 1, 1, 0, 1, 0, 0, 0, 1, 0, 1, 1, 1, 1, 0, 0, 0, 0, 0, 1],\n",
       " [0, 0, 1, 1, 0, 0, 0, 1, 1, 1, 1, 0, 1, 0, 0, 0, 0, 1, 1, 0],\n",
       " [0, 0, 1, 1, 1, 0, 0, 1, 0, 1, 0, 1, 0, 1, 1, 0, 1, 0, 0, 0],\n",
       " [1, 0, 0, 1, 1, 0, 0, 1, 1, 0, 0, 0, 1, 1, 0, 0, 0, 0, 0, 1],\n",
       " [0, 1, 0, 1, 0, 1, 0, 1, 0, 1, 1, 0, 1, 0, 0, 0, 0, 0, 0, 1],\n",
       " [1, 0, 1, 0, 1, 1, 0, 0, 0, 0, 1, 1, 1, 1, 0, 1, 1, 1, 0, 1]]"
      ]
     },
     "execution_count": 26,
     "metadata": {},
     "output_type": "execute_result"
    }
   ],
   "source": [
    "poblacion = inicializar_poblacion(n_poblacion, n_genes, peso_max)\n",
    "poblacion"
   ]
  },
  {
   "cell_type": "code",
   "execution_count": 27,
   "id": "a8eebe14-dedd-4c05-bd84-7838fe0bd343",
   "metadata": {},
   "outputs": [
    {
     "name": "stdout",
     "output_type": "stream",
     "text": [
      "0 5965 2202\n",
      "1 5129 2010\n",
      "2 6559 2277\n",
      "3 6093 2192\n",
      "4 5188 2498\n",
      "5 3389 838\n",
      "6 5132 2055\n",
      "7 6061 2427\n",
      "8 6349 2120\n",
      "9 4392 2046\n",
      "10 6359 2200\n",
      "11 5884 2196\n",
      "12 5525 1959\n",
      "13 6219 2065\n",
      "14 6509 2322\n",
      "15 5579 2200\n",
      "16 5714 2482\n",
      "17 4994 2227\n",
      "18 5440 2147\n",
      "19 8045 2423\n"
     ]
    }
   ],
   "source": [
    "for num, individuo in enumerate(poblacion):\n",
    "    print(num, np.dot(individuo, valores), np.dot(individuo, pesos))"
   ]
  },
  {
   "cell_type": "code",
   "execution_count": 28,
   "id": "7f176a37-825e-4d58-8cc3-2b9a17b42cb6",
   "metadata": {},
   "outputs": [],
   "source": [
    "# Selección por torneo\n",
    "def elegir_padre(poblacion, n_candidatos):\n",
    "    \n",
    "    candidatos = random.sample(population = poblacion, k = n_candidatos)\n",
    "    \n",
    "    lista_valor = list()\n",
    "\n",
    "    for num, individuo in enumerate(candidatos):\n",
    "        lista_valor.append([num, np.dot(individuo, valores)])\n",
    "\n",
    "    seleccion = sorted(lista_valor, key = lambda x : x[1])[-1] # lista: [posicion, valor]\n",
    "    \n",
    "    padre = candidatos[seleccion[0]] # individuo padre a partir de \"posicion\"\n",
    "    \n",
    "    return padre"
   ]
  },
  {
   "cell_type": "code",
   "execution_count": 29,
   "id": "8d50901e-dab3-45f6-9e3d-fc4e31d6a0c8",
   "metadata": {},
   "outputs": [
    {
     "name": "stdout",
     "output_type": "stream",
     "text": [
      "[1, 1, 1, 0, 1, 0, 0, 0, 1, 0, 1, 1, 1, 1, 0, 0, 0, 0, 0, 1]\n",
      "[1, 0, 0, 0, 1, 1, 0, 1, 1, 0, 1, 1, 1, 0, 0, 0, 0, 1, 1, 0]\n"
     ]
    }
   ],
   "source": [
    "k = 5\n",
    "\n",
    "padre1 = elegir_padre(poblacion, k)\n",
    "padre2 = elegir_padre(poblacion, k)\n",
    "print(padre1)\n",
    "print(padre2)"
   ]
  },
  {
   "cell_type": "code",
   "execution_count": 30,
   "id": "c7926396-9dd4-4ea0-ae6c-26180bfe4dc8",
   "metadata": {},
   "outputs": [],
   "source": [
    "def cruce(padre1, padre2, probabilidad_cruce, n_genes, peso_max):\n",
    "\n",
    "    hijo1 = list()\n",
    "    hijo2 = list()\n",
    "    \n",
    "    # Cruzamiento binario uniforme\n",
    "    if random.random() < probabilidad_cruce:\n",
    "\n",
    "        # 1: padre1, 2: padre2\n",
    "\n",
    "        for i in range(n_genes):\n",
    "            padre = random.randint(1, 2)\n",
    "            if padre == 1:\n",
    "                hijo1.append(padre1[i])\n",
    "                hijo2.append(padre2[i])\n",
    "            else:\n",
    "                hijo1.append(padre2[i])\n",
    "                hijo2.append(padre1[i])\n",
    "    \n",
    "        # Si alguno supera el peso máximo, se repite el proceso\n",
    "        if (np.dot(hijo1, pesos) > peso_max) or (np.dot(hijo2, pesos) > peso_max):\n",
    "            hijo1, hijo2 = cruce(padre1, padre2, probabilidad_cruce, n_genes, peso_max)\n",
    "    \n",
    "    else:\n",
    "        # Si la probabilidad de cruce impide generar hijos, se repite el proceso\n",
    "        hijo1, hijo2 = cruce(padre1, padre2, probabilidad_cruce, n_genes, peso_max)\n",
    "    \n",
    "    return hijo1, hijo2"
   ]
  },
  {
   "cell_type": "code",
   "execution_count": 31,
   "id": "1adaa285-071a-407b-9c4f-fef42211c54b",
   "metadata": {},
   "outputs": [],
   "source": [
    "for i in range(1_000_000):\n",
    "    hijo1, hijo2 = cruce(padre1, padre2, probabilidad_cruce, n_genes, peso_max)"
   ]
  },
  {
   "cell_type": "code",
   "execution_count": 12,
   "id": "cd88945c-3c96-451d-8f49-98d912d55ca4",
   "metadata": {},
   "outputs": [],
   "source": [
    "hijo1, hijo2 = cruce(padre1, padre2, probabilidad_cruce, n_genes, peso_max)"
   ]
  },
  {
   "cell_type": "code",
   "execution_count": 13,
   "id": "ffe6ee6a-dbd4-4a1d-b724-e226cc96cedd",
   "metadata": {},
   "outputs": [
    {
     "data": {
      "text/plain": [
       "[1, 1, 0, 0, 1, 0, 1, 0, 1, 0, 1, 0, 1, 0, 0, 1, 1, 0, 0, 1]"
      ]
     },
     "execution_count": 13,
     "metadata": {},
     "output_type": "execute_result"
    }
   ],
   "source": [
    "hijo1"
   ]
  },
  {
   "cell_type": "code",
   "execution_count": 14,
   "id": "4472bf0b-e41c-47be-8a87-9366d4c42ae0",
   "metadata": {},
   "outputs": [
    {
     "data": {
      "text/plain": [
       "[0, 0, 1, 1, 1, 0, 1, 1, 0, 0, 1, 0, 0, 0, 0, 1, 1, 1, 0, 1]"
      ]
     },
     "execution_count": 14,
     "metadata": {},
     "output_type": "execute_result"
    }
   ],
   "source": [
    "hijo2"
   ]
  },
  {
   "cell_type": "code",
   "execution_count": 15,
   "id": "f7c26bae-79af-4821-9ddb-853cf706adcb",
   "metadata": {},
   "outputs": [],
   "source": [
    "# Mutación binaria\n",
    "def mutacion(probabilidad_mutacion, hijo1, hijo2, peso_max):\n",
    "\n",
    "    hijo1_copia = hijo1.copy()\n",
    "    hijo2_copia = hijo2.copy()\n",
    "\n",
    "    if random.random() < probabilidad_mutacion:\n",
    "        posicion = random.randint(0, 19)\n",
    "#         print(posicion)\n",
    "\n",
    "        if hijo1_copia[posicion] == 0:\n",
    "            hijo1_copia[posicion] = 1\n",
    "        else:\n",
    "            hijo1_copia[posicion] = 0\n",
    "        if hijo2_copia[posicion] == 0:\n",
    "            hijo2_copia[posicion] = 1\n",
    "        else:\n",
    "            hijo2_copia[posicion] = 0\n",
    "\n",
    "        # Si alguno supera el peso máximo, se repite el proceso\n",
    "        if (np.dot(hijo1_copia, pesos) > peso_max) or (np.dot(hijo2_copia, pesos) > peso_max):\n",
    "            hijo1, hijo2 = mutacion(probabilidad_mutacion, hijo1, hijo2, peso_max)\n",
    "        \n",
    "    else:\n",
    "        pass\n",
    "    \n",
    "    return hijo1_copia, hijo2_copia"
   ]
  },
  {
   "cell_type": "code",
   "execution_count": 16,
   "id": "f02b577e-7216-44a3-93e1-4ea8e318b38d",
   "metadata": {},
   "outputs": [],
   "source": [
    "for i in range(1_000_000):\n",
    "    hijo1, hijo2 = mutacion(probabilidad_mutacion, hijo1, hijo2, peso_max)"
   ]
  },
  {
   "cell_type": "code",
   "execution_count": 17,
   "id": "c9b61c45-3d79-42ea-9ec8-44ca68f67dda",
   "metadata": {},
   "outputs": [
    {
     "data": {
      "text/plain": [
       "[1, 1, 0, 0, 0, 1, 1, 0, 0, 0, 1, 0, 0, 0, 0, 0, 0, 0, 1, 0]"
      ]
     },
     "execution_count": 17,
     "metadata": {},
     "output_type": "execute_result"
    }
   ],
   "source": [
    "hijo1 #[1, 0, 0, 1, 1, 0, 1, 1, 0, 0, 1, 0, 1, 1, 1, 0, 0, 0, 1, 0]"
   ]
  },
  {
   "cell_type": "code",
   "execution_count": 18,
   "id": "13e6bf2f-f614-4250-a55d-8c017c15deed",
   "metadata": {},
   "outputs": [
    {
     "data": {
      "text/plain": [
       "[0, 0, 1, 1, 0, 1, 1, 1, 1, 0, 1, 0, 1, 0, 0, 0, 0, 1, 1, 0]"
      ]
     },
     "execution_count": 18,
     "metadata": {},
     "output_type": "execute_result"
    }
   ],
   "source": [
    "hijo2"
   ]
  },
  {
   "cell_type": "code",
   "execution_count": 19,
   "id": "0077bcfc-2a86-40a7-a5d5-cf8be18d233b",
   "metadata": {},
   "outputs": [],
   "source": [
    "def reemplazo(poblacion, hijo1, hijo2):\n",
    "    # Reemplazo estacional con reemplazo aleatorio\n",
    "\n",
    "    reemplazados = random.sample(population = poblacion, k = 2)\n",
    "\n",
    "    for reemplazado in reemplazados:\n",
    "        poblacion.remove(reemplazado)\n",
    "\n",
    "    poblacion.append(hijo1)\n",
    "    poblacion.append(hijo2)\n",
    "    \n",
    "    return poblacion"
   ]
  },
  {
   "cell_type": "code",
   "execution_count": 20,
   "id": "693e77e7-259b-43c1-95d9-cf56f6796209",
   "metadata": {},
   "outputs": [
    {
     "data": {
      "text/plain": [
       "[[0, 1, 0, 1, 0, 1, 0, 0, 1, 1, 0, 0, 1, 0, 0, 0, 1, 0, 1, 0],\n",
       " [1, 0, 0, 1, 0, 0, 1, 0, 0, 1, 1, 0, 1, 1, 1, 0, 0, 0, 0, 1],\n",
       " [0, 1, 0, 0, 0, 0, 1, 0, 1, 1, 0, 0, 1, 1, 0, 1, 1, 1, 0, 0],\n",
       " [0, 0, 0, 0, 0, 0, 0, 0, 1, 1, 1, 1, 0, 0, 0, 0, 0, 1, 1, 0],\n",
       " [0, 1, 0, 1, 1, 1, 1, 0, 1, 0, 1, 1, 0, 0, 1, 0, 1, 0, 0, 1],\n",
       " [1, 0, 0, 1, 0, 1, 0, 1, 1, 0, 0, 1, 1, 0, 0, 1, 1, 1, 0, 0],\n",
       " [1, 1, 0, 0, 1, 1, 0, 0, 0, 0, 1, 0, 0, 1, 0, 1, 1, 1, 0, 1],\n",
       " [1, 1, 0, 1, 1, 0, 1, 1, 0, 0, 1, 0, 0, 0, 0, 1, 1, 0, 0, 1],\n",
       " [0, 1, 0, 0, 0, 0, 0, 1, 1, 0, 0, 0, 0, 0, 0, 1, 0, 0, 0, 0],\n",
       " [0, 1, 0, 0, 1, 0, 0, 1, 0, 0, 1, 1, 1, 1, 1, 0, 1, 1, 0, 0],\n",
       " [0, 1, 0, 1, 0, 1, 1, 0, 1, 1, 1, 1, 0, 0, 1, 0, 0, 0, 1, 1],\n",
       " [0, 0, 0, 0, 1, 1, 1, 0, 1, 1, 1, 1, 0, 0, 0, 1, 1, 0, 0, 1],\n",
       " [0, 0, 1, 1, 0, 0, 0, 0, 0, 0, 0, 0, 1, 0, 0, 1, 0, 1, 0, 0],\n",
       " [1, 0, 0, 0, 1, 0, 0, 0, 1, 0, 1, 0, 0, 0, 0, 1, 1, 0, 0, 1],\n",
       " [0, 0, 1, 1, 1, 0, 0, 0, 1, 0, 0, 0, 0, 0, 0, 1, 1, 1, 0, 0],\n",
       " [1, 0, 1, 0, 1, 0, 0, 0, 0, 1, 0, 0, 1, 0, 0, 1, 1, 1, 0, 0],\n",
       " [0, 0, 1, 0, 1, 0, 1, 0, 1, 0, 1, 0, 1, 0, 0, 1, 1, 1, 0, 1],\n",
       " [1, 0, 1, 0, 0, 0, 0, 1, 1, 1, 1, 0, 0, 0, 1, 0, 0, 0, 0, 1],\n",
       " [1, 1, 0, 0, 0, 1, 1, 0, 0, 0, 1, 0, 0, 0, 0, 0, 0, 0, 1, 0],\n",
       " [0, 0, 1, 1, 0, 1, 1, 1, 1, 0, 1, 0, 1, 0, 0, 0, 0, 1, 1, 0]]"
      ]
     },
     "execution_count": 20,
     "metadata": {},
     "output_type": "execute_result"
    }
   ],
   "source": [
    "poblacion = reemplazo(poblacion, hijo1, hijo2)\n",
    "poblacion"
   ]
  },
  {
   "cell_type": "code",
   "execution_count": 21,
   "id": "f9d6def0-adda-4831-8876-de6a1a97ce75",
   "metadata": {},
   "outputs": [],
   "source": [
    "def mejor_individuo(poblacion):\n",
    "    \n",
    "    lista_valor = list()\n",
    "\n",
    "    for num, individuo in enumerate(poblacion):\n",
    "        lista_valor.append([num, np.dot(individuo, valores)])\n",
    "\n",
    "    seleccion = sorted(lista_valor, key = lambda x : x[1])[-1] # lista: [posicion, valor]\n",
    "\n",
    "    mejor = poblacion[seleccion[0]]\n",
    "    \n",
    "    return mejor"
   ]
  },
  {
   "cell_type": "code",
   "execution_count": 22,
   "id": "d94ce497-8ddb-458f-8cf8-dec7bdc67633",
   "metadata": {},
   "outputs": [
    {
     "data": {
      "text/plain": [
       "[0, 1, 0, 1, 0, 1, 1, 0, 1, 1, 1, 1, 0, 0, 1, 0, 0, 0, 1, 1]"
      ]
     },
     "execution_count": 22,
     "metadata": {},
     "output_type": "execute_result"
    }
   ],
   "source": [
    "mejor_individuo(poblacion)"
   ]
  },
  {
   "cell_type": "code",
   "execution_count": 23,
   "id": "ff6e0a07-3d28-48a4-a5e8-5c34236307d7",
   "metadata": {},
   "outputs": [
    {
     "data": {
      "text/plain": [
       "(7381, 2427)"
      ]
     },
     "execution_count": 23,
     "metadata": {},
     "output_type": "execute_result"
    }
   ],
   "source": [
    "np.dot(mejor_individuo(poblacion), valores), np.dot(mejor_individuo(poblacion), pesos)"
   ]
  },
  {
   "cell_type": "code",
   "execution_count": 24,
   "id": "49a2db77-f870-4326-bd31-9c4835d785d4",
   "metadata": {},
   "outputs": [],
   "source": [
    "def algoritmo_genetico_mochila(n_poblacion, n_genes, probabilidad_cruce, probabilidad_mutacion, peso_max):\n",
    "    \n",
    "    lista_mejores_individuos = list()\n",
    "    \n",
    "    # Inicialización\n",
    "    poblacion = inicializar_poblacion(n_poblacion, n_genes, peso_max)\n",
    "    k = 5\n",
    "    for generacion in range(50):\n",
    "        # Selección de padres\n",
    "        print(generacion)\n",
    "       \n",
    "        padre1 = elegir_padre(poblacion, k)\n",
    "        padre2 = elegir_padre(poblacion, k)\n",
    "        \n",
    "        print(\"Padres seleccionados\")\n",
    "\n",
    "        # Cruce\n",
    "        hijo1, hijo2 = cruce(padre1, padre2, probabilidad_cruce, n_genes, peso_max)\n",
    "        print(\"Cruce realizado\")\n",
    "        # Mutación\n",
    "        hijo1, hijo2 = mutacion(probabilidad_mutacion, hijo1, hijo2, peso_max)\n",
    "        print(\"Mutación hecha\")\n",
    "\n",
    "        # Reemplazo\n",
    "        poblacion = reemplazo(poblacion, hijo1, hijo2)\n",
    "        \n",
    "        lista_mejores_individuos.append(mejor_individuo(poblacion))\n",
    "        print(\"Remplazo realizado\")\n",
    "    \n",
    "    return lista_mejores_individuos"
   ]
  },
  {
   "cell_type": "code",
   "execution_count": null,
   "id": "305cf8a8-1761-4459-82cd-49f01c57245d",
   "metadata": {},
   "outputs": [],
   "source": [
    "mejor_individuo = algoritmo_genetico_mochila(n_poblacion, n_genes, probabilidad_cruce, probabilidad_mutacion, peso_max)"
   ]
  },
  {
   "cell_type": "code",
   "execution_count": null,
   "id": "12c531d7-e09a-448b-ad81-42cf35eab648",
   "metadata": {},
   "outputs": [],
   "source": [
    "mejor_individuo"
   ]
  },
  {
   "cell_type": "code",
   "execution_count": null,
   "id": "00ebf4ec-25d8-4628-9881-e02831bc1e1a",
   "metadata": {},
   "outputs": [],
   "source": []
  }
 ],
 "metadata": {
  "kernelspec": {
   "display_name": "Python 3 (ipykernel)",
   "language": "python",
   "name": "python3"
  },
  "language_info": {
   "codemirror_mode": {
    "name": "ipython",
    "version": 3
   },
   "file_extension": ".py",
   "mimetype": "text/x-python",
   "name": "python",
   "nbconvert_exporter": "python",
   "pygments_lexer": "ipython3",
   "version": "3.9.7"
  }
 },
 "nbformat": 4,
 "nbformat_minor": 5
}
