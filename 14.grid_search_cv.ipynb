{
 "cells": [
  {
   "cell_type": "markdown",
   "id": "a8a6c3ff",
   "metadata": {},
   "source": [
    "## Grid Search CV\n",
    "\n",
    "GridSearchCV es una herramienta de la libreria Sklearn.\n",
    "\n",
    "Esta herramienta hace una busqueda exhaustiva (o por fuerza bruta) de los mejores parámetros de un modelo siguiendo alguna métrica en particular.\n",
    "\n",
    "_**Documentacion:** https://scikit-learn.org/stable/modules/generated/sklearn.model_selection.GridSearchCV.html_"
   ]
  },
  {
   "cell_type": "code",
   "execution_count": 15,
   "id": "abf83e42",
   "metadata": {},
   "outputs": [],
   "source": [
    "import numpy as np\n",
    "import pandas as pd\n",
    "import matplotlib.pyplot as plt\n",
    "import seaborn as sns\n",
    "\n",
    "# Normalizacion\n",
    "from sklearn.preprocessing import MinMaxScaler\n",
    "\n",
    "# Train, Test\n",
    "from sklearn.model_selection import train_test_split\n",
    "\n",
    "# Metricas\n",
    "from sklearn.metrics import jaccard_score\n",
    "from sklearn.metrics import accuracy_score\n",
    "from sklearn.metrics import precision_score\n",
    "from sklearn.metrics import recall_score\n",
    "from sklearn.metrics import f1_score\n",
    "from sklearn.metrics import roc_auc_score\n",
    "\n",
    "from sklearn.metrics import confusion_matrix\n",
    "from sklearn.metrics import classification_report"
   ]
  },
  {
   "cell_type": "code",
   "execution_count": 16,
   "id": "9b29258d",
   "metadata": {},
   "outputs": [
    {
     "name": "stdout",
     "output_type": "stream",
     "text": [
      "X_train: (621, 11), y_train: (621,)\n",
      "X_test: (267, 11),  y_test: (267,)\n"
     ]
    }
   ],
   "source": [
    "# Dataset del titanic preprocesado en clase\n",
    "\n",
    "titanic = pd.read_csv(\"titanic_preprocesamiento.csv\")\n",
    "\n",
    "X = titanic.drop([\"Fare-Binning\", \"Age-Binning\", \"Survived\"], axis = 1)\n",
    "y = titanic[\"Survived\"]\n",
    "\n",
    "X_train, X_test, y_train, y_test = train_test_split(X, y, test_size = 0.3, random_state = 42)\n",
    "\n",
    "print(f\"X_train: {X_train.shape}, y_train: {y_train.shape}\")\n",
    "print(f\"X_test: {X_test.shape},  y_test: {y_test.shape}\")"
   ]
  },
  {
   "cell_type": "markdown",
   "id": "3bcb37b8",
   "metadata": {},
   "source": [
    "### Modelo"
   ]
  },
  {
   "cell_type": "code",
   "execution_count": 17,
   "id": "55d5161f",
   "metadata": {},
   "outputs": [],
   "source": [
    "from sklearn.neighbors import KNeighborsClassifier"
   ]
  },
  {
   "cell_type": "code",
   "execution_count": 18,
   "id": "e0dc9844",
   "metadata": {},
   "outputs": [
    {
     "data": {
      "text/plain": [
       "KNeighborsClassifier()"
      ]
     },
     "execution_count": 18,
     "metadata": {},
     "output_type": "execute_result"
    }
   ],
   "source": [
    "model = KNeighborsClassifier()\n",
    "model.fit(X_train, y_train)"
   ]
  },
  {
   "cell_type": "markdown",
   "id": "3e2430fa",
   "metadata": {},
   "source": [
    "### Predicciones"
   ]
  },
  {
   "cell_type": "code",
   "execution_count": 19,
   "id": "cac68e4b",
   "metadata": {
    "scrolled": true
   },
   "outputs": [
    {
     "data": {
      "text/plain": [
       "array([0., 1., 1., 0., 1., 0., 0., 0., 1., 1., 1., 1., 0., 0., 0., 0., 1.,\n",
       "       0., 0., 1., 0., 0., 0., 1., 0., 0., 0., 0., 0., 0., 1., 0., 0., 0.,\n",
       "       0., 1., 1., 0., 0., 0., 0., 0., 0., 0., 1., 1., 1., 0., 0., 1., 1.,\n",
       "       0., 0., 0., 0., 1., 0., 0., 1., 1., 0., 0., 1., 0., 0., 0., 0., 1.,\n",
       "       0., 1., 0., 1., 1., 1., 1., 0., 0., 0., 0., 0., 0., 0., 0., 0., 1.,\n",
       "       0., 1., 0., 0., 0., 0., 0., 1., 0., 0., 0., 0., 0., 0., 0., 0., 1.,\n",
       "       0., 0., 0., 0., 1., 0., 0., 0., 0., 0., 0., 1., 0., 0., 0., 0., 0.,\n",
       "       0., 0., 1., 0., 0., 1., 0., 0., 1., 1., 0., 0., 1., 0., 0., 0., 1.,\n",
       "       0., 0., 0., 0., 0., 0., 0., 0., 1., 1., 0., 1., 0., 1., 0., 1., 1.,\n",
       "       0., 0., 0., 1., 1., 0., 1., 0., 1., 0., 0., 0., 0., 0., 0., 0., 1.,\n",
       "       1., 1., 0., 0., 1., 0., 1., 1., 0., 1., 0., 0., 0., 1., 0., 0., 0.,\n",
       "       0., 0., 0., 1., 0., 0., 0., 0., 0., 0., 0., 0., 1., 0., 0., 0., 1.,\n",
       "       0., 0., 0., 0., 1., 1., 0., 0., 0., 0., 1., 0., 1., 0., 0., 0., 0.,\n",
       "       0., 1., 1., 0., 0., 0., 1., 0., 1., 0., 0., 0., 0., 0., 0., 0., 0.,\n",
       "       0., 0., 0., 0., 0., 1., 0., 1., 1., 0., 0., 1., 0., 1., 0., 0., 0.,\n",
       "       1., 0., 0., 0., 0., 0., 0., 0., 1., 0., 1., 0.])"
      ]
     },
     "execution_count": 19,
     "metadata": {},
     "output_type": "execute_result"
    }
   ],
   "source": [
    "yhat = model.predict(X_test)\n",
    "\n",
    "yhat"
   ]
  },
  {
   "cell_type": "code",
   "execution_count": 20,
   "id": "d0942b8d",
   "metadata": {},
   "outputs": [
    {
     "name": "stdout",
     "output_type": "stream",
     "text": [
      "Jaccard Index: 0.5577427821522309\n",
      "Accuracy: 0.7378277153558053\n",
      "Precisión: 0.7385509227614491\n",
      "Sensibilidad: 0.7038551401869159\n",
      "F1-score: 0.7097826086956521\n",
      "ROC AUC: 0.7038551401869159\n"
     ]
    }
   ],
   "source": [
    "print(\"Jaccard Index:\", jaccard_score(y_test, yhat, average = \"macro\"))\n",
    "print(\"Accuracy:\"     , accuracy_score(y_test, yhat))\n",
    "print(\"Precisión:\"    , precision_score(y_test, yhat, average = \"macro\"))\n",
    "print(\"Sensibilidad:\" , recall_score(y_test, yhat, average = \"macro\"))\n",
    "print(\"F1-score:\"     , f1_score(y_test, yhat, average = \"macro\"))\n",
    "print(\"ROC AUC:\"      , roc_auc_score(y_test, yhat))"
   ]
  },
  {
   "cell_type": "markdown",
   "id": "50b90287",
   "metadata": {},
   "source": [
    "### GridSearchCV"
   ]
  },
  {
   "cell_type": "code",
   "execution_count": 21,
   "id": "cfa5cad5",
   "metadata": {},
   "outputs": [],
   "source": [
    "from sklearn.model_selection import GridSearchCV"
   ]
  },
  {
   "cell_type": "code",
   "execution_count": 22,
   "id": "5d2027fb",
   "metadata": {},
   "outputs": [
    {
     "name": "stdout",
     "output_type": "stream",
     "text": [
      "Wall time: 19.3 s\n"
     ]
    }
   ],
   "source": [
    "%%time\n",
    "\n",
    "# Modelo\n",
    "model = KNeighborsClassifier()\n",
    "\n",
    "# Parametros a iterar\n",
    "params = {\"n_neighbors\" : [3, 4, 5, 6]}\n",
    "\n",
    "# Metricas\n",
    "scorers = {\"f1_macro\", \"accuracy\", \"recall_macro\"}\n",
    "\n",
    "#GridSearchCV\n",
    "grid_solver = GridSearchCV(estimator  = model     , \n",
    "                           param_grid = params    , \n",
    "                           scoring    = scorers   ,\n",
    "                           cv         = 5         ,\n",
    "                           refit      = \"accuracy\",\n",
    "                           n_jobs     = -1         )\n",
    "\n",
    "# Resultados\n",
    "model_result = grid_solver.fit(X_train, y_train)"
   ]
  },
  {
   "cell_type": "code",
   "execution_count": 23,
   "id": "b6a57b09",
   "metadata": {},
   "outputs": [
    {
     "data": {
      "text/plain": [
       "KNeighborsClassifier(n_neighbors=3)"
      ]
     },
     "execution_count": 23,
     "metadata": {},
     "output_type": "execute_result"
    }
   ],
   "source": [
    "# model_result.best_estimator es el mejor modelo que obtuvimos al iterar sobre todos los parámetros\n",
    "# \n",
    "\n",
    "model_result.best_estimator_"
   ]
  },
  {
   "cell_type": "code",
   "execution_count": 24,
   "id": "223a1f97",
   "metadata": {},
   "outputs": [
    {
     "name": "stdout",
     "output_type": "stream",
     "text": [
      "Jaccard Index: 0.5467328974761678\n",
      "Accuracy: 0.7265917602996255\n",
      "Precisión: 0.7212261041529334\n",
      "Sensibilidad: 0.6960280373831775\n",
      "F1-score: 0.7010812054290314\n",
      "ROC AUC: 0.6960280373831775\n"
     ]
    }
   ],
   "source": [
    "yhat = model_result.best_estimator_.predict(X_test)\n",
    "\n",
    "print(\"Jaccard Index:\", jaccard_score(y_test, yhat, average = \"macro\"))\n",
    "print(\"Accuracy:\"     , accuracy_score(y_test, yhat))\n",
    "print(\"Precisión:\"    , precision_score(y_test, yhat, average = \"macro\"))\n",
    "print(\"Sensibilidad:\" , recall_score(y_test, yhat, average = \"macro\"))\n",
    "print(\"F1-score:\"     , f1_score(y_test, yhat, average = \"macro\"))\n",
    "print(\"ROC AUC:\"      , roc_auc_score(y_test, yhat))"
   ]
  },
  {
   "cell_type": "code",
   "execution_count": 25,
   "id": "66d3691e",
   "metadata": {
    "scrolled": true
   },
   "outputs": [
    {
     "data": {
      "text/plain": [
       "{'mean_fit_time': array([0.01977735, 0.01910071, 0.03299823, 0.03027644]),\n",
       " 'std_fit_time': array([0.00401813, 0.00249508, 0.00790109, 0.01007698]),\n",
       " 'mean_score_time': array([0.07749052, 0.06152864, 0.06420865, 0.06994252]),\n",
       " 'std_score_time': array([0.02763795, 0.00315168, 0.01229118, 0.00642498]),\n",
       " 'param_n_neighbors': masked_array(data=[3, 4, 5, 6],\n",
       "              mask=[False, False, False, False],\n",
       "        fill_value='?',\n",
       "             dtype=object),\n",
       " 'params': [{'n_neighbors': 3},\n",
       "  {'n_neighbors': 4},\n",
       "  {'n_neighbors': 5},\n",
       "  {'n_neighbors': 6}],\n",
       " 'split0_test_f1_macro': array([0.67023173, 0.6352887 , 0.70911783, 0.69287469]),\n",
       " 'split1_test_f1_macro': array([0.67619685, 0.63777994, 0.66451613, 0.63995354]),\n",
       " 'split2_test_f1_macro': array([0.7158276 , 0.67968689, 0.68205128, 0.66027397]),\n",
       " 'split3_test_f1_macro': array([0.63011364, 0.63404784, 0.60582539, 0.62594268]),\n",
       " 'split4_test_f1_macro': array([0.64687842, 0.58202247, 0.59058283, 0.58262231]),\n",
       " 'mean_test_f1_macro': array([0.66784965, 0.63376517, 0.65041869, 0.64033344]),\n",
       " 'std_test_f1_macro': array([0.02912399, 0.03099881, 0.04519699, 0.03659514]),\n",
       " 'rank_test_f1_macro': array([1, 4, 2, 3]),\n",
       " 'split0_test_accuracy': array([0.704, 0.696, 0.736, 0.744]),\n",
       " 'split1_test_accuracy': array([0.68548387, 0.68548387, 0.68548387, 0.67741935]),\n",
       " 'split2_test_accuracy': array([0.75      , 0.73387097, 0.72580645, 0.71774194]),\n",
       " 'split3_test_accuracy': array([0.66129032, 0.69354839, 0.65322581, 0.67741935]),\n",
       " 'split4_test_accuracy': array([0.68548387, 0.66129032, 0.62903226, 0.65322581]),\n",
       " 'mean_test_accuracy': array([0.69725161, 0.69403871, 0.68590968, 0.69396129]),\n",
       " 'std_test_accuracy': array([0.02965841, 0.02339375, 0.04099817, 0.03248397]),\n",
       " 'rank_test_accuracy': array([1, 2, 4, 3]),\n",
       " 'split0_test_recall_macro': array([0.66557556, 0.63379705, 0.70390071, 0.68494272]),\n",
       " 'split1_test_recall_macro': array([0.68458138, 0.63484388, 0.66385742, 0.63663996]),\n",
       " 'split2_test_recall_macro': array([0.70763657, 0.67251951, 0.67502787, 0.65523969]),\n",
       " 'split3_test_recall_macro': array([0.62820513, 0.63154961, 0.60395764, 0.62318841]),\n",
       " 'split4_test_recall_macro': array([0.64297659, 0.58807135, 0.58918618, 0.5861204 ]),\n",
       " 'mean_test_recall_macro': array([0.66579504, 0.63215628, 0.64718596, 0.63722623]),\n",
       " 'std_test_recall_macro': array([0.02841609, 0.02676922, 0.04359435, 0.03289546]),\n",
       " 'rank_test_recall_macro': array([1, 4, 2, 3])}"
      ]
     },
     "execution_count": 25,
     "metadata": {},
     "output_type": "execute_result"
    }
   ],
   "source": [
    "model_result.cv_results_"
   ]
  },
  {
   "cell_type": "code",
   "execution_count": 26,
   "id": "2dc0178e",
   "metadata": {},
   "outputs": [
    {
     "name": "stdout",
     "output_type": "stream",
     "text": [
      "0.6455908799803342\n",
      "0.6480917374876254\n",
      "0.6927903225806451\n",
      "0.6972516129032258\n",
      "{'n_neighbors': 3}\n"
     ]
    }
   ],
   "source": [
    "print(model_result.cv_results_[\"mean_test_recall_macro\"].mean())\n",
    "print(model_result.cv_results_[\"mean_test_f1_macro\"].mean())\n",
    "print(model_result.cv_results_[\"mean_test_accuracy\"].mean())\n",
    "\n",
    "print(model_result.best_score_)\n",
    "print(model_result.best_params_)"
   ]
  },
  {
   "cell_type": "code",
   "execution_count": null,
   "id": "9d18073e",
   "metadata": {},
   "outputs": [],
   "source": [
    "%%time\n",
    "\n",
    "from sklearn.ensemble import RandomForestClassifier\n",
    "\n",
    "model = RandomForestClassifier()\n",
    "\n",
    "params = {\"n_estimators\"           : [100, 200, 300], # Numero de arboles\n",
    "          \"criterion\"              : [\"gini\", \"entropy\"], # Es la función para medir la calidad de una división/split.\n",
    "          \"max_depth\"              : [3, 4, 5], # La profundidad máxima del árbol.\n",
    "          \"max_features\"           : [2, 3], # El número de características (atributos) a considerar en cada split\n",
    "          \"max_leaf_nodes\"         : [8], # Maximo de nodos hoja del arbol\n",
    "          \"min_impurity_decrease\"  : [0.02, 0.3], # Un nodo se dividirá si esta división induce una disminución de la impureza mayor o igual a este valor.\n",
    "          \"min_samples_split\"      : [2, 5]} # El número mínimo de muestras requeridas para llegar a nodo hoja.\n",
    "\n",
    "scorers = {\"f1_macro\", \"accuracy\", \"recall_macro\"}\n",
    "\n",
    "grid_solver = GridSearchCV(estimator  = model    , \n",
    "                           param_grid = params   , \n",
    "                           scoring    = scorers  ,\n",
    "                           cv         = 5        ,\n",
    "                           refit      = \"accuracy\",\n",
    "                           n_jobs     = -1        )\n",
    "\n",
    "model_result = grid_solver.fit(X_train, y_train)\n",
    "\n",
    "print(model_result.cv_results_[\"mean_test_recall_macro\"].mean())\n",
    "print(model_result.cv_results_[\"mean_test_f1_macro\"].mean())\n",
    "print(model_result.cv_results_[\"mean_test_accuracy\"].mean())\n",
    "\n",
    "print(\"*\"*100)\n",
    "\n",
    "print(model_result.best_score_)\n",
    "print(model_result.best_params_)"
   ]
  },
  {
   "cell_type": "code",
   "execution_count": null,
   "id": "775a902a",
   "metadata": {},
   "outputs": [],
   "source": [
    "# Metricas para el GridSearchCV\n",
    "\n",
    "from sklearn.metrics import SCORERS\n",
    "\n",
    "sorted(SCORERS.keys())"
   ]
  }
 ],
 "metadata": {
  "kernelspec": {
   "display_name": "Python 3 (ipykernel)",
   "language": "python",
   "name": "python3"
  },
  "language_info": {
   "codemirror_mode": {
    "name": "ipython",
    "version": 3
   },
   "file_extension": ".py",
   "mimetype": "text/x-python",
   "name": "python",
   "nbconvert_exporter": "python",
   "pygments_lexer": "ipython3",
   "version": "3.9.7"
  }
 },
 "nbformat": 4,
 "nbformat_minor": 5
}
