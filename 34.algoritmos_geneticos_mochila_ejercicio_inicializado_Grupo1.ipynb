{
 "cells": [
  {
   "cell_type": "markdown",
   "id": "f4629a61",
   "metadata": {},
   "source": [
    "## Algoritmos Genéticos: Problema de la Mochila\n",
    "\n",
    "Siguiendo los pasos de la teoria de Algoritmos Genéticos, has el algoritmo del problema de la mochila.\n",
    "\n",
    "- Población Inicial: 20\n",
    "- Número de Genes: 20\n",
    "- Probabilidad de Cruce: 0.9\n",
    "- Probabilidad de Mutación: 0.1\n",
    "- Peso Maximo = 2500"
   ]
  },
  {
   "cell_type": "code",
   "execution_count": null,
   "id": "ffd12930",
   "metadata": {},
   "outputs": [],
   "source": [
    "import random\n",
    "import numpy as np"
   ]
  },
  {
   "cell_type": "code",
   "execution_count": null,
   "id": "28c18268",
   "metadata": {},
   "outputs": [],
   "source": [
    "probabilidad_cruce = 0.9\n",
    "probabilidad_mutacion = 0.1"
   ]
  },
  {
   "cell_type": "code",
   "execution_count": null,
   "id": "18591134",
   "metadata": {},
   "outputs": [],
   "source": [
    "n_genes = 20\n",
    "peso_max = 2500\n",
    "n_poblacion = 20 \n",
    "\n",
    "# nombres = [f\"objeto_{i}\" for i in range(n_genes)]\n",
    "# print(nombres)"
   ]
  },
  {
   "cell_type": "code",
   "execution_count": null,
   "id": "406b08f5",
   "metadata": {},
   "outputs": [],
   "source": [
    "pesos = [random.randint(100, 400) for i in range(n_genes)]\n",
    "print(pesos)"
   ]
  },
  {
   "cell_type": "code",
   "execution_count": null,
   "id": "1065465a",
   "metadata": {},
   "outputs": [],
   "source": [
    "valores = [random.randint(500, 800) for i in range(n_genes)]\n",
    "print(valores)"
   ]
  },
  {
   "cell_type": "code",
   "execution_count": null,
   "id": "61ce2d1e",
   "metadata": {},
   "outputs": [],
   "source": [
    "def inicializar_poblacion(n_poblacion, n_genes, peso_max):\n",
    "    poblacion = list()\n",
    "\n",
    "    while len(poblacion) < n_poblacion:\n",
    "        individuo = [random.randint(0, 1) for i in range(n_genes)]\n",
    "\n",
    "        peso_individuo = np.dot(individuo, pesos)\n",
    "\n",
    "        if peso_individuo <= peso_max:\n",
    "            poblacion.append(individuo)\n",
    "    return poblacion"
   ]
  },
  {
   "cell_type": "code",
   "execution_count": null,
   "id": "cbb176e6",
   "metadata": {},
   "outputs": [],
   "source": [
    "# poblacion = inicializar_poblacion(n_poblacion, n_genes, peso_max)\n",
    "# poblacion"
   ]
  },
  {
   "cell_type": "code",
   "execution_count": null,
   "id": "a6303f1e",
   "metadata": {},
   "outputs": [],
   "source": [
    "# for num, individuo in enumerate(poblacion):\n",
    "#     print(num, np.dot(individuo, valores), np.dot(individuo, pesos))"
   ]
  },
  {
   "cell_type": "code",
   "execution_count": null,
   "id": "4a2b5889",
   "metadata": {},
   "outputs": [],
   "source": [
    "# Selección por torneo\n",
    "def elegir_padre(poblacion, n_candidatos):\n",
    "    \n",
    "    candidatos = random.sample(population = poblacion, k = n_candidatos)\n",
    "    \n",
    "    lista_valor = list()\n",
    "\n",
    "    for num, individuo in enumerate(candidatos):\n",
    "        lista_valor.append([num, np.dot(individuo, valores)])\n",
    "\n",
    "    seleccion = sorted(lista_valor, key = lambda x : x[1])[-1] # lista: [posicion, valor]\n",
    "    \n",
    "    padre = candidatos[seleccion[0]] # individuo padre a partir de \"posicion\"\n",
    "    \n",
    "    return padre"
   ]
  },
  {
   "cell_type": "code",
   "execution_count": null,
   "id": "b5734016",
   "metadata": {},
   "outputs": [],
   "source": [
    "# k = 5\n",
    "\n",
    "# padre1 = elegir_padre(poblacion, k)\n",
    "# padre2 = elegir_padre(poblacion, k)\n",
    "# print(padre1)\n",
    "# print(padre2)"
   ]
  },
  {
   "cell_type": "code",
   "execution_count": null,
   "id": "caa2ddb8",
   "metadata": {},
   "outputs": [],
   "source": [
    "def cruce(padre1, padre2, probabilidad_cruce, n_genes, peso_max):\n",
    "\n",
    "    hijo1 = list()\n",
    "    hijo2 = list()\n",
    "    \n",
    "    # Cruzamiento binario uniforme\n",
    "    if random.random() < probabilidad_cruce:\n",
    "\n",
    "        # 1: padre1, 2: padre2\n",
    "\n",
    "        for i in range(n_genes):\n",
    "            padre = random.randint(1, 2)\n",
    "            if padre == 1:\n",
    "                hijo1.append(padre1[i])\n",
    "                hijo2.append(padre2[i])\n",
    "            else:\n",
    "                hijo1.append(padre2[i])\n",
    "                hijo2.append(padre1[i])\n",
    "    \n",
    "        # Si alguno supera el peso máximo, se repite el proceso\n",
    "        if (np.dot(hijo1, pesos) > peso_max) or (np.dot(hijo2, pesos) > peso_max):\n",
    "            hijo1, hijo2 = cruce(padre1, padre2, probabilidad_cruce, n_genes, peso_max)\n",
    "    \n",
    "    else:\n",
    "        # Si la probabilidad de cruce impide generar hijos, se repite el proceso\n",
    "        hijo1, hijo2 = cruce(padre1, padre2, probabilidad_cruce, n_genes, peso_max)\n",
    "    \n",
    "    return hijo1, hijo2"
   ]
  },
  {
   "cell_type": "code",
   "execution_count": null,
   "id": "f27a0028",
   "metadata": {},
   "outputs": [],
   "source": [
    "# hijo1, hijo2 = cruce(padre1, padre2, probabilidad_cruce, n_genes, peso_max)"
   ]
  },
  {
   "cell_type": "code",
   "execution_count": null,
   "id": "5f67ed07",
   "metadata": {},
   "outputs": [],
   "source": [
    "# hijo1"
   ]
  },
  {
   "cell_type": "code",
   "execution_count": null,
   "id": "ed4a22fc",
   "metadata": {},
   "outputs": [],
   "source": [
    "# hijo2"
   ]
  },
  {
   "cell_type": "code",
   "execution_count": null,
   "id": "f41481df",
   "metadata": {},
   "outputs": [],
   "source": [
    "# Mutación binaria\n",
    "def mutacion(probabilidad_mutacion, hijo1, hijo2, peso_max):\n",
    "\n",
    "    if random.random() < probabilidad_mutacion:\n",
    "        posicion = random.randint(0, 19)\n",
    "#         print(posicion)\n",
    "\n",
    "        if hijo1[posicion] == 0:\n",
    "            hijo1[posicion] = 1\n",
    "        else:\n",
    "            hijo1[posicion] = 0\n",
    "        if hijo2[posicion] == 0:\n",
    "            hijo2[posicion] = 1\n",
    "        else:\n",
    "            hijo2[posicion] = 0\n",
    "\n",
    "        # Si alguno supera el peso máximo, se repite el proceso\n",
    "        if (np.dot(hijo1, pesos) > peso_max) or (np.dot(hijo2, pesos) > peso_max):\n",
    "            hijo1, hijo2 = mutacion(probabilidad_mutacion, hijo1, hijo2, peso_max)\n",
    "        \n",
    "    else:\n",
    "        pass\n",
    "    \n",
    "    return hijo1, hijo2"
   ]
  },
  {
   "cell_type": "code",
   "execution_count": null,
   "id": "7e8ce49b",
   "metadata": {},
   "outputs": [],
   "source": [
    "# hijo1, hijo2 = mutacion(probabilidad_mutacion, hijo1, hijo2, peso_max)"
   ]
  },
  {
   "cell_type": "code",
   "execution_count": null,
   "id": "e73ff2ad",
   "metadata": {},
   "outputs": [],
   "source": [
    "# hijo1 #[1, 0, 0, 1, 1, 0, 1, 1, 0, 0, 1, 0, 1, 1, 1, 0, 0, 0, 1, 0]"
   ]
  },
  {
   "cell_type": "code",
   "execution_count": null,
   "id": "012aebb4",
   "metadata": {},
   "outputs": [],
   "source": [
    "# hijo2"
   ]
  },
  {
   "cell_type": "code",
   "execution_count": null,
   "id": "e7723d19",
   "metadata": {},
   "outputs": [],
   "source": [
    "def reemplazo(poblacion, hijo1, hijo2):\n",
    "    # Reemplazo estacional con reemplazo aleatorio\n",
    "\n",
    "    reemplazados = random.sample(population = poblacion, k = 2)\n",
    "\n",
    "    for reemplazado in reemplazados:\n",
    "        poblacion.remove(reemplazado)\n",
    "\n",
    "    poblacion.append(hijo1)\n",
    "    poblacion.append(hijo2)\n",
    "    \n",
    "    return poblacion"
   ]
  },
  {
   "cell_type": "code",
   "execution_count": null,
   "id": "9a66e202",
   "metadata": {
    "scrolled": true
   },
   "outputs": [],
   "source": [
    "# poblacion = reemplazo(poblacion, hijo1, hijo2)\n",
    "# poblacion"
   ]
  },
  {
   "cell_type": "code",
   "execution_count": null,
   "id": "631e21b6",
   "metadata": {},
   "outputs": [],
   "source": [
    "def mejor_individuo(poblacion):\n",
    "    \n",
    "    lista_valor = list()\n",
    "\n",
    "    for num, individuo in enumerate(poblacion):\n",
    "        lista_valor.append([num, np.dot(individuo, valores)])\n",
    "\n",
    "    seleccion = sorted(lista_valor, key = lambda x : x[1])[-1] # lista: [posicion, valor]\n",
    "\n",
    "    mejor = poblacion[seleccion[0]]\n",
    "    \n",
    "    return mejor"
   ]
  },
  {
   "cell_type": "code",
   "execution_count": null,
   "id": "1c7f1da3",
   "metadata": {},
   "outputs": [],
   "source": [
    "def algoritmo_genetico_mochila(n_poblacion, n_genes, probabilidad_cruce, probabilidad_mutacion, peso_max):\n",
    "    \n",
    "    lista_mejores_individuos = list()\n",
    "    \n",
    "    # Inicialización\n",
    "    poblacion = inicializar_poblacion(n_poblacion, n_genes, peso_max)\n",
    "    \n",
    "    for generacion in range(50):\n",
    "        # Selección de padres\n",
    "        k = 5\n",
    "        padre1 = elegir_padre(poblacion, k)\n",
    "        padre2 = elegir_padre(poblacion, k)\n",
    "\n",
    "        # Cruce\n",
    "        hijo1, hijo2 = cruce(padre1, padre2, probabilidad_cruce, n_genes, peso_max)\n",
    "\n",
    "        # Mutación\n",
    "        hijo1, hijo2 = mutacion(probabilidad_mutacion, hijo1, hijo2, peso_max)\n",
    "\n",
    "        # Reemplazo\n",
    "        poblacion = reemplazo(poblacion, hijo1, hijo2)\n",
    "        \n",
    "        lista_mejores_individuos.append(mejor_individuo(poblacion))\n",
    "    \n",
    "    return lista_mejores_individuos[-1]"
   ]
  },
  {
   "cell_type": "code",
   "execution_count": null,
   "id": "329232ea",
   "metadata": {},
   "outputs": [],
   "source": [
    "mejor_individuo = algoritmo_genetico_mochila(n_poblacion, n_genes, probabilidad_cruce, probabilidad_mutacion, peso_max)"
   ]
  },
  {
   "cell_type": "code",
   "execution_count": null,
   "id": "f93d5ed9",
   "metadata": {},
   "outputs": [],
   "source": [
    "mejor_individuo"
   ]
  },
  {
   "cell_type": "code",
   "execution_count": null,
   "id": "b8651d75",
   "metadata": {},
   "outputs": [],
   "source": []
  },
  {
   "cell_type": "code",
   "execution_count": null,
   "id": "3373313c",
   "metadata": {},
   "outputs": [],
   "source": []
  },
  {
   "cell_type": "code",
   "execution_count": null,
   "id": "2fe5252c",
   "metadata": {},
   "outputs": [],
   "source": []
  },
  {
   "cell_type": "code",
   "execution_count": null,
   "id": "d39fdc43",
   "metadata": {},
   "outputs": [],
   "source": []
  }
 ],
 "metadata": {
  "kernelspec": {
   "display_name": "Python 3 (ipykernel)",
   "language": "python",
   "name": "python3"
  },
  "language_info": {
   "codemirror_mode": {
    "name": "ipython",
    "version": 3
   },
   "file_extension": ".py",
   "mimetype": "text/x-python",
   "name": "python",
   "nbconvert_exporter": "python",
   "pygments_lexer": "ipython3",
   "version": "3.9.7"
  }
 },
 "nbformat": 4,
 "nbformat_minor": 5
}
