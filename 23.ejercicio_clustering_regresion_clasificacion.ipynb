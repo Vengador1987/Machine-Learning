{
 "cells": [
  {
   "cell_type": "markdown",
   "id": "2488d67d",
   "metadata": {},
   "source": [
    "## Ejercicio de Clustering, Regression y Clasificacion\n",
    "\n",
    "Continuación del ejercicio anterior:\n",
    "\n",
    "Ya tenemos los modelos de regresión lineal para ambas nubes. Si quisieramos predecir una nueva instancia tendriamos que transformar esa nueva \"fila\" para que tenga el mismo \"formato\" que las filas que usamos para crear los modelos, es decir, hay que aplicar el mismo preprocesamiento para poder utilizar esa instancia con el modelo:\n",
    "\n",
    "**Parte 1**:\n",
    "1. Define una función que tome como parametro una instancia o una lista de instancias y que aplique el mismo preprocesamiento a esa instancia o lista de instancias.\n",
    "2. Esta función debe usar el mismo escalador, aplicar las mismas transformaciones y crear las mismas columnas que las realizadas en el preprocesamiento.\n",
    "3. La función debe retornar una instancia unica o una lista de instancias ya preprocesadas.\n",
    "4. Estas instancias no tendran la columna de **`CO2EMISSIONS`**.\n",
    "\n",
    "**Parte 2**:\n",
    "\n",
    "Ahora tenemos que \"clasificar\" las nuevas instancias para saber con cual modelo de regresión vamos a hacer la prediccion:\n",
    "\n",
    "1. Utilizando el dataset preprocesado de **`FuelConsumptionCo2.csv`**, vamos a realizar un modelo de clasificación para predecir la columna generada por el **`cluster`**. Es decir, el dataset para este modelo debe tener todas las columnas a excepción de **`CO2EMISSIONS`** y vamos a intentar predecir la columna **`cluster`**.\n",
    "\n",
    "2. Define una función que tome como parámetro una instancia o lista de instancias **SIN PREPROCESAR** y que haga lo siguiente:\n",
    "    - Aplique el preprocesamiento (la función definida en la **Parte 1**).\n",
    "    - Utilice el modelo de clasificación para decidir que modelo de regresión aplicar.\n",
    "    - Dependiendo del caso, que haga la predicción del modelo de regresión a cada instancia.\n",
    "    - **Debe retornar una lista de predicciones del modelo de regresión**, recuerda desescalar los datos predichos."
   ]
  },
  {
   "cell_type": "code",
   "execution_count": null,
   "id": "0a63e9ad",
   "metadata": {},
   "outputs": [],
   "source": []
  },
  {
   "cell_type": "code",
   "execution_count": null,
   "id": "ad297102",
   "metadata": {},
   "outputs": [],
   "source": []
  },
  {
   "cell_type": "code",
   "execution_count": null,
   "id": "8cee54a1",
   "metadata": {},
   "outputs": [],
   "source": []
  },
  {
   "cell_type": "code",
   "execution_count": null,
   "id": "8e6f890c",
   "metadata": {},
   "outputs": [],
   "source": []
  },
  {
   "cell_type": "code",
   "execution_count": null,
   "id": "079063c1",
   "metadata": {},
   "outputs": [],
   "source": []
  },
  {
   "cell_type": "code",
   "execution_count": null,
   "id": "0f2a86fc",
   "metadata": {},
   "outputs": [],
   "source": []
  }
 ],
 "metadata": {
  "kernelspec": {
   "display_name": "Python 3",
   "language": "python",
   "name": "python3"
  },
  "language_info": {
   "codemirror_mode": {
    "name": "ipython",
    "version": 3
   },
   "file_extension": ".py",
   "mimetype": "text/x-python",
   "name": "python",
   "nbconvert_exporter": "python",
   "pygments_lexer": "ipython3",
   "version": "3.8.8"
  }
 },
 "nbformat": 4,
 "nbformat_minor": 5
}
