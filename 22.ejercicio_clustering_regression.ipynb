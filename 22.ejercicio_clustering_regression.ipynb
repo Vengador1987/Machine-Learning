{
 "cells": [
  {
   "cell_type": "markdown",
   "id": "c40ad7ce",
   "metadata": {},
   "source": [
    "## Ejercicio de Clustering y Regression\n",
    "\n",
    "Utilizando el dataset de **`FuelConsumptionCo2.csv`**:\n",
    "\n",
    "**Parte 1**:\n",
    "1. Realiza un **`Exploratory Data Analysis`** (**EDA**).\n",
    "2. Realiza **preprocesamiento**.\n",
    "3. Utilizando métodos de **clustering**, **¿existe alguna forma de \"categorizar\" los datos?**\n",
    "4. Selecciona un número de **clusters \"optimo\"** y crea una columna con la categorización dada por el clustering.\n",
    "5. Teniendo el conjunto separado en diferentes \"clases\" o \"categorias\", **realiza una regresion lineal (`LinearRegression`) para cada conjunto**.\n",
    "6. Recuerda hacer **`train_test_split`** para poder calcular métricas, agrega la metrica **`r^2 ajustado`**.\n",
    "7. Haz el método de validación más adecuado para los datos, **solo es necesario hacer uno para cada modelo**.\n",
    "8. Guarda los modelos en un archivos binario.\n",
    "\n",
    "**Parte 2**:\n",
    "1. Investiga sobre otros modelos de regresión e implementalos con este dataset.\n",
    "2. Compara las métricas de estos nuevos modelos con el anterior (**`LinearRegression`**).\n",
    "3. En caso de que el modelo lo permita, haz **tunning** al modelo usando **`GridSearchCV`**."
   ]
  },
  {
   "cell_type": "code",
   "execution_count": null,
   "id": "f962bd74",
   "metadata": {},
   "outputs": [],
   "source": [
    "import numpy as np\n",
    "import pandas as pd\n",
    "import matplotlib.pyplot as plt\n",
    "import seaborn as sns\n",
    "\n",
    "# Normalizacion\n",
    "from sklearn.preprocessing import MinMaxScaler\n",
    "\n",
    "# GridSearchCV\n",
    "from sklearn.model_selection import GridSearchCV\n",
    "\n",
    "# Train, Test\n",
    "from sklearn.model_selection import train_test_split\n",
    "\n",
    "# Metricas para regresiones\n",
    "from sklearn.metrics import mean_absolute_error\n",
    "from sklearn.metrics import mean_squared_error\n",
    "from sklearn.metrics import r2_score\n",
    "\n",
    "# Regresores\n",
    "from sklearn.linear_model import LinearRegression\n",
    "\n",
    "# Validacion\n",
    "from sklearn.model_selection import LeaveOneOut\n",
    "from sklearn.model_selection import KFold"
   ]
  },
  {
   "cell_type": "code",
   "execution_count": null,
   "id": "29c3e8bb",
   "metadata": {},
   "outputs": [],
   "source": []
  },
  {
   "cell_type": "code",
   "execution_count": null,
   "id": "e45bdcbb",
   "metadata": {},
   "outputs": [],
   "source": []
  },
  {
   "cell_type": "code",
   "execution_count": null,
   "id": "427937e5",
   "metadata": {},
   "outputs": [],
   "source": []
  },
  {
   "cell_type": "code",
   "execution_count": null,
   "id": "bd19ab02",
   "metadata": {},
   "outputs": [],
   "source": []
  },
  {
   "cell_type": "code",
   "execution_count": null,
   "id": "9ced0ea4",
   "metadata": {},
   "outputs": [],
   "source": []
  },
  {
   "cell_type": "code",
   "execution_count": null,
   "id": "6457af9e",
   "metadata": {},
   "outputs": [],
   "source": []
  },
  {
   "cell_type": "code",
   "execution_count": null,
   "id": "3f0d762a",
   "metadata": {},
   "outputs": [],
   "source": []
  }
 ],
 "metadata": {
  "kernelspec": {
   "display_name": "Python 3",
   "language": "python",
   "name": "python3"
  },
  "language_info": {
   "codemirror_mode": {
    "name": "ipython",
    "version": 3
   },
   "file_extension": ".py",
   "mimetype": "text/x-python",
   "name": "python",
   "nbconvert_exporter": "python",
   "pygments_lexer": "ipython3",
   "version": "3.8.8"
  }
 },
 "nbformat": 4,
 "nbformat_minor": 5
}
