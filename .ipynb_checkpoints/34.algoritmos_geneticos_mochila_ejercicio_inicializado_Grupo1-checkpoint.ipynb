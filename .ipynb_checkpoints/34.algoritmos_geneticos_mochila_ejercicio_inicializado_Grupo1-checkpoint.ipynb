{
 "cells": [
  {
   "cell_type": "markdown",
   "id": "f4629a61",
   "metadata": {},
   "source": [
    "## Algoritmos Genéticos: Problema de la Mochila\n",
    "\n",
    "Siguiendo los pasos de la teoria de Algoritmos Genéticos, has el algoritmo del problema de la mochila.\n",
    "\n",
    "- Población Inicial: 20\n",
    "- Número de Genes: 20\n",
    "- Probabilidad de Cruce: 0.9\n",
    "- Probabilidad de Mutación: 0.1\n",
    "- Peso Maximo = 2500"
   ]
  },
  {
   "cell_type": "code",
   "execution_count": 1,
   "id": "ffd12930",
   "metadata": {},
   "outputs": [],
   "source": [
    "import random\n",
    "import numpy as np"
   ]
  },
  {
   "cell_type": "code",
   "execution_count": 2,
   "id": "28c18268",
   "metadata": {},
   "outputs": [],
   "source": [
    "probabilidad_cruce = 0.9\n",
    "probabilidad_mutacion = 0.1"
   ]
  },
  {
   "cell_type": "code",
   "execution_count": 3,
   "id": "18591134",
   "metadata": {},
   "outputs": [],
   "source": [
    "n_genes = 20\n",
    "peso_max = 2500\n",
    "n_poblacion = 20 \n",
    "\n",
    "# nombres = [f\"objeto_{i}\" for i in range(n_genes)]\n",
    "# print(nombres)"
   ]
  },
  {
   "cell_type": "code",
   "execution_count": 4,
   "id": "406b08f5",
   "metadata": {},
   "outputs": [
    {
     "name": "stdout",
     "output_type": "stream",
     "text": [
      "[143, 253, 177, 204, 363, 362, 274, 274, 185, 174, 299, 187, 140, 327, 234, 145, 348, 167, 113, 397]\n"
     ]
    }
   ],
   "source": [
    "pesos = [random.randint(100, 400) for i in range(n_genes)]\n",
    "print(pesos)"
   ]
  },
  {
   "cell_type": "code",
   "execution_count": 5,
   "id": "1065465a",
   "metadata": {},
   "outputs": [
    {
     "name": "stdout",
     "output_type": "stream",
     "text": [
      "[690, 607, 702, 772, 710, 725, 694, 741, 547, 541, 508, 545, 619, 610, 526, 561, 563, 541, 748, 500]\n"
     ]
    }
   ],
   "source": [
    "valores = [random.randint(500, 800) for i in range(n_genes)]\n",
    "print(valores)"
   ]
  },
  {
   "cell_type": "code",
   "execution_count": 6,
   "id": "61ce2d1e",
   "metadata": {},
   "outputs": [],
   "source": [
    "def inicializar_poblacion(n_poblacion, n_genes, peso_max):\n",
    "    poblacion = list()\n",
    "\n",
    "    while len(poblacion) < n_poblacion:\n",
    "        individuo = [random.randint(0, 1) for i in range(n_genes)]\n",
    "\n",
    "        peso_individuo = np.dot(individuo, pesos)\n",
    "\n",
    "        if peso_individuo <= peso_max:\n",
    "            poblacion.append(individuo)\n",
    "    return poblacion"
   ]
  },
  {
   "cell_type": "code",
   "execution_count": 7,
   "id": "cbb176e6",
   "metadata": {},
   "outputs": [
    {
     "data": {
      "text/plain": [
       "[[1, 0, 1, 0, 0, 0, 1, 0, 0, 0, 0, 1, 1, 1, 0, 0, 1, 1, 1, 1],\n",
       " [1, 0, 0, 1, 1, 0, 1, 0, 1, 1, 0, 0, 1, 1, 0, 1, 0, 0, 1, 0],\n",
       " [0, 1, 0, 0, 0, 0, 1, 0, 1, 0, 1, 0, 1, 0, 1, 1, 1, 0, 0, 1],\n",
       " [1, 0, 1, 0, 1, 1, 0, 1, 0, 0, 0, 0, 0, 1, 0, 0, 0, 0, 0, 0],\n",
       " [0, 1, 1, 0, 0, 0, 0, 0, 0, 1, 1, 0, 0, 0, 1, 1, 1, 1, 0, 0],\n",
       " [0, 0, 1, 0, 0, 0, 1, 1, 0, 1, 0, 0, 1, 0, 0, 1, 0, 1, 1, 1],\n",
       " [1, 1, 0, 1, 0, 1, 0, 1, 0, 1, 1, 1, 1, 0, 0, 0, 0, 0, 0, 1],\n",
       " [0, 0, 0, 1, 1, 1, 1, 1, 0, 0, 0, 0, 1, 1, 0, 0, 1, 0, 0, 0],\n",
       " [0, 0, 0, 1, 0, 1, 1, 0, 1, 1, 1, 1, 0, 0, 1, 0, 0, 0, 1, 1],\n",
       " [0, 1, 0, 0, 0, 1, 1, 0, 0, 1, 0, 1, 0, 0, 1, 1, 0, 1, 1, 0],\n",
       " [0, 0, 0, 0, 1, 0, 1, 0, 0, 0, 0, 1, 0, 1, 0, 0, 0, 1, 1, 1],\n",
       " [0, 1, 0, 0, 0, 1, 1, 1, 0, 1, 0, 0, 0, 0, 1, 0, 0, 1, 0, 0],\n",
       " [1, 1, 1, 0, 1, 0, 1, 0, 0, 1, 1, 0, 0, 1, 1, 0, 0, 1, 0, 0],\n",
       " [0, 0, 0, 0, 1, 0, 0, 1, 1, 0, 1, 1, 0, 1, 1, 1, 0, 1, 0, 0],\n",
       " [0, 0, 1, 0, 1, 1, 0, 1, 0, 0, 1, 0, 0, 0, 1, 0, 0, 0, 0, 1],\n",
       " [0, 0, 0, 1, 0, 0, 0, 0, 0, 1, 1, 0, 1, 0, 1, 1, 1, 0, 1, 1],\n",
       " [0, 0, 0, 0, 0, 1, 0, 0, 0, 1, 1, 0, 0, 1, 0, 0, 1, 1, 0, 0],\n",
       " [1, 0, 1, 0, 0, 1, 0, 0, 1, 1, 1, 0, 0, 0, 1, 1, 1, 1, 0, 0],\n",
       " [1, 0, 0, 0, 1, 0, 1, 1, 0, 1, 0, 0, 1, 0, 0, 0, 1, 1, 0, 1],\n",
       " [0, 0, 1, 0, 0, 0, 0, 0, 1, 0, 0, 0, 0, 1, 0, 0, 1, 1, 0, 1]]"
      ]
     },
     "execution_count": 7,
     "metadata": {},
     "output_type": "execute_result"
    }
   ],
   "source": [
    "poblacion = inicializar_poblacion(n_poblacion, n_genes, peso_max)\n",
    "poblacion"
   ]
  },
  {
   "cell_type": "code",
   "execution_count": 8,
   "id": "a6303f1e",
   "metadata": {},
   "outputs": [
    {
     "name": "stdout",
     "output_type": "stream",
     "text": [
      "0 6212 2273\n",
      "1 6492 2068\n",
      "2 5125 2275\n",
      "3 4178 1646\n",
      "4 4549 1797\n",
      "5 5647 1861\n",
      "6 6248 2433\n",
      "7 5434 2292\n",
      "8 6106 2429\n",
      "9 5488 1909\n",
      "10 4348 1828\n",
      "11 4375 1738\n",
      "12 6129 2411\n",
      "13 5289 2181\n",
      "14 4412 2106\n",
      "15 5338 2054\n",
      "16 3488 1677\n",
      "17 5904 2234\n",
      "18 5599 2280\n",
      "19 3463 1601\n"
     ]
    }
   ],
   "source": [
    "for num, individuo in enumerate(poblacion):\n",
    " print(num, np.dot(individuo, valores), np.dot(individuo, pesos))"
   ]
  },
  {
   "cell_type": "code",
   "execution_count": 9,
   "id": "4a2b5889",
   "metadata": {},
   "outputs": [],
   "source": [
    "# Selección por torneo\n",
    "def elegir_padre(poblacion, n_candidatos):\n",
    "    \n",
    "    candidatos = random.sample(population = poblacion, k = n_candidatos)\n",
    "    \n",
    "    lista_valor = list()\n",
    "\n",
    "    for num, individuo in enumerate(candidatos):\n",
    "        lista_valor.append([num, np.dot(individuo, valores)])\n",
    "\n",
    "    seleccion = sorted(lista_valor, key = lambda x : x[1])[-1] # lista: [posicion, valor]\n",
    "    \n",
    "    padre = candidatos[seleccion[0]] # individuo padre a partir de \"posicion\"\n",
    "    \n",
    "    return padre"
   ]
  },
  {
   "cell_type": "code",
   "execution_count": 10,
   "id": "b5734016",
   "metadata": {},
   "outputs": [
    {
     "name": "stdout",
     "output_type": "stream",
     "text": [
      "[1, 0, 1, 0, 0, 0, 1, 0, 0, 0, 0, 1, 1, 1, 0, 0, 1, 1, 1, 1]\n",
      "[1, 0, 1, 0, 0, 0, 1, 0, 0, 0, 0, 1, 1, 1, 0, 0, 1, 1, 1, 1]\n"
     ]
    }
   ],
   "source": [
    "k = 5\n",
    "\n",
    "padre1 = elegir_padre(poblacion, k)\n",
    "padre2 = elegir_padre(poblacion, k)\n",
    "print(padre1)\n",
    "print(padre2)"
   ]
  },
  {
   "cell_type": "code",
   "execution_count": 11,
   "id": "caa2ddb8",
   "metadata": {},
   "outputs": [],
   "source": [
    "def cruce(padre1, padre2, probabilidad_cruce, n_genes, peso_max):\n",
    "\n",
    "    hijo1 = list()\n",
    "    hijo2 = list()\n",
    "    \n",
    "    # Cruzamiento binario uniforme\n",
    "    if random.random() < probabilidad_cruce:\n",
    "\n",
    "        # 1: padre1, 2: padre2\n",
    "\n",
    "        for i in range(n_genes):\n",
    "            padre = random.randint(1, 2)\n",
    "            if padre == 1:\n",
    "                hijo1.append(padre1[i])\n",
    "                hijo2.append(padre2[i])\n",
    "            else:\n",
    "                hijo1.append(padre2[i])\n",
    "                hijo2.append(padre1[i])\n",
    "    \n",
    "        # Si alguno supera el peso máximo, se repite el proceso\n",
    "        if (np.dot(hijo1, pesos) > peso_max) or (np.dot(hijo2, pesos) > peso_max):\n",
    "            hijo1, hijo2 = cruce(padre1, padre2, probabilidad_cruce, n_genes, peso_max)\n",
    "    \n",
    "    else:\n",
    "        # Si la probabilidad de cruce impide generar hijos, se repite el proceso\n",
    "        hijo1, hijo2 = cruce(padre1, padre2, probabilidad_cruce, n_genes, peso_max)\n",
    "    \n",
    "    return hijo1, hijo2"
   ]
  },
  {
   "cell_type": "code",
   "execution_count": 12,
   "id": "f27a0028",
   "metadata": {},
   "outputs": [],
   "source": [
    "hijo1, hijo2 = cruce(padre1, padre2, probabilidad_cruce, n_genes, peso_max)"
   ]
  },
  {
   "cell_type": "code",
   "execution_count": 13,
   "id": "5f67ed07",
   "metadata": {},
   "outputs": [
    {
     "data": {
      "text/plain": [
       "[1, 0, 1, 0, 0, 0, 1, 0, 0, 0, 0, 1, 1, 1, 0, 0, 1, 1, 1, 1]"
      ]
     },
     "execution_count": 13,
     "metadata": {},
     "output_type": "execute_result"
    }
   ],
   "source": [
    "hijo1"
   ]
  },
  {
   "cell_type": "code",
   "execution_count": 14,
   "id": "ed4a22fc",
   "metadata": {},
   "outputs": [
    {
     "data": {
      "text/plain": [
       "[1, 0, 1, 0, 0, 0, 1, 0, 0, 0, 0, 1, 1, 1, 0, 0, 1, 1, 1, 1]"
      ]
     },
     "execution_count": 14,
     "metadata": {},
     "output_type": "execute_result"
    }
   ],
   "source": [
    " hijo2"
   ]
  },
  {
   "cell_type": "code",
   "execution_count": 15,
   "id": "f41481df",
   "metadata": {},
   "outputs": [],
   "source": [
    "# Mutación binaria\n",
    "def mutacion(probabilidad_mutacion, hijo1, hijo2, peso_max):\n",
    "\n",
    "    hijo1_copia = hijo1.copy()\n",
    "    hijo2_copia = hijo2.copy()\n",
    "\n",
    "    if random.random() < probabilidad_mutacion:\n",
    "        posicion = random.randint(0, 19)\n",
    "#         print(posicion)\n",
    "\n",
    "        if hijo1_copia[posicion] == 0:\n",
    "            hijo1_copia[posicion] = 1\n",
    "        else:\n",
    "            hijo1_copia[posicion] = 0\n",
    "        if hijo2_copia[posicion] == 0:\n",
    "            hijo2_copia[posicion] = 1\n",
    "        else:\n",
    "            hijo2_copia[posicion] = 0\n",
    "\n",
    "        # Si alguno supera el peso máximo, se repite el proceso\n",
    "        if (np.dot(hijo1_copia, pesos) > peso_max) or (np.dot(hijo2_copia, pesos) > peso_max):\n",
    "            hijo1, hijo2 = mutacion(probabilidad_mutacion, hijo1, hijo2, peso_max)\n",
    "        \n",
    "    else:\n",
    "        pass\n",
    "    \n",
    "    return hijo1_copia, hijo2_copia"
   ]
  },
  {
   "cell_type": "code",
   "execution_count": 16,
   "id": "e73ff2ad",
   "metadata": {},
   "outputs": [
    {
     "data": {
      "text/plain": [
       "[1, 0, 1, 0, 0, 0, 1, 0, 0, 0, 0, 1, 1, 1, 0, 0, 1, 1, 1, 1]"
      ]
     },
     "execution_count": 16,
     "metadata": {},
     "output_type": "execute_result"
    }
   ],
   "source": [
    "hijo1 #[1, 0, 0, 1, 1, 0, 1, 1, 0, 0, 1, 0, 1, 1, 1, 0, 0, 0, 1, 0]"
   ]
  },
  {
   "cell_type": "code",
   "execution_count": 17,
   "id": "012aebb4",
   "metadata": {},
   "outputs": [
    {
     "data": {
      "text/plain": [
       "[1, 0, 1, 0, 0, 0, 1, 0, 0, 0, 0, 1, 1, 1, 0, 0, 1, 1, 1, 1]"
      ]
     },
     "execution_count": 17,
     "metadata": {},
     "output_type": "execute_result"
    }
   ],
   "source": [
    "hijo2"
   ]
  },
  {
   "cell_type": "code",
   "execution_count": 18,
   "id": "e7723d19",
   "metadata": {},
   "outputs": [],
   "source": [
    "def reemplazo(poblacion, hijo1, hijo2):\n",
    "    # Reemplazo estacional con reemplazo aleatorio\n",
    "\n",
    "    reemplazados = random.sample(population = poblacion, k = 2)\n",
    "\n",
    "    for reemplazado in reemplazados:\n",
    "        poblacion.remove(reemplazado)\n",
    "\n",
    "    poblacion.append(hijo1)\n",
    "    poblacion.append(hijo2)\n",
    "    \n",
    "    return poblacion"
   ]
  },
  {
   "cell_type": "code",
   "execution_count": 19,
   "id": "9a66e202",
   "metadata": {
    "scrolled": true
   },
   "outputs": [
    {
     "data": {
      "text/plain": [
       "[[1, 0, 1, 0, 0, 0, 1, 0, 0, 0, 0, 1, 1, 1, 0, 0, 1, 1, 1, 1],\n",
       " [1, 0, 0, 1, 1, 0, 1, 0, 1, 1, 0, 0, 1, 1, 0, 1, 0, 0, 1, 0],\n",
       " [0, 1, 0, 0, 0, 0, 1, 0, 1, 0, 1, 0, 1, 0, 1, 1, 1, 0, 0, 1],\n",
       " [1, 0, 1, 0, 1, 1, 0, 1, 0, 0, 0, 0, 0, 1, 0, 0, 0, 0, 0, 0],\n",
       " [0, 1, 1, 0, 0, 0, 0, 0, 0, 1, 1, 0, 0, 0, 1, 1, 1, 1, 0, 0],\n",
       " [0, 0, 1, 0, 0, 0, 1, 1, 0, 1, 0, 0, 1, 0, 0, 1, 0, 1, 1, 1],\n",
       " [1, 1, 0, 1, 0, 1, 0, 1, 0, 1, 1, 1, 1, 0, 0, 0, 0, 0, 0, 1],\n",
       " [0, 0, 0, 1, 0, 1, 1, 0, 1, 1, 1, 1, 0, 0, 1, 0, 0, 0, 1, 1],\n",
       " [0, 1, 0, 0, 0, 1, 1, 0, 0, 1, 0, 1, 0, 0, 1, 1, 0, 1, 1, 0],\n",
       " [0, 0, 0, 0, 1, 0, 1, 0, 0, 0, 0, 1, 0, 1, 0, 0, 0, 1, 1, 1],\n",
       " [0, 1, 0, 0, 0, 1, 1, 1, 0, 1, 0, 0, 0, 0, 1, 0, 0, 1, 0, 0],\n",
       " [1, 1, 1, 0, 1, 0, 1, 0, 0, 1, 1, 0, 0, 1, 1, 0, 0, 1, 0, 0],\n",
       " [0, 0, 0, 0, 1, 0, 0, 1, 1, 0, 1, 1, 0, 1, 1, 1, 0, 1, 0, 0],\n",
       " [0, 0, 1, 0, 1, 1, 0, 1, 0, 0, 1, 0, 0, 0, 1, 0, 0, 0, 0, 1],\n",
       " [0, 0, 0, 1, 0, 0, 0, 0, 0, 1, 1, 0, 1, 0, 1, 1, 1, 0, 1, 1],\n",
       " [1, 0, 1, 0, 0, 1, 0, 0, 1, 1, 1, 0, 0, 0, 1, 1, 1, 1, 0, 0],\n",
       " [1, 0, 0, 0, 1, 0, 1, 1, 0, 1, 0, 0, 1, 0, 0, 0, 1, 1, 0, 1],\n",
       " [0, 0, 1, 0, 0, 0, 0, 0, 1, 0, 0, 0, 0, 1, 0, 0, 1, 1, 0, 1],\n",
       " [1, 0, 1, 0, 0, 0, 1, 0, 0, 0, 0, 1, 1, 1, 0, 0, 1, 1, 1, 1],\n",
       " [1, 0, 1, 0, 0, 0, 1, 0, 0, 0, 0, 1, 1, 1, 0, 0, 1, 1, 1, 1]]"
      ]
     },
     "execution_count": 19,
     "metadata": {},
     "output_type": "execute_result"
    }
   ],
   "source": [
    "poblacion = reemplazo(poblacion, hijo1, hijo2)\n",
    "poblacion"
   ]
  },
  {
   "cell_type": "code",
   "execution_count": 20,
   "id": "631e21b6",
   "metadata": {},
   "outputs": [],
   "source": [
    "def mejor_individuo(poblacion):\n",
    "    \n",
    "    lista_valor = list()\n",
    "\n",
    "    for num, individuo in enumerate(poblacion):\n",
    "        lista_valor.append([num, np.dot(individuo, valores)])\n",
    "\n",
    "    seleccion = sorted(lista_valor, key = lambda x : x[1])[-1] # lista: [posicion, valor]\n",
    "\n",
    "    mejor = poblacion[seleccion[0]]\n",
    "    \n",
    "    return mejor"
   ]
  },
  {
   "cell_type": "code",
   "execution_count": 21,
   "id": "6d698063-7cb4-425f-9e22-6031cb1b4599",
   "metadata": {},
   "outputs": [
    {
     "data": {
      "text/plain": [
       "[1, 0, 0, 1, 1, 0, 1, 0, 1, 1, 0, 0, 1, 1, 0, 1, 0, 0, 1, 0]"
      ]
     },
     "execution_count": 21,
     "metadata": {},
     "output_type": "execute_result"
    }
   ],
   "source": [
    "mejor_individuo(poblacion)"
   ]
  },
  {
   "cell_type": "code",
   "execution_count": 22,
   "id": "42c697f2-9858-4b0a-8e24-14b9b81be850",
   "metadata": {},
   "outputs": [
    {
     "data": {
      "text/plain": [
       "(6492, 2068)"
      ]
     },
     "execution_count": 22,
     "metadata": {},
     "output_type": "execute_result"
    }
   ],
   "source": [
    "np.dot(mejor_individuo(poblacion), valores), np.dot(mejor_individuo(poblacion), pesos)"
   ]
  },
  {
   "cell_type": "code",
   "execution_count": 23,
   "id": "1c7f1da3",
   "metadata": {},
   "outputs": [],
   "source": [
    "def algoritmo_genetico_mochila(n_poblacion, n_genes, probabilidad_cruce, probabilidad_mutacion, peso_max):\n",
    "    \n",
    "    lista_mejores_individuos = list()\n",
    "    \n",
    "    # Inicialización\n",
    "    poblacion = inicializar_poblacion(n_poblacion, n_genes, peso_max)\n",
    "    k = 5\n",
    "    for generacion in range(50):\n",
    "        # Selección de padres\n",
    "        print(generacion)\n",
    "       \n",
    "        padre1 = elegir_padre(poblacion, k)\n",
    "        padre2 = elegir_padre(poblacion, k)\n",
    "        \n",
    "        print(\"Padres seleccionados\")\n",
    "\n",
    "        # Cruce\n",
    "        hijo1, hijo2 = cruce(padre1, padre2, probabilidad_cruce, n_genes, peso_max)\n",
    "        print(\"Cruce reralizado\")\n",
    "        # Mutación\n",
    "        hijo1, hijo2 = mutacion(probabilidad_mutacion, hijo1, hijo2, peso_max)\n",
    "        print(\"Mutación hecha\")\n",
    "\n",
    "        # Reemplazo\n",
    "        poblacion = reemplazo(poblacion, hijo1, hijo2)\n",
    "        \n",
    "        lista_mejores_individuos.append(mejor_individuo(poblacion))\n",
    "        print(\"Remplazo realizado\")\n",
    "    \n",
    "    return lista_mejores_individuos"
   ]
  },
  {
   "cell_type": "code",
   "execution_count": null,
   "id": "329232ea",
   "metadata": {},
   "outputs": [],
   "source": [
    "mejor_individuo = algoritmo_genetico_mochila(n_poblacion, n_genes, probabilidad_cruce, probabilidad_mutacion, peso_max)"
   ]
  },
  {
   "cell_type": "code",
   "execution_count": null,
   "id": "f93d5ed9",
   "metadata": {},
   "outputs": [],
   "source": [
    "mejor_individuo"
   ]
  },
  {
   "cell_type": "code",
   "execution_count": null,
   "id": "b8651d75",
   "metadata": {},
   "outputs": [],
   "source": []
  },
  {
   "cell_type": "code",
   "execution_count": null,
   "id": "3373313c",
   "metadata": {},
   "outputs": [],
   "source": []
  },
  {
   "cell_type": "code",
   "execution_count": null,
   "id": "2fe5252c",
   "metadata": {},
   "outputs": [],
   "source": []
  },
  {
   "cell_type": "code",
   "execution_count": null,
   "id": "d39fdc43",
   "metadata": {},
   "outputs": [],
   "source": []
  }
 ],
 "metadata": {
  "kernelspec": {
   "display_name": "Python 3 (ipykernel)",
   "language": "python",
   "name": "python3"
  },
  "language_info": {
   "codemirror_mode": {
    "name": "ipython",
    "version": 3
   },
   "file_extension": ".py",
   "mimetype": "text/x-python",
   "name": "python",
   "nbconvert_exporter": "python",
   "pygments_lexer": "ipython3",
   "version": "3.9.7"
  }
 },
 "nbformat": 4,
 "nbformat_minor": 5
}
