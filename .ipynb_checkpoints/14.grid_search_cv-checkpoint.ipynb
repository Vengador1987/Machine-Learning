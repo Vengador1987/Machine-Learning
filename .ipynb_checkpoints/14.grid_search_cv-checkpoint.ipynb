{
 "cells": [
  {
   "cell_type": "markdown",
   "id": "a8a6c3ff",
   "metadata": {},
   "source": [
    "## Grid Search CV\n",
    "\n",
    "GridSearchCV es una herramienta de la libreria Sklearn.\n",
    "\n",
    "Esta herramienta hace una busqueda exhaustiva (o por fuerza bruta) de los mejores parámetros de un modelo siguiendo alguna métrica en particular.\n",
    "\n",
    "_**Documentacion:** https://scikit-learn.org/stable/modules/generated/sklearn.model_selection.GridSearchCV.html_"
   ]
  },
  {
   "cell_type": "code",
   "execution_count": null,
   "id": "abf83e42",
   "metadata": {},
   "outputs": [],
   "source": [
    "import numpy as np\n",
    "import pandas as pd\n",
    "import matplotlib.pyplot as plt\n",
    "import seaborn as sns\n",
    "\n",
    "# Normalizacion\n",
    "from sklearn.preprocessing import MinMaxScaler\n",
    "\n",
    "# Train, Test\n",
    "from sklearn.model_selection import train_test_split\n",
    "\n",
    "# Metricas\n",
    "from sklearn.metrics import jaccard_score\n",
    "from sklearn.metrics import accuracy_score\n",
    "from sklearn.metrics import precision_score\n",
    "from sklearn.metrics import recall_score\n",
    "from sklearn.metrics import f1_score\n",
    "from sklearn.metrics import roc_auc_score\n",
    "\n",
    "from sklearn.metrics import confusion_matrix\n",
    "from sklearn.metrics import classification_report"
   ]
  },
  {
   "cell_type": "code",
   "execution_count": null,
   "id": "9b29258d",
   "metadata": {},
   "outputs": [],
   "source": [
    "# Dataset del titanic preprocesado en clase\n",
    "\n",
    "titanic = pd.read_csv(\"titanic_preprocesamiento.csv\")\n",
    "\n",
    "X = titanic.drop([\"Fare-Binning\", \"Age-Binning\", \"Survived\"], axis = 1)\n",
    "y = titanic[\"Survived\"]\n",
    "\n",
    "X_train, X_test, y_train, y_test = train_test_split(X, y, test_size = 0.3, random_state = 42)\n",
    "\n",
    "print(f\"X_train: {X_train.shape}, y_train: {y_train.shape}\")\n",
    "print(f\"X_test: {X_test.shape},  y_test: {y_test.shape}\")"
   ]
  },
  {
   "cell_type": "markdown",
   "id": "3bcb37b8",
   "metadata": {},
   "source": [
    "### Modelo"
   ]
  },
  {
   "cell_type": "code",
   "execution_count": null,
   "id": "55d5161f",
   "metadata": {},
   "outputs": [],
   "source": [
    "from sklearn.neighbors import KNeighborsClassifier"
   ]
  },
  {
   "cell_type": "code",
   "execution_count": null,
   "id": "e0dc9844",
   "metadata": {},
   "outputs": [],
   "source": [
    "model = KNeighborsClassifier()\n",
    "model.fit(X_train, y_train)"
   ]
  },
  {
   "cell_type": "markdown",
   "id": "3e2430fa",
   "metadata": {},
   "source": [
    "### Predicciones"
   ]
  },
  {
   "cell_type": "code",
   "execution_count": null,
   "id": "cac68e4b",
   "metadata": {
    "scrolled": true
   },
   "outputs": [],
   "source": [
    "yhat = model.predict(X_test)\n",
    "\n",
    "yhat"
   ]
  },
  {
   "cell_type": "code",
   "execution_count": null,
   "id": "d0942b8d",
   "metadata": {},
   "outputs": [],
   "source": [
    "print(\"Jaccard Index:\", jaccard_score(y_test, yhat, average = \"macro\"))\n",
    "print(\"Accuracy:\"     , accuracy_score(y_test, yhat))\n",
    "print(\"Precisión:\"    , precision_score(y_test, yhat, average = \"macro\"))\n",
    "print(\"Sensibilidad:\" , recall_score(y_test, yhat, average = \"macro\"))\n",
    "print(\"F1-score:\"     , f1_score(y_test, yhat, average = \"macro\"))\n",
    "print(\"ROC AUC:\"      , roc_auc_score(y_test, yhat))"
   ]
  },
  {
   "cell_type": "markdown",
   "id": "50b90287",
   "metadata": {},
   "source": [
    "### GridSearchCV"
   ]
  },
  {
   "cell_type": "code",
   "execution_count": null,
   "id": "cfa5cad5",
   "metadata": {},
   "outputs": [],
   "source": [
    "from sklearn.model_selection import GridSearchCV"
   ]
  },
  {
   "cell_type": "code",
   "execution_count": null,
   "id": "5d2027fb",
   "metadata": {},
   "outputs": [],
   "source": [
    "%%time\n",
    "\n",
    "# Modelo\n",
    "model = KNeighborsClassifier()\n",
    "\n",
    "# Parametros a iterar\n",
    "params = {\"n_neighbors\" : [3, 4, 5, 6]}\n",
    "\n",
    "# Metricas\n",
    "scorers = {\"f1_macro\", \"accuracy\", \"recall_macro\"}\n",
    "\n",
    "#GridSearchCV\n",
    "grid_solver = GridSearchCV(estimator  = model     , \n",
    "                           param_grid = params    , \n",
    "                           scoring    = scorers   ,\n",
    "                           cv         = 5         ,\n",
    "                           refit      = \"accuracy\",\n",
    "                           n_jobs     = -1         )\n",
    "\n",
    "# Resultados\n",
    "model_result = grid_solver.fit(X_train, y_train)"
   ]
  },
  {
   "cell_type": "code",
   "execution_count": null,
   "id": "b6a57b09",
   "metadata": {},
   "outputs": [],
   "source": [
    "# model_result.best_estimator es el mejor modelo que obtuvimos al iterar sobre todos los parámetros\n",
    "# \n",
    "\n",
    "model_result.best_estimator_"
   ]
  },
  {
   "cell_type": "code",
   "execution_count": null,
   "id": "223a1f97",
   "metadata": {},
   "outputs": [],
   "source": [
    "yhat = model_result.best_estimator_.predict(X_test)\n",
    "\n",
    "print(\"Jaccard Index:\", jaccard_score(y_test, yhat, average = \"macro\"))\n",
    "print(\"Accuracy:\"     , accuracy_score(y_test, yhat))\n",
    "print(\"Precisión:\"    , precision_score(y_test, yhat, average = \"macro\"))\n",
    "print(\"Sensibilidad:\" , recall_score(y_test, yhat, average = \"macro\"))\n",
    "print(\"F1-score:\"     , f1_score(y_test, yhat, average = \"macro\"))\n",
    "print(\"ROC AUC:\"      , roc_auc_score(y_test, yhat))"
   ]
  },
  {
   "cell_type": "code",
   "execution_count": null,
   "id": "66d3691e",
   "metadata": {
    "scrolled": true
   },
   "outputs": [],
   "source": [
    "model_result.cv_results_"
   ]
  },
  {
   "cell_type": "code",
   "execution_count": null,
   "id": "2dc0178e",
   "metadata": {},
   "outputs": [],
   "source": [
    "print(model_result.cv_results_[\"mean_test_recall_macro\"].mean())\n",
    "print(model_result.cv_results_[\"mean_test_f1_macro\"].mean())\n",
    "print(model_result.cv_results_[\"mean_test_accuracy\"].mean())\n",
    "\n",
    "print(model_result.best_score_)\n",
    "print(model_result.best_params_)"
   ]
  },
  {
   "cell_type": "code",
   "execution_count": null,
   "id": "9d18073e",
   "metadata": {},
   "outputs": [],
   "source": [
    "%%time\n",
    "\n",
    "from sklearn.ensemble import RandomForestClassifier\n",
    "\n",
    "model = RandomForestClassifier()\n",
    "\n",
    "params = {\"n_estimators\"           : [100, 200, 300], # Numero de arboles\n",
    "          \"criterion\"              : [\"gini\", \"entropy\"], # Es la función para medir la calidad de una división/split.\n",
    "          \"max_depth\"              : [3, 4, 5], # La profundidad máxima del árbol.\n",
    "          \"max_features\"           : [2, 3], # El número de características (atributos) a considerar en cada split\n",
    "          \"max_leaf_nodes\"         : [8], # Maximo de nodos hoja del arbol\n",
    "          \"min_impurity_decrease\"  : [0.02, 0.3], # Un nodo se dividirá si esta división induce una disminución de la impureza mayor o igual a este valor.\n",
    "          \"min_samples_split\"      : [2, 5]} # El número mínimo de muestras requeridas para llegar a nodo hoja.\n",
    "\n",
    "scorers = {\"f1_macro\", \"accuracy\", \"recall_macro\"}\n",
    "\n",
    "grid_solver = GridSearchCV(estimator  = model    , \n",
    "                           param_grid = params   , \n",
    "                           scoring    = scorers  ,\n",
    "                           cv         = 5        ,\n",
    "                           refit      = \"accuracy\",\n",
    "                           n_jobs     = -1        )\n",
    "\n",
    "model_result = grid_solver.fit(X_train, y_train)\n",
    "\n",
    "print(model_result.cv_results_[\"mean_test_recall_macro\"].mean())\n",
    "print(model_result.cv_results_[\"mean_test_f1_macro\"].mean())\n",
    "print(model_result.cv_results_[\"mean_test_accuracy\"].mean())\n",
    "\n",
    "print(\"*\"*100)\n",
    "\n",
    "print(model_result.best_score_)\n",
    "print(model_result.best_params_)"
   ]
  },
  {
   "cell_type": "code",
   "execution_count": null,
   "id": "775a902a",
   "metadata": {},
   "outputs": [],
   "source": [
    "# Metricas para el GridSearchCV\n",
    "\n",
    "from sklearn.metrics import SCORERS\n",
    "\n",
    "sorted(SCORERS.keys())"
   ]
  },
  {
   "cell_type": "code",
   "execution_count": null,
   "id": "49463abb",
   "metadata": {},
   "outputs": [],
   "source": []
  }
 ],
 "metadata": {
  "kernelspec": {
   "display_name": "Python 3",
   "language": "python",
   "name": "python3"
  },
  "language_info": {
   "codemirror_mode": {
    "name": "ipython",
    "version": 3
   },
   "file_extension": ".py",
   "mimetype": "text/x-python",
   "name": "python",
   "nbconvert_exporter": "python",
   "pygments_lexer": "ipython3",
   "version": "3.8.8"
  }
 },
 "nbformat": 4,
 "nbformat_minor": 5
}
