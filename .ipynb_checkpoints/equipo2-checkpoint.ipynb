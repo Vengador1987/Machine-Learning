{
 "cells": [
  {
   "cell_type": "markdown",
   "id": "fcda8787",
   "metadata": {},
   "source": [
    "## Programación Orientada a Objetos Ejercicios"
   ]
  },
  {
   "cell_type": "markdown",
   "id": "d9ec0018",
   "metadata": {},
   "source": [
    "### Ejercicio 1:\n",
    "- Define una clase con el nombre **`CuentaBancaria`**:\n",
    "\n",
    "1. Parametros: esta clase va a tomar los parametros: **`nombre`**, **`apellido`**, **`dni`**, **`tipo_cuenta`**.\n",
    "- **`tipo_cuenta`** puede ser **\"Debito\"** o **\"Credito\"**.\n",
    "- Define estos parametros en la clase como atributos con el mismo nombre:\n",
    "    - **Ejemplo:** **`self.nombre = nombre`**\n",
    "            \n",
    "================================================================================================================================            \n",
    "\n",
    "2. Atributos: además de los atributos creados en base a los parametros, inicializa los siguientes:\n",
    "- **`email`** que sera un string con la siguiente forma **`nombre.apellido@python.com`** (todo en minúsculas).\n",
    "- **`balance`** que sera un número flotante aleatorio entre 100 y 1000.\n",
    "- **`id_usuario`** que sera un **número aleatorio entre 1000000 y 9999999**.\n",
    "    \n",
    "===============================================================================================================================\n",
    "        \n",
    "3. Métodos:\n",
    "- **`usuario_info()`** que no tome parametros y que imprima por pantalla los datos de la persona (**`nombre`**, **`apellido`**, **`email`**, **`dni`**, **`id_usuario`** y **`tipo_cuenta`**)\n",
    "\n",
    "\n",
    "- **`mostrar_balance()`** que no tome parametros y que imprima por pantalla el balance actual de la persona, si el balance es negativo que imprima una advertencia.\n",
    "\n",
    "\n",
    "- **`ingresar()`** que tome como parametro un número positvo (**`ingreso`**) y que modifique el valor del atributo **`balance`** sumandole el valor de **`ingreso`**, luego que llame al método **`mostrar_balance()`**.\n",
    "\n",
    "\n",
    "- **`hacer_bizum()`** que tome como parametro un número positvo (**`bizum`**) y que haga lo siguiente:\n",
    "    - Verifique que **`balance`** >= **`bizum`**.\n",
    "    - Si se cumple la condición entonces que imprima por pantalla **`Bizum realizado con exito`** y que modifique el valor del atributo **`balance`** restandole el valor de **`bizum`**.\n",
    "    - Si no se cumple la condición entonces que imprima por pantalla **`No se puede realizar el bizum, fondos insuficientes`**.\n",
    "    - Luego que llame al método **`mostrar_balance()`**.\n",
    "\n",
    "\n",
    "- **`cambiar_cuenta()`** que no tome parametros de entrada y que al ejecutarse modifique el atributo **`tipo_cuenta`**:\n",
    "    - Si estaba en **Debito** que se cambie por **Credito**.\n",
    "    - Si estaba en **Credito** que se cambie por **Debito**.\n",
    "    - Que imprima por pantalla **`Tu tipo de cuenta ha sido cambiada con exito.`**\n",
    "    \n",
    "- **`exportar_datos()`** que no tome parametros de entrada y que retorne un diccionario con los datos del usuario (**`nombre`**, **`apellido`**, **`email`**, **`dni`**, **`tipo_cuenta`**, **`balance`**).\n",
    "\n",
    "===============================================================================================================================\n",
    "\n",
    "\n",
    "**Inicializa una instacia de esta clase, ejecuta todos los métodos y atributos para verificar que funciona correctamente.**\n",
    "\n",
    "**Define cualquier otro método que se te ocurra.**"
   ]
  },
  {
   "cell_type": "markdown",
   "id": "d5f974b9",
   "metadata": {},
   "source": []
  },
  {
   "cell_type": "code",
   "execution_count": 9,
   "id": "165e45b7",
   "metadata": {},
   "outputs": [],
   "source": [
    "from random import randint"
   ]
  },
  {
   "cell_type": "code",
   "execution_count": 113,
   "id": "1031f73a",
   "metadata": {},
   "outputs": [],
   "source": [
    "class CuentaBancaria:\n",
    "    from random import randint  \n",
    "    \n",
    "    # parametros\n",
    "    \n",
    "    def __init__(self, nombre, apellido,dni,tipo_cuenta):\n",
    "        self.nombre = nombre\n",
    "        self.apellido = apellido\n",
    "        self.dni = dni\n",
    "        self.tipo_cuenta = tipo_cuenta\n",
    "        self.email = \"{}.{}@python.com\".format(nombre.lower(), apellido.lower())\n",
    "        self.balance = float(randint(100, 1000))\n",
    "        self.id_usuario = randint(1000000, 9999999)\n",
    "        \n",
    "    # metodos\n",
    "        \n",
    "    def usuario_info(self):\n",
    "        print(f'{self.nombre} {self.apellido}\\n{self.dni}\\n{self.tipo_cuenta}\\n{self.email}\\n{self.balance}\\n{self.id_usuario}')\n",
    "        \n",
    "    def mostrar_balance(self):\n",
    "        print(f'{self.balance}')\n",
    "        if self.balance < 0:\n",
    "            print(\"El balance es negativo\")\n",
    "            \n",
    "    def ingresar(self, ingreso):\n",
    "        self.balance = self.balance + ingreso\n",
    "        self.mostrar_balance()\n",
    "        \n",
    "    def hacer_bizum(self, bizum):\n",
    "        if self.balance >= bizum:\n",
    "            print(\"Bizum realizado con exito\")\n",
    "            self.balance = self.balance - bizum\n",
    "        else:\n",
    "            print(\"No se puede realizar el bizum, fondos insuficientes\")\n",
    "            self.mostrar_balance()\n",
    "            \n",
    "    def cambiar_cuenta(self):\n",
    "        if self.tipo_cuenta == \"Debito\":\n",
    "            self.tipo_cuenta = \"Credito\"\n",
    "            print(\"Tu tipo de cuenta ha sido cambiada con exito\")\n",
    "        elif self.tipo_cuenta == \"Credito\":\n",
    "            self.tipo_cuenta = \"Debito\"\n",
    "            print(\"Tu tipo de cuenta ha sido cambiada con exito\")\n",
    "\n",
    "    def  exportar_datos(self):\n",
    "        diccionario = {\"nombre\" : self.nombre, \"apellido\" : self.apellido, \"dni\" : self.dni, \"tipo_cuenta\" : self.tipo_cuenta, \"balance\" : self.balance}\n",
    "        return diccionario\n",
    "            "
   ]
  },
  {
   "cell_type": "code",
   "execution_count": 114,
   "id": "731d0988",
   "metadata": {
    "scrolled": true
   },
   "outputs": [],
   "source": [
    "ejemplo = CuentaBancaria(\"Sergio\", \"Martin\", \"23456789D\", \"Debito\")"
   ]
  },
  {
   "cell_type": "code",
   "execution_count": 116,
   "id": "3112a732",
   "metadata": {},
   "outputs": [
    {
     "data": {
      "text/plain": [
       "__main__.CuentaBancaria"
      ]
     },
     "execution_count": 116,
     "metadata": {},
     "output_type": "execute_result"
    }
   ],
   "source": [
    "type(ejemplo)"
   ]
  },
  {
   "cell_type": "code",
   "execution_count": 110,
   "id": "80cdf0d5",
   "metadata": {},
   "outputs": [
    {
     "name": "stdout",
     "output_type": "stream",
     "text": [
      "Sergio Martin\n",
      "23456789D\n",
      "Debito\n",
      "sergio.martin@python.com\n",
      "329.0\n",
      "1587753\n"
     ]
    }
   ],
   "source": [
    "ejemplo.usuario_info()"
   ]
  },
  {
   "cell_type": "code",
   "execution_count": 101,
   "id": "50bc3f61",
   "metadata": {},
   "outputs": [
    {
     "name": "stdout",
     "output_type": "stream",
     "text": [
      "273.0\n"
     ]
    }
   ],
   "source": [
    "ejemplo.mostrar_balance()"
   ]
  },
  {
   "cell_type": "code",
   "execution_count": 102,
   "id": "5d6e2d63",
   "metadata": {},
   "outputs": [
    {
     "name": "stdout",
     "output_type": "stream",
     "text": [
      "473.0\n"
     ]
    }
   ],
   "source": [
    "ejemplo.ingresar(200)"
   ]
  },
  {
   "cell_type": "code",
   "execution_count": 103,
   "id": "13f447a2",
   "metadata": {},
   "outputs": [
    {
     "name": "stdout",
     "output_type": "stream",
     "text": [
      "Bizum realizado con exito\n"
     ]
    }
   ],
   "source": [
    "ejemplo.hacer_bizum(200)"
   ]
  },
  {
   "cell_type": "code",
   "execution_count": 104,
   "id": "6f07f764",
   "metadata": {},
   "outputs": [
    {
     "name": "stdout",
     "output_type": "stream",
     "text": [
      "273.0\n"
     ]
    }
   ],
   "source": [
    "ejemplo.mostrar_balance()"
   ]
  },
  {
   "cell_type": "code",
   "execution_count": 105,
   "id": "bd2c21eb",
   "metadata": {},
   "outputs": [
    {
     "name": "stdout",
     "output_type": "stream",
     "text": [
      "No se puede realizar el bizum, fondos insuficientes\n",
      "273.0\n"
     ]
    }
   ],
   "source": [
    "ejemplo.hacer_bizum(1000)"
   ]
  },
  {
   "cell_type": "code",
   "execution_count": 106,
   "id": "2e26d2cd",
   "metadata": {},
   "outputs": [
    {
     "name": "stdout",
     "output_type": "stream",
     "text": [
      "Tu tipo de cuenta ha sido cambiada con exit\n"
     ]
    }
   ],
   "source": [
    "ejemplo.cambiar_cuenta()"
   ]
  },
  {
   "cell_type": "code",
   "execution_count": 107,
   "id": "06828141",
   "metadata": {},
   "outputs": [
    {
     "name": "stdout",
     "output_type": "stream",
     "text": [
      "Sergio Martin\n",
      "23456789D\n",
      "Credito\n",
      "sergio.martin@python.com\n",
      "273.0\n",
      "8326770\n"
     ]
    }
   ],
   "source": [
    "ejemplo.usuario_info()"
   ]
  },
  {
   "cell_type": "code",
   "execution_count": 115,
   "id": "f50beb9a",
   "metadata": {},
   "outputs": [
    {
     "data": {
      "text/plain": [
       "{'nombre': 'Sergio',\n",
       " 'apellido': 'Martin',\n",
       " 'dni': '23456789D',\n",
       " 'tipo_cuenta': 'Debito',\n",
       " 'balance': 559.0}"
      ]
     },
     "execution_count": 115,
     "metadata": {},
     "output_type": "execute_result"
    }
   ],
   "source": [
    "ejemplo.exportar_datos()"
   ]
  },
  {
   "cell_type": "code",
   "execution_count": null,
   "id": "78083c26",
   "metadata": {},
   "outputs": [],
   "source": []
  }
 ],
 "metadata": {
  "kernelspec": {
   "display_name": "Python 3 (ipykernel)",
   "language": "python",
   "name": "python3"
  },
  "language_info": {
   "codemirror_mode": {
    "name": "ipython",
    "version": 3
   },
   "file_extension": ".py",
   "mimetype": "text/x-python",
   "name": "python",
   "nbconvert_exporter": "python",
   "pygments_lexer": "ipython3",
   "version": "3.9.7"
  }
 },
 "nbformat": 4,
 "nbformat_minor": 5
}
