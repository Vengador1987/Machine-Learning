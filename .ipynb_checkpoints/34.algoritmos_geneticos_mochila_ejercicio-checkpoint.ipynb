{
 "cells": [
  {
   "cell_type": "markdown",
   "id": "f4629a61",
   "metadata": {},
   "source": [
    "## Algoritmos Genéticos: Problema de la Mochila\n",
    "\n",
    "Siguiendo los pasos de la teoria de Algoritmos Genéticos, haz el algoritmo del problema de la mochila.\n",
    "\n",
    "- Población Inicial: 20\n",
    "- Número de Genes: 20\n",
    "- Probabilidad de Cruce: 0.9\n",
    "- Probabilidad de Mutación: 0.1"
   ]
  },
  {
   "cell_type": "code",
   "execution_count": null,
   "id": "ffd12930",
   "metadata": {},
   "outputs": [],
   "source": []
  }
 ],
 "metadata": {
  "kernelspec": {
   "display_name": "Python 3 (ipykernel)",
   "language": "python",
   "name": "python3"
  },
  "language_info": {
   "codemirror_mode": {
    "name": "ipython",
    "version": 3
   },
   "file_extension": ".py",
   "mimetype": "text/x-python",
   "name": "python",
   "nbconvert_exporter": "python",
   "pygments_lexer": "ipython3",
   "version": "3.9.7"
  }
 },
 "nbformat": 4,
 "nbformat_minor": 5
}
