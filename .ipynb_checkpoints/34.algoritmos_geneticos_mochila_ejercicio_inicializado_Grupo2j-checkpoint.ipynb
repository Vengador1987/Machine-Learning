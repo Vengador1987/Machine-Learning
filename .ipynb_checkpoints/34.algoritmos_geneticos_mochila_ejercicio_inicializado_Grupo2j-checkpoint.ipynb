{
 "cells": [
  {
   "cell_type": "markdown",
   "id": "f4629a61",
   "metadata": {},
   "source": [
    "## Algoritmos Genéticos: Problema de la Mochila\n",
    "\n",
    "Siguiendo los pasos de la teoria de Algoritmos Genéticos, has el algoritmo del problema de la mochila.\n",
    "\n",
    "- Población Inicial: 20\n",
    "- Número de Genes: 20\n",
    "- Probabilidad de Cruce: 0.9\n",
    "- Probabilidad de Mutación: 0.1\n",
    "- Peso Maximo = 2500"
   ]
  },
  {
   "cell_type": "code",
   "execution_count": 36,
   "id": "ffd12930",
   "metadata": {},
   "outputs": [],
   "source": [
    "import random\n",
    "import pickle"
   ]
  },
  {
   "cell_type": "code",
   "execution_count": 169,
   "id": "18591134",
   "metadata": {},
   "outputs": [],
   "source": [
    "n_genes = 20\n",
    "peso_max = 2500\n",
    "n_poblacion = 20\n",
    "p_mutacion = 0.1\n",
    "p_cruce = 0.9\n",
    "\n",
    "# nombres = [f\"objeto_{i}\" for i in range(n_genes)]\n",
    "# print(nombres)"
   ]
  },
  {
   "cell_type": "code",
   "execution_count": 49,
   "id": "406b08f5",
   "metadata": {},
   "outputs": [],
   "source": [
    "# pesos = [random.randint(100, 400) for i in range(n_genes)]\n",
    "# print(pesos)"
   ]
  },
  {
   "cell_type": "code",
   "execution_count": 50,
   "id": "1065465a",
   "metadata": {},
   "outputs": [],
   "source": [
    "# valores = [random.randint(500, 800) for i in range(n_genes)]\n",
    "# print(valores)"
   ]
  },
  {
   "cell_type": "code",
   "execution_count": 51,
   "id": "48b5207c",
   "metadata": {},
   "outputs": [
    {
     "name": "stdout",
     "output_type": "stream",
     "text": [
      "objeto_0 655 373\n",
      "objeto_1 769 169\n",
      "objeto_2 556 254\n",
      "objeto_3 608 255\n",
      "objeto_4 572 235\n",
      "objeto_5 685 348\n",
      "objeto_6 756 280\n",
      "objeto_7 636 112\n",
      "objeto_8 581 250\n",
      "objeto_9 554 162\n",
      "objeto_10 685 181\n",
      "objeto_11 586 172\n",
      "objeto_12 791 310\n",
      "objeto_13 637 196\n",
      "objeto_14 653 164\n",
      "objeto_15 721 274\n",
      "objeto_16 640 166\n",
      "objeto_17 660 266\n",
      "objeto_18 556 374\n",
      "objeto_19 769 137\n"
     ]
    }
   ],
   "source": [
    "for x, y, z in zip(nombres, valores, pesos):\n",
    "    print(x, y, z)"
   ]
  },
  {
   "cell_type": "code",
   "execution_count": 52,
   "id": "c8a742ac",
   "metadata": {},
   "outputs": [],
   "source": [
    "# diccionario={}\n",
    "\n",
    "# diccionario[\"nombres\"]=tuple(nombres)\n",
    "# diccionario[\"valores\"]=tuple(valores)\n",
    "# diccionario[\"pesos\"]=tuple(pesos)\n",
    "\n",
    "# with open(\"algoritmo_genetico.pkl\", \"bw\") as file:\n",
    "#     pickle.dump(diccionario, file)"
   ]
  },
  {
   "cell_type": "code",
   "execution_count": 53,
   "id": "c7d98e8d",
   "metadata": {},
   "outputs": [],
   "source": [
    "with open(\"algoritmo_genetico.pkl\", \"br\") as file:\n",
    "    diccionario = pickle.load(file)\n",
    "    nombres = diccionario['nombres']\n",
    "    valores = diccionario['valores']\n",
    "    pesos = diccionario['pesos']"
   ]
  },
  {
   "cell_type": "code",
   "execution_count": 54,
   "id": "d4b79c1f",
   "metadata": {},
   "outputs": [
    {
     "data": {
      "text/plain": [
       "[1, 0, 1, 1, 0, 1, 0, 1, 1, 0, 1, 1, 0, 1, 0, 1, 1, 0, 0, 0]"
      ]
     },
     "execution_count": 54,
     "metadata": {},
     "output_type": "execute_result"
    }
   ],
   "source": [
    "individuo = [random.randint(0, 1) for i in range(n_genes)]\n",
    "\n",
    "individuo"
   ]
  },
  {
   "cell_type": "code",
   "execution_count": 58,
   "id": "9cb1e9b8",
   "metadata": {},
   "outputs": [
    {
     "name": "stdout",
     "output_type": "stream",
     "text": [
      "1 373\n",
      "0 169\n",
      "1 254\n",
      "1 255\n",
      "0 235\n",
      "1 348\n",
      "0 280\n",
      "1 112\n",
      "1 250\n",
      "0 162\n",
      "1 181\n",
      "1 172\n",
      "0 310\n",
      "1 196\n",
      "0 164\n",
      "1 274\n",
      "1 166\n",
      "0 266\n",
      "0 374\n",
      "0 137\n"
     ]
    }
   ],
   "source": [
    "for x, y in zip(individuo, pesos):\n",
    "    print(x, y)"
   ]
  },
  {
   "cell_type": "code",
   "execution_count": 59,
   "id": "d43ab80e",
   "metadata": {},
   "outputs": [
    {
     "data": {
      "text/plain": [
       "2581"
      ]
     },
     "execution_count": 59,
     "metadata": {},
     "output_type": "execute_result"
    }
   ],
   "source": [
    "import numpy as np\n",
    "\n",
    "np.dot(individuo, pesos)"
   ]
  },
  {
   "cell_type": "code",
   "execution_count": 60,
   "id": "8943eb4e",
   "metadata": {},
   "outputs": [
    {
     "data": {
      "text/plain": [
       "6990"
      ]
     },
     "execution_count": 60,
     "metadata": {},
     "output_type": "execute_result"
    }
   ],
   "source": [
    "np.dot(individuo, valores)"
   ]
  },
  {
   "cell_type": "code",
   "execution_count": 61,
   "id": "61ce2d1e",
   "metadata": {},
   "outputs": [],
   "source": [
    "def inicializar_poblacion(n_poblacion, n_genes, peso_max):\n",
    "    poblacion = list()\n",
    "\n",
    "    while len(poblacion) < n_poblacion:\n",
    "        individuo = [random.randint(0, 1) for i in range(n_genes)]\n",
    "\n",
    "        peso_individuo = np.dot(individuo, pesos)\n",
    "\n",
    "        if peso_individuo <= peso_max:\n",
    "            poblacion.append(individuo)\n",
    "    return poblacion"
   ]
  },
  {
   "cell_type": "code",
   "execution_count": 75,
   "id": "cbb176e6",
   "metadata": {},
   "outputs": [
    {
     "data": {
      "text/plain": [
       "[[0, 1, 0, 1, 1, 1, 1, 0, 0, 0, 1, 0, 1, 0, 0, 0, 1, 0, 1, 1],\n",
       " [0, 1, 0, 1, 1, 0, 1, 0, 1, 1, 0, 1, 0, 0, 1, 0, 0, 0, 0, 1],\n",
       " [1, 0, 0, 1, 1, 0, 0, 1, 0, 1, 1, 0, 0, 1, 0, 0, 1, 0, 0, 0],\n",
       " [0, 1, 0, 1, 1, 0, 0, 0, 0, 0, 1, 1, 1, 0, 0, 1, 1, 0, 1, 1],\n",
       " [1, 0, 0, 1, 0, 0, 0, 0, 1, 0, 1, 1, 0, 0, 0, 0, 0, 0, 1, 1],\n",
       " [1, 0, 0, 1, 0, 0, 0, 0, 1, 0, 0, 1, 0, 1, 1, 1, 0, 0, 0, 0],\n",
       " [0, 0, 1, 1, 1, 0, 1, 0, 0, 1, 0, 1, 0, 0, 1, 0, 1, 1, 0, 0],\n",
       " [0, 0, 1, 0, 0, 1, 1, 0, 0, 1, 0, 0, 1, 0, 1, 0, 0, 1, 1, 1],\n",
       " [1, 0, 0, 0, 1, 1, 0, 0, 1, 1, 1, 0, 0, 1, 1, 0, 1, 0, 0, 1],\n",
       " [0, 0, 0, 1, 1, 0, 1, 0, 0, 0, 1, 0, 0, 1, 0, 1, 0, 1, 1, 1],\n",
       " [0, 1, 1, 0, 0, 1, 0, 0, 0, 0, 1, 0, 0, 0, 0, 0, 1, 1, 1, 1],\n",
       " [1, 0, 0, 0, 0, 0, 1, 0, 0, 1, 1, 0, 0, 1, 0, 0, 0, 0, 1, 0],\n",
       " [1, 1, 0, 0, 1, 1, 0, 1, 0, 0, 0, 0, 0, 1, 1, 0, 0, 1, 0, 1],\n",
       " [0, 0, 0, 1, 1, 0, 0, 0, 0, 0, 0, 1, 0, 0, 1, 1, 0, 0, 1, 1],\n",
       " [0, 0, 0, 0, 0, 0, 0, 0, 0, 0, 0, 0, 1, 1, 0, 1, 1, 1, 0, 1],\n",
       " [0, 0, 1, 0, 0, 1, 1, 0, 1, 0, 0, 0, 0, 1, 0, 0, 1, 0, 1, 1],\n",
       " [0, 1, 1, 0, 1, 0, 0, 1, 0, 1, 0, 1, 0, 0, 0, 1, 1, 1, 0, 1],\n",
       " [0, 1, 0, 0, 0, 0, 0, 1, 0, 1, 1, 1, 1, 0, 1, 0, 1, 1, 0, 0],\n",
       " [1, 0, 0, 1, 1, 0, 0, 1, 0, 1, 0, 0, 0, 0, 0, 0, 1, 1, 1, 0],\n",
       " [1, 0, 0, 1, 1, 0, 0, 1, 0, 1, 1, 0, 1, 1, 0, 0, 0, 1, 1, 0]]"
      ]
     },
     "execution_count": 75,
     "metadata": {},
     "output_type": "execute_result"
    }
   ],
   "source": [
    "poblacion = inicializar_poblacion(n_poblacion, n_genes, peso_max)\n",
    "poblacion"
   ]
  },
  {
   "cell_type": "code",
   "execution_count": 65,
   "id": "a6303f1e",
   "metadata": {
    "scrolled": true
   },
   "outputs": [],
   "source": [
    "# for num, individuo in enumerate(poblacion):\n",
    "#     print(num, np.dot(individuo, valores), np.dot(individuo, pesos))"
   ]
  },
  {
   "cell_type": "code",
   "execution_count": 77,
   "id": "caa2ddb8",
   "metadata": {},
   "outputs": [],
   "source": [
    "numero_elementos=5"
   ]
  },
  {
   "cell_type": "code",
   "execution_count": 78,
   "id": "0313061d",
   "metadata": {},
   "outputs": [
    {
     "data": {
      "text/plain": [
       "[[1, 0, 0, 1, 1, 0, 0, 1, 0, 1, 0, 0, 0, 0, 0, 0, 1, 1, 1, 0],\n",
       " [1, 0, 0, 1, 1, 0, 0, 1, 0, 1, 1, 0, 1, 1, 0, 0, 0, 1, 1, 0],\n",
       " [0, 1, 0, 1, 1, 0, 1, 0, 1, 1, 0, 1, 0, 0, 1, 0, 0, 0, 0, 1],\n",
       " [0, 1, 1, 0, 1, 0, 0, 1, 0, 1, 0, 1, 0, 0, 0, 1, 1, 1, 0, 1],\n",
       " [1, 0, 0, 0, 1, 1, 0, 0, 1, 1, 1, 0, 0, 1, 1, 0, 1, 0, 0, 1]]"
      ]
     },
     "execution_count": 78,
     "metadata": {},
     "output_type": "execute_result"
    }
   ],
   "source": [
    "lista_seleccionados = random.sample(poblacion, k = numero_elementos) \n",
    "lista_seleccionados"
   ]
  },
  {
   "cell_type": "code",
   "execution_count": 79,
   "id": "04d3be13",
   "metadata": {},
   "outputs": [
    {
     "name": "stdout",
     "output_type": "stream",
     "text": [
      "4881\n",
      "6354\n",
      "5848\n",
      "6463\n",
      "6431\n"
     ]
    }
   ],
   "source": [
    "# Fitness de individuos e\n",
    "for individuo in lista_seleccionados:\n",
    "    print(np.dot(individuo, valores))"
   ]
  },
  {
   "cell_type": "code",
   "execution_count": 83,
   "id": "0d1deb31",
   "metadata": {},
   "outputs": [
    {
     "data": {
      "text/plain": [
       "[0, 1, 1, 0, 1, 0, 0, 1, 0, 1, 0, 1, 0, 0, 0, 1, 1, 1, 0, 1]"
      ]
     },
     "execution_count": 83,
     "metadata": {},
     "output_type": "execute_result"
    }
   ],
   "source": [
    "indice = np.argmax([np.dot(individuo, valores) for individuo in lista_seleccionados])\n",
    "lista_seleccionados[indice]"
   ]
  },
  {
   "cell_type": "code",
   "execution_count": 89,
   "id": "5c554250",
   "metadata": {},
   "outputs": [],
   "source": [
    "def torneo_padres(poblacion, numero_elementos):\n",
    "    padres = []\n",
    "    for i in range(2):\n",
    "        lista_seleccionados = random.sample(poblacion, k = numero_elementos)\n",
    "        indice = np.argmax([np.dot(individuo, valores) for individuo in lista_seleccionados])\n",
    "        padres.append(lista_seleccionados[indice])\n",
    "\n",
    "    return padres"
   ]
  },
  {
   "cell_type": "code",
   "execution_count": 92,
   "id": "67f400e7",
   "metadata": {},
   "outputs": [
    {
     "data": {
      "text/plain": [
       "([0, 1, 0, 1, 1, 0, 0, 0, 0, 0, 1, 1, 1, 0, 0, 1, 1, 0, 1, 1],\n",
       " [0, 1, 0, 0, 0, 0, 0, 1, 0, 1, 1, 1, 1, 0, 1, 0, 1, 1, 0, 0])"
      ]
     },
     "execution_count": 92,
     "metadata": {},
     "output_type": "execute_result"
    }
   ],
   "source": [
    "padre_1, padre_2 = torneo_padres(poblacion,numero_elementos)\n",
    "\n",
    "padre_1, padre_2"
   ]
  },
  {
   "cell_type": "code",
   "execution_count": 97,
   "id": "cbbd0b35",
   "metadata": {},
   "outputs": [],
   "source": [
    "def peso_hijo(hijo, pesos = pesos):\n",
    "    \n",
    "    peso = np.dot(hijo,pesos)\n",
    "    return peso"
   ]
  },
  {
   "cell_type": "code",
   "execution_count": 98,
   "id": "40e590bf",
   "metadata": {},
   "outputs": [],
   "source": [
    "# 2 padres, dos hijos. \n",
    "#Dividir padres por la mitad, unir p1 padre 1 con p2 padre 2, unir p1 padre 1 con p1 padre 2\n",
    "\n",
    "def cruce(padre_1, padre_2, n_genes, peso_max):\n",
    "    k = random.randint(1, n_genes - 2)\n",
    "    \n",
    "    hijo = padre_1[:k] + padre_2[k:]\n",
    "    if peso_hijo(hijo) > peso_max:\n",
    "        cruce(padre_1, padre_2, n_genes, peso_max)    \n",
    "\n",
    "    return hijo"
   ]
  },
  {
   "cell_type": "code",
   "execution_count": 163,
   "id": "1059d4ba",
   "metadata": {},
   "outputs": [
    {
     "name": "stdout",
     "output_type": "stream",
     "text": [
      "1702\n",
      "1957\n"
     ]
    }
   ],
   "source": [
    "hijo_1, hijo_2  = cruce(padre_1, padre_2, n_genes, peso_max), cruce(padre_1, padre_2, n_genes, peso_max)\n",
    "print(np.dot(hijo_1, pesos))\n",
    "print(np.dot(hijo_2, pesos))"
   ]
  },
  {
   "cell_type": "code",
   "execution_count": 250,
   "id": "8db91a8f",
   "metadata": {},
   "outputs": [
    {
     "data": {
      "text/plain": [
       "[0, 1, 0, 0, 1, 0, 1, 0, 1, 1, 1, 1, 1, 0, 0, 0, 1, 1, 0, 0]"
      ]
     },
     "execution_count": 250,
     "metadata": {},
     "output_type": "execute_result"
    }
   ],
   "source": [
    "hijo"
   ]
  },
  {
   "cell_type": "code",
   "execution_count": 277,
   "id": "59c5dea0",
   "metadata": {},
   "outputs": [],
   "source": [
    "def mutacion(hijo, n_genes, peso_max, p_mutacion):\n",
    "    \n",
    "    if random.random() < p_mutacion:\n",
    "        print('muta')\n",
    "        k = random.randint(0, n_genes - 1)\n",
    "        \n",
    "        hijo_mutado = hijo.copy()\n",
    "        \n",
    "        gen = hijo_mutado[k]\n",
    "        if gen == 0:\n",
    "            hijo_mutado[k] = 1\n",
    "            print(k)\n",
    "        elif gen == 1:\n",
    "            hijo_mutado[k] = 0\n",
    "            print(k)\n",
    "        \n",
    "        if peso_hijo(hijo_mutado) > peso_max:\n",
    "            mutacion(hijo, n_genes, peso_max, 1.1)    \n",
    "        else:\n",
    "            return hijo_mutado\n",
    "    return hijo\n"
   ]
  },
  {
   "cell_type": "code",
   "execution_count": 305,
   "id": "13133d7f",
   "metadata": {},
   "outputs": [
    {
     "name": "stdout",
     "output_type": "stream",
     "text": [
      "muta\n",
      "15\n"
     ]
    },
    {
     "data": {
      "text/plain": [
       "[0, 1, 0, 0, 1, 0, 1, 0, 1, 1, 1, 1, 1, 0, 0, 1, 1, 1, 0, 0]"
      ]
     },
     "execution_count": 305,
     "metadata": {},
     "output_type": "execute_result"
    }
   ],
   "source": [
    "mutacion(hijo, n_genes, peso_max, p_mutacion)"
   ]
  },
  {
   "cell_type": "code",
   "execution_count": 306,
   "id": "ea942d24",
   "metadata": {},
   "outputs": [
    {
     "data": {
      "text/plain": [
       "2465"
      ]
     },
     "execution_count": 306,
     "metadata": {},
     "output_type": "execute_result"
    }
   ],
   "source": [
    "np.dot(pesos, [0, 1, 0, 0, 1, 0, 1, 0, 1, 1, 1, 1, 1, 0, 0, 1, 1, 1, 0, 0])"
   ]
  },
  {
   "cell_type": "code",
   "execution_count": 358,
   "id": "a7544e86",
   "metadata": {},
   "outputs": [],
   "source": [
    "def reemplazamiento(hijo, poblacion):\n",
    "    fitness_poblacion = np.dot(poblacion, valores)\n",
    "    minimo_valor_poblacion = min(fitness_poblacion)\n",
    "    \n",
    "    \n",
    "    valor_hijo = np.dot(hijo, valores)\n",
    "    \n",
    "    if valor_hijo > minimo_valor_poblacion:\n",
    "        indice_menor = np.argmin(fitness_poblacion)\n",
    "        print(indice_menor)\n",
    "        poblacion[indice_menor] = hijo\n",
    "    return poblacion"
   ]
  },
  {
   "cell_type": "code",
   "execution_count": 359,
   "id": "10b3be3b",
   "metadata": {},
   "outputs": [
    {
     "data": {
      "text/plain": [
       "[[0, 1, 0, 1, 1, 1, 1, 0, 0, 0, 1, 0, 1, 0, 0, 0, 1, 0, 1, 1],\n",
       " [0, 1, 0, 1, 1, 0, 1, 0, 1, 1, 0, 1, 0, 0, 1, 0, 0, 0, 0, 1],\n",
       " [1, 0, 0, 1, 1, 0, 0, 1, 0, 1, 1, 0, 0, 1, 0, 0, 1, 0, 0, 0],\n",
       " [0, 1, 0, 1, 1, 0, 0, 0, 0, 0, 1, 1, 1, 0, 0, 1, 1, 0, 1, 1],\n",
       " [1, 0, 0, 1, 0, 0, 0, 0, 1, 0, 1, 1, 0, 0, 0, 0, 0, 0, 1, 1],\n",
       " [1, 0, 0, 1, 0, 0, 0, 0, 1, 0, 0, 1, 0, 1, 1, 1, 0, 0, 0, 0],\n",
       " [0, 0, 1, 1, 1, 0, 1, 0, 0, 1, 0, 1, 0, 0, 1, 0, 1, 1, 0, 0],\n",
       " [0, 0, 1, 0, 0, 1, 1, 0, 0, 1, 0, 0, 1, 0, 1, 0, 0, 1, 1, 1],\n",
       " [1, 0, 0, 0, 1, 1, 0, 0, 1, 1, 1, 0, 0, 1, 1, 0, 1, 0, 0, 1],\n",
       " [0, 0, 0, 1, 1, 0, 1, 0, 0, 0, 1, 0, 0, 1, 0, 1, 0, 1, 1, 1],\n",
       " [0, 1, 1, 0, 0, 1, 0, 0, 0, 0, 1, 0, 0, 0, 0, 0, 1, 1, 1, 1],\n",
       " [1, 0, 0, 0, 0, 0, 1, 0, 0, 1, 1, 0, 0, 1, 0, 0, 0, 0, 1, 0],\n",
       " [1, 1, 0, 0, 1, 1, 0, 1, 0, 0, 0, 0, 0, 1, 1, 0, 0, 1, 0, 1],\n",
       " [0, 0, 0, 1, 1, 0, 0, 0, 0, 0, 0, 1, 0, 0, 1, 1, 0, 0, 1, 1],\n",
       " [0, 0, 0, 0, 0, 0, 0, 0, 0, 0, 0, 0, 1, 1, 0, 1, 1, 1, 0, 1],\n",
       " [0, 0, 1, 0, 0, 1, 1, 0, 1, 0, 0, 0, 0, 1, 0, 0, 1, 0, 1, 1],\n",
       " [0, 1, 1, 0, 1, 0, 0, 1, 0, 1, 0, 1, 0, 0, 0, 1, 1, 1, 0, 1],\n",
       " [0, 1, 0, 0, 0, 0, 0, 1, 0, 1, 1, 1, 1, 0, 1, 0, 1, 1, 0, 0],\n",
       " [1, 0, 0, 1, 1, 0, 0, 1, 0, 1, 0, 0, 0, 0, 0, 0, 1, 1, 1, 0],\n",
       " [1, 0, 0, 1, 1, 0, 0, 1, 0, 1, 1, 0, 1, 1, 0, 0, 0, 1, 1, 0]]"
      ]
     },
     "execution_count": 359,
     "metadata": {},
     "output_type": "execute_result"
    }
   ],
   "source": [
    "poblacion"
   ]
  },
  {
   "cell_type": "code",
   "execution_count": 360,
   "id": "d4de0dc1",
   "metadata": {},
   "outputs": [
    {
     "name": "stdout",
     "output_type": "stream",
     "text": [
      "11\n"
     ]
    },
    {
     "data": {
      "text/plain": [
       "[[0, 1, 0, 1, 1, 1, 1, 0, 0, 0, 1, 0, 1, 0, 0, 0, 1, 0, 1, 1],\n",
       " [0, 1, 0, 1, 1, 0, 1, 0, 1, 1, 0, 1, 0, 0, 1, 0, 0, 0, 0, 1],\n",
       " [1, 0, 0, 1, 1, 0, 0, 1, 0, 1, 1, 0, 0, 1, 0, 0, 1, 0, 0, 0],\n",
       " [0, 1, 0, 1, 1, 0, 0, 0, 0, 0, 1, 1, 1, 0, 0, 1, 1, 0, 1, 1],\n",
       " [1, 0, 0, 1, 0, 0, 0, 0, 1, 0, 1, 1, 0, 0, 0, 0, 0, 0, 1, 1],\n",
       " [1, 0, 0, 1, 0, 0, 0, 0, 1, 0, 0, 1, 0, 1, 1, 1, 0, 0, 0, 0],\n",
       " [0, 0, 1, 1, 1, 0, 1, 0, 0, 1, 0, 1, 0, 0, 1, 0, 1, 1, 0, 0],\n",
       " [0, 0, 1, 0, 0, 1, 1, 0, 0, 1, 0, 0, 1, 0, 1, 0, 0, 1, 1, 1],\n",
       " [1, 0, 0, 0, 1, 1, 0, 0, 1, 1, 1, 0, 0, 1, 1, 0, 1, 0, 0, 1],\n",
       " [0, 0, 0, 1, 1, 0, 1, 0, 0, 0, 1, 0, 0, 1, 0, 1, 0, 1, 1, 1],\n",
       " [0, 1, 1, 0, 0, 1, 0, 0, 0, 0, 1, 0, 0, 0, 0, 0, 1, 1, 1, 1],\n",
       " [0, 1, 0, 0, 1, 0, 1, 0, 1, 1, 1, 1, 1, 0, 0, 0, 1, 1, 0, 0],\n",
       " [1, 1, 0, 0, 1, 1, 0, 1, 0, 0, 0, 0, 0, 1, 1, 0, 0, 1, 0, 1],\n",
       " [0, 0, 0, 1, 1, 0, 0, 0, 0, 0, 0, 1, 0, 0, 1, 1, 0, 0, 1, 1],\n",
       " [0, 0, 0, 0, 0, 0, 0, 0, 0, 0, 0, 0, 1, 1, 0, 1, 1, 1, 0, 1],\n",
       " [0, 0, 1, 0, 0, 1, 1, 0, 1, 0, 0, 0, 0, 1, 0, 0, 1, 0, 1, 1],\n",
       " [0, 1, 1, 0, 1, 0, 0, 1, 0, 1, 0, 1, 0, 0, 0, 1, 1, 1, 0, 1],\n",
       " [0, 1, 0, 0, 0, 0, 0, 1, 0, 1, 1, 1, 1, 0, 1, 0, 1, 1, 0, 0],\n",
       " [1, 0, 0, 1, 1, 0, 0, 1, 0, 1, 0, 0, 0, 0, 0, 0, 1, 1, 1, 0],\n",
       " [1, 0, 0, 1, 1, 0, 0, 1, 0, 1, 1, 0, 1, 1, 0, 0, 0, 1, 1, 0]]"
      ]
     },
     "execution_count": 360,
     "metadata": {},
     "output_type": "execute_result"
    }
   ],
   "source": [
    "reemplazamiento(hijo, poblacion)"
   ]
  },
  {
   "cell_type": "code",
   "execution_count": null,
   "id": "fc277afb",
   "metadata": {},
   "outputs": [],
   "source": []
  }
 ],
 "metadata": {
  "kernelspec": {
   "display_name": "Python 3 (ipykernel)",
   "language": "python",
   "name": "python3"
  },
  "language_info": {
   "codemirror_mode": {
    "name": "ipython",
    "version": 3
   },
   "file_extension": ".py",
   "mimetype": "text/x-python",
   "name": "python",
   "nbconvert_exporter": "python",
   "pygments_lexer": "ipython3",
   "version": "3.9.7"
  }
 },
 "nbformat": 4,
 "nbformat_minor": 5
}
