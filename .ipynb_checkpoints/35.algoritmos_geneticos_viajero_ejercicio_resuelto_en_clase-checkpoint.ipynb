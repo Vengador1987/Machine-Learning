{
 "cells": [
  {
   "cell_type": "markdown",
   "id": "bb07f7ba",
   "metadata": {},
   "source": [
    "## Algoritmos Genéticos: Problema del Viajero\n",
    "\n",
    "Siguiendo los pasos de la teoria de Algoritmos Genéticos, has el algoritmo del problema del viajero.\n",
    "\n",
    "- **Población Inicial:** 20\n",
    "- **Número de Genes:** 21\n",
    "- **Probabilidad de Cruce:** 0.9\n",
    "- **Probabilidad de Mutación:** 0.1\n",
    "\n",
    "Utiliza **`madrid_duracion.csv`** para este problema. Este **`.csv`** tiene el tiempo de distancia entre cada barrio de Madrid. El objetivo es hacer un algoritmo que pase por todos los barrios en el menor tiempo posible sin pasar por el mismo barrio 2 veces.\n",
    "\n",
    "1. Define una función para inicializar la población (20 individuos).\n",
    "\n",
    "\n",
    "2. Define una función para el calculo del **`fitness`**, esta función debe sumar el tiempo del barrio **`i`** al barrio **`j`**. El mejor **`fitness`** es el que tenga el valor más bajo (menor tiempo).\n",
    "\n",
    "\n",
    "3. Define una función de selección de padres.\n",
    "\n",
    "\n",
    "4. Define una función para el cruce de los padres.\n",
    "\n",
    "\n",
    "5. Define una función para la mutación del/los hijo(s).\n",
    "\n",
    "\n",
    "6. Define una función para reemplazar los elementos de la población."
   ]
  },
  {
   "cell_type": "code",
   "execution_count": null,
   "id": "9080c579",
   "metadata": {},
   "outputs": [],
   "source": [
    "import numpy as np\n",
    "import pandas as pd\n",
    "\n",
    "import random"
   ]
  },
  {
   "cell_type": "code",
   "execution_count": null,
   "id": "f88e1250",
   "metadata": {},
   "outputs": [],
   "source": [
    "df_tiempo = pd.read_csv(\"madrid_duracion.csv\")\n",
    "\n",
    "df_tiempo.index = df_tiempo.columns\n",
    "\n",
    "df_tiempo"
   ]
  },
  {
   "cell_type": "code",
   "execution_count": null,
   "id": "38e2eed6",
   "metadata": {},
   "outputs": [],
   "source": [
    "df_tiempo = df_tiempo.applymap(lambda x : int(x.split(\" \")[0]))\n",
    "\n",
    "df_tiempo.head(3)"
   ]
  },
  {
   "cell_type": "code",
   "execution_count": null,
   "id": "a7928b21",
   "metadata": {},
   "outputs": [],
   "source": [
    "# mat_tiempo.info()"
   ]
  },
  {
   "cell_type": "code",
   "execution_count": null,
   "id": "7f8faa26",
   "metadata": {
    "scrolled": true
   },
   "outputs": [],
   "source": [
    "mat_tiempo = np.array(df_tiempo)\n",
    "\n",
    "mat_tiempo"
   ]
  },
  {
   "cell_type": "code",
   "execution_count": null,
   "id": "acc5b219",
   "metadata": {},
   "outputs": [],
   "source": [
    "map_barrios = {num : col for num, col in enumerate(df_tiempo.columns)}\n",
    "\n",
    "map_barrios"
   ]
  },
  {
   "cell_type": "code",
   "execution_count": null,
   "id": "8cadc80a",
   "metadata": {},
   "outputs": [],
   "source": [
    "# Poblacion\n",
    "\n",
    "# def generar_poblacion(n):\n",
    "    \n",
    "#     poblacion = list()\n",
    "    \n",
    "#     for i in range(n):\n",
    "#         lista = list()\n",
    "\n",
    "#         while len(lista) != len(dist):\n",
    "#             barrio_aleatorio = np.random.randint(0, len(dist))\n",
    "\n",
    "#             if barrio_aleatorio not in lista:\n",
    "#                 lista.append(barrio_aleatorio)\n",
    "\n",
    "#         poblacion.append(lista)\n",
    "        \n",
    "#     return poblacion\n",
    "\n",
    "# %%time\n",
    "# generar_poblacion(10000)\n",
    "\n",
    "def generar_poblacion(n_poblacion, n_barrios):\n",
    "    poblacion = [list(range(n_barrios)) for i in range(n_poblacion)]\n",
    "\n",
    "    for i in range(len(poblacion)):\n",
    "        np.random.shuffle(poblacion[i])\n",
    "\n",
    "    return np.array(poblacion)"
   ]
  },
  {
   "cell_type": "code",
   "execution_count": null,
   "id": "bc5a1de2",
   "metadata": {},
   "outputs": [],
   "source": [
    "# Fitness\n",
    "\n",
    "def calculo_fitness(individuo, mat_tiempo):\n",
    "        \n",
    "    total = 0\n",
    "\n",
    "    for i in range(len(individuo) - 1):\n",
    "        total += mat_tiempo[int(individuo[i]), int(individuo[i + 1])]\n",
    "\n",
    "    return total\n",
    "\n",
    "\n",
    "def calculo_fitness(individuo, mat_tiempo):\n",
    "    return sum([mat_tiempo[int(individuo[i]), int(individuo[i + 1])] for i in range(len(individuo) - 1)])"
   ]
  },
  {
   "cell_type": "code",
   "execution_count": null,
   "id": "7b7cde4f",
   "metadata": {},
   "outputs": [],
   "source": [
    "# Torneo\n",
    "\n",
    "def seleccion_torneo(poblacion, k, ganador = True):\n",
    "    \n",
    "    torneo = np.array(random.sample(population = list(poblacion), k = k))\n",
    "                      \n",
    "    lista_fitness = [calculo_fitness(individuo, mat_tiempo) for individuo in torneo]\n",
    "    \n",
    "    if ganador:\n",
    "    \n",
    "        menor_fitness_indice = np.argmin(lista_fitness)\n",
    "\n",
    "        return torneo[menor_fitness_indice]\n",
    "    \n",
    "    else:\n",
    "        \n",
    "        mayor_fitness_indice = np.argmax(lista_fitness)\n",
    "\n",
    "        return torneo[mayor_fitness_indice] "
   ]
  },
  {
   "cell_type": "code",
   "execution_count": null,
   "id": "a5b19690",
   "metadata": {},
   "outputs": [],
   "source": [
    "# Cruce\n",
    "\n",
    "def cruce_orden(padre_1, padre_2, p_cruce):\n",
    "    \n",
    "    if np.random.random() < p_cruce:\n",
    "        \n",
    "        hijos = [np.zeros(len(padre_1)) - 1, np.zeros(len(padre_1)) - 1]\n",
    "        \n",
    "        for h in range(2):\n",
    "        \n",
    "            k = np.random.randint(8, len(padre_1)//2)\n",
    "\n",
    "            indices_fijos = sorted(random.sample(population = range(len(padre_1)), k  = k))\n",
    "\n",
    "            for i in range(len(indices_fijos)):\n",
    "                hijos[h][indices_fijos[i]] = padre_1[indices_fijos[i]]\n",
    "\n",
    "            indices_variables = list()\n",
    "\n",
    "            for p in padre_2:\n",
    "                if p not in hijos[h]:\n",
    "                    indices_variables.append(p)\n",
    "\n",
    "            # indices_variables = [p for p in padre_2 if p not in hijo_1]    \n",
    "\n",
    "            j = 0\n",
    "            for i in range(len(hijos[h])):\n",
    "                if hijos[h][i] == -1:\n",
    "                    hijos[h][i] = indices_variables[j]\n",
    "                    j += 1\n",
    "            \n",
    "        return tuple(hijos)     \n",
    "    else:\n",
    "        return padre_1, padre_2"
   ]
  },
  {
   "cell_type": "code",
   "execution_count": null,
   "id": "de1cf542",
   "metadata": {},
   "outputs": [],
   "source": [
    "# Mutacion\n",
    "\n",
    "def mutacion(hijo, p_mutacion):\n",
    "    if np.random.random() < p_mutacion:\n",
    "        hijo_copia = hijo.copy()\n",
    "        \n",
    "        indice_1, indice_2 = random.sample(population = range(len(hijo)), k = 2)\n",
    "        \n",
    "        hijo_copia[indice_1] = hijo[indice_2]\n",
    "        hijo_copia[indice_2] = hijo[indice_1]\n",
    "        \n",
    "        return hijo_copia\n",
    "    \n",
    "    else:\n",
    "        return hijo"
   ]
  },
  {
   "cell_type": "code",
   "execution_count": null,
   "id": "51f5d679",
   "metadata": {},
   "outputs": [],
   "source": [
    "# Mutacion\n",
    "\n",
    "def mutacion1(hijo, p_mutacion):\n",
    "    if np.random.random() < p_mutacion:\n",
    "        hijo_copia = hijo.copy()\n",
    "        \n",
    "        indice_1, indice_2 = random.sample(population = range(1, len(hijo) - 1), k = 2)\n",
    "        \n",
    "        hijo_copia[indice_1] = hijo[indice_2]\n",
    "        hijo_copia[indice_2] = hijo[indice_1]\n",
    "\n",
    "        return hijo_copia\n",
    "    \n",
    "    else:\n",
    "        return hijo"
   ]
  },
  {
   "cell_type": "code",
   "execution_count": null,
   "id": "5f35882f",
   "metadata": {},
   "outputs": [],
   "source": [
    "# Reemplazo\n",
    "\n",
    "def reemplazo_estacionario_torneo(poblacion, hijo_1, hijo_2):\n",
    "    \n",
    "    poblacion = list(poblacion)\n",
    "    \n",
    "    for i in range(2):\n",
    "        remover = seleccion_torneo(poblacion, 4, False)\n",
    "        for j in range(len(poblacion)):\n",
    "            if all(poblacion[j] == remover):\n",
    "                poblacion.pop(j)\n",
    "                break\n",
    "        \n",
    "    poblacion.extend([hijo_1, hijo_2])\n",
    "    \n",
    "    return np.array(poblacion)"
   ]
  },
  {
   "cell_type": "code",
   "execution_count": null,
   "id": "56d89220",
   "metadata": {},
   "outputs": [],
   "source": [
    "n_poblacion = 20\n",
    "n_genes = len(mat_tiempo)\n",
    "p_cruce = 0.9\n",
    "p_mutacion = 0.1\n",
    "\n",
    "generaciones = 10_000"
   ]
  },
  {
   "cell_type": "code",
   "execution_count": null,
   "id": "10515729",
   "metadata": {},
   "outputs": [],
   "source": [
    "%%time\n",
    "# Algoritmo Genético\n",
    "\n",
    "poblacion = generar_poblacion(n_poblacion, n_genes)\n",
    "\n",
    "mejores_individuos = list()\n",
    "\n",
    "for generacion in range(generaciones):\n",
    "    \n",
    "    # Selección Padres\n",
    "    padre_1, padre_2 = seleccion_torneo(poblacion, 4), seleccion_torneo(poblacion, 4)\n",
    "    \n",
    "    # Cruce (Hijos)\n",
    "    hijo_1, hijo_2 = cruce_orden(padre_1, padre_2, p_cruce)\n",
    "    \n",
    "    # Mutacion\n",
    "    hijo_1 = mutacion(hijo_1, p_mutacion)\n",
    "    hijo_2 = mutacion(hijo_2, p_mutacion)\n",
    "    \n",
    "    # Reemplazo\n",
    "    poblacion = reemplazo_estacionario_torneo(poblacion, hijo_1, hijo_2)\n",
    "    \n",
    "    # Mejor Individuo\n",
    "    mejores_individuos.append(seleccion_torneo(poblacion, n_poblacion))"
   ]
  },
  {
   "cell_type": "code",
   "execution_count": null,
   "id": "683ab062",
   "metadata": {},
   "outputs": [],
   "source": [
    "mejores_fitness = [calculo_fitness(individuo, mat_tiempo) for individuo in mejores_individuos]\n",
    "\n",
    "mejores_individuos[np.argmin(mejores_fitness)]"
   ]
  },
  {
   "cell_type": "code",
   "execution_count": null,
   "id": "3c5f7843",
   "metadata": {},
   "outputs": [],
   "source": [
    "calculo_fitness(mejores_individuos[np.argmin(mejores_fitness)], mat_tiempo)/60"
   ]
  },
  {
   "cell_type": "code",
   "execution_count": null,
   "id": "2ebfe6c6",
   "metadata": {},
   "outputs": [],
   "source": [
    "for i in mejores_individuos[np.argmin(mejores_fitness)]:\n",
    "    print(map_barrios[i])"
   ]
  },
  {
   "cell_type": "code",
   "execution_count": null,
   "id": "a8dab3e2",
   "metadata": {},
   "outputs": [],
   "source": [
    "import matplotlib.pyplot as plt\n",
    "\n",
    "plt.figure(figsize = (12, 8))\n",
    "\n",
    "plt.plot(mejores_fitness, color = \"red\")\n",
    "plt.show()"
   ]
  },
  {
   "cell_type": "code",
   "execution_count": null,
   "id": "0b7d1573",
   "metadata": {},
   "outputs": [],
   "source": [
    "############################################################################################################################"
   ]
  },
  {
   "cell_type": "code",
   "execution_count": null,
   "id": "09966458",
   "metadata": {},
   "outputs": [],
   "source": [
    "# Problema Empieza y Acaba en el mismo punto"
   ]
  },
  {
   "cell_type": "code",
   "execution_count": null,
   "id": "8bf8719b",
   "metadata": {},
   "outputs": [],
   "source": [
    "poblacion = generar_poblacion(n_poblacion, n_genes)\n",
    "\n",
    "# poblacion"
   ]
  },
  {
   "cell_type": "code",
   "execution_count": null,
   "id": "607bf2c2",
   "metadata": {},
   "outputs": [],
   "source": [
    "barrio = 4 # Chamartin\n",
    "\n",
    "poblacion = list(poblacion)\n",
    "\n",
    "for i in range(len(poblacion)):\n",
    "    poblacion[i] = list(poblacion[i])\n",
    "    poblacion[i].remove(barrio)\n",
    "    poblacion[i].insert(0, barrio)\n",
    "    poblacion[i].append(barrio)\n",
    "    \n",
    "poblacion"
   ]
  },
  {
   "cell_type": "code",
   "execution_count": null,
   "id": "f6109100",
   "metadata": {},
   "outputs": [],
   "source": [
    "mejores_individuos = list()\n",
    "\n",
    "for generacion in range(generaciones):\n",
    "    \n",
    "    # Torneo\n",
    "    padre_1 = seleccion_torneo(poblacion, 4)\n",
    "    padre_2 = seleccion_torneo(poblacion, 4)\n",
    "    \n",
    "    # Cruce (Hijos)\n",
    "    hijo_1, hijo_2 = cruce_orden(padre_1[1:-1], padre_2[1:-1], p_cruce)\n",
    "    hijo_1, hijo_2 = list(hijo_1), list(hijo_2)\n",
    "    hijo_1.insert(0, barrio)\n",
    "    hijo_1.append(barrio)\n",
    "    hijo_2.insert(0, barrio)\n",
    "    hijo_2.append(barrio)\n",
    "    \n",
    "    # Mutacion\n",
    "    hijo_1 = mutacion1(hijo_1, p_mutacion)\n",
    "    hijo_2 = mutacion1(hijo_2, p_mutacion)\n",
    "    \n",
    "    # Reemplazo\n",
    "    poblacion = reemplazo_estacionario_torneo(poblacion, hijo_1, hijo_2)\n",
    "    \n",
    "    # Mejor Individuo\n",
    "    mejores_individuos.append(seleccion_torneo(poblacion, n_poblacion))"
   ]
  },
  {
   "cell_type": "code",
   "execution_count": null,
   "id": "893831c0",
   "metadata": {},
   "outputs": [],
   "source": [
    "mejores_fitness = [calculo_fitness(individuo, mat_tiempo) for individuo in mejores_individuos]\n",
    "\n",
    "mejores_individuos[np.argmin(mejores_fitness)]"
   ]
  },
  {
   "cell_type": "code",
   "execution_count": null,
   "id": "d216303e",
   "metadata": {},
   "outputs": [],
   "source": [
    "calculo_fitness(mejores_individuos[np.argmin(mejores_fitness)], mat_tiempo)/60"
   ]
  },
  {
   "cell_type": "code",
   "execution_count": null,
   "id": "bf09de7e",
   "metadata": {},
   "outputs": [],
   "source": [
    "for i in mejores_individuos[np.argmin(mejores_fitness)]:\n",
    "    print(map_barrios[i])"
   ]
  },
  {
   "cell_type": "code",
   "execution_count": null,
   "id": "1d5785c0",
   "metadata": {},
   "outputs": [],
   "source": [
    "import matplotlib.pyplot as plt\n",
    "\n",
    "plt.figure(figsize = (12, 8))\n",
    "\n",
    "plt.plot(mejores_fitness, color = \"red\")\n",
    "plt.show()"
   ]
  },
  {
   "cell_type": "code",
   "execution_count": null,
   "id": "ee08f393",
   "metadata": {},
   "outputs": [],
   "source": [
    "############################################################################################################################"
   ]
  },
  {
   "cell_type": "code",
   "execution_count": null,
   "id": "433074ec",
   "metadata": {},
   "outputs": [],
   "source": []
  }
 ],
 "metadata": {
  "kernelspec": {
   "display_name": "Python 3 (ipykernel)",
   "language": "python",
   "name": "python3"
  },
  "language_info": {
   "codemirror_mode": {
    "name": "ipython",
    "version": 3
   },
   "file_extension": ".py",
   "mimetype": "text/x-python",
   "name": "python",
   "nbconvert_exporter": "python",
   "pygments_lexer": "ipython3",
   "version": "3.9.7"
  }
 },
 "nbformat": 4,
 "nbformat_minor": 5
}
