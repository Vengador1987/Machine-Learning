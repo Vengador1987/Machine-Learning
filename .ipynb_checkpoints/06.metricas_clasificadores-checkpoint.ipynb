{
 "cells": [
  {
   "cell_type": "markdown",
   "id": "7a3c0e43",
   "metadata": {},
   "source": [
    "# Metricas para Clasificadores"
   ]
  },
  {
   "attachments": {
    "ml_13.png": {
     "image/png": "[encoded data removed]"
    }
   },
   "cell_type": "markdown",
   "id": "b269a8ff",
   "metadata": {},
   "source": [
    "- **Indice de Jaccard**: también conocido como el coeficiente de similitud de Jaccard se puede definir como el tamaño de la intersección dividido por el tamaño de la unión de dos conjuntos.\n",
    "\n",
    "$$Jaccard(y, \\hat{y}) = \\frac{\\left | y \\cap \\hat{y} \\right |}{\\left | y \\right | + \\left | \\hat{y} \\right | - \\left | y \\cap \\hat{y} \\right |}$$\n",
    "\n",
    "\n",
    "- **Matriz de confusión**: La matriz de confusión es una herramienta utilizada principalmente en estadística y machine learning que evalúa la precisión de una clasificación. Dentro de sus ventajas se encuentra la de poder observar en una matriz, los porcentajes de predicciones correctas e incorrectas por clase. La matriz muestra las predicciones correctas y equivocadas, en comparación con los valores reales. \n",
    "\n",
    "![ml_13.png](attachment:ml_13.png)\n",
    "\n",
    "\n",
    "- **Accuracy (Exactitud o Rendimiento)**: Proporciona información sobre el porcentaje de patrones clasificados correctamente. Para clases desbalanceadas es mejor utilizar otra métrica.\n",
    "\n",
    "$$Accuracy = \\frac{VP + VN}{VP + FN + FP + VN}$$\n",
    "\n",
    "- **Precision**: La precisión mide la habilidad del clasificador para no predecir un caso negativo como un caso positivo.\n",
    "\n",
    "$$Precision = \\frac{VP }{VP + FP}$$\n",
    "\n",
    "- **Recall (Sensibilidad o  Exhaustividad)**: Es la habilidad del clasificador para predecir casos positivos como positivos. Esta métrica se suele utilizar en el ámbito médico debido a que da prioridad a predicción o clasificación de pacientes enfermos como enfermos sin dar el mismo nivel de importancia si un paciente sano se clasifica como enfermo.\n",
    "\n",
    "$$Recall = \\frac{VP + VN}{VP + FN}$$\n",
    "\n",
    "\n",
    "- **Specificity (Especificidad)**: Muestra la habilidad del clasificador para predecir verdaderos negativos reales correctamente. \n",
    "\n",
    "$$ Specificity = \\frac{VN}{VN + FP}$$\n",
    "\n",
    "\n",
    "- **F1-Score**: Es la media armónica entre la precisión y la sensibilidad.\n",
    "\n",
    "$$F1 = 2 * \\frac{Precision * Recall}{Precision + Recall}$$\n",
    "\n",
    "\n",
    "- **Curva ROC (Receiver Operating Characteristics/Característica Operativa del Receptor)**:\n",
    "\n",
    "    Es la representación de la proporción de verdaderos positivos frente a la proporción de falsos positivos.\n",
    "    \n",
    "    Es una curva que se grafica a través de los siguientes ejes: \n",
    "    - **Eje Y**: Recall.\n",
    "    - **Eje X**: 1 - Specificity."
   ]
  },
  {
   "cell_type": "code",
   "execution_count": 5,
   "id": "83bef998",
   "metadata": {},
   "outputs": [],
   "source": [
    "import numpy as np\n",
    "import pandas as pd\n",
    "import matplotlib.pyplot as plt\n",
    "\n",
    "from sklearn.model_selection import train_test_split\n",
    "\n",
    "from sklearn.neighbors import KNeighborsClassifier\n",
    "from sklearn import datasets\n",
    "\n",
    "from sklearn.metrics import jaccard_score\n",
    "from sklearn.metrics import accuracy_score\n",
    "from sklearn.metrics import precision_score\n",
    "from sklearn.metrics import recall_score\n",
    "from sklearn.metrics import f1_score\n",
    "from sklearn.metrics import roc_auc_score\n",
    "\n",
    "from sklearn.metrics import confusion_matrix\n",
    "from sklearn.metrics import classification_report\n",
    "\n",
    "from sklearn.metrics import roc_curve\n",
    "from sklearn.metrics import auc"
   ]
  },
  {
   "cell_type": "markdown",
   "id": "5d11a6e8",
   "metadata": {},
   "source": [
    "### Modelo"
   ]
  },
  {
   "cell_type": "code",
   "execution_count": 14,
   "id": "2b9db305",
   "metadata": {},
   "outputs": [],
   "source": [
    "iris = datasets.load_iris()\n",
    "\n",
    "X = iris.data\n",
    "y = iris.target"
   ]
  },
  {
   "cell_type": "code",
   "execution_count": 15,
   "id": "ac3b7ae0-876b-47f6-b1b3-b9099d4bb986",
   "metadata": {},
   "outputs": [],
   "source": [
    "df = pd.read_csv(\"titanic_preprocesamiento.csv\")\n",
    "\n",
    "X = df.drop([\"Survived\", \"Fare-Binning\", \"Age-Binning\"], axis = 1).values\n",
    "y = df[\"Survived\"]"
   ]
  },
  {
   "cell_type": "code",
   "execution_count": 16,
   "id": "0f47b1b6",
   "metadata": {},
   "outputs": [
    {
     "name": "stdout",
     "output_type": "stream",
     "text": [
      "Train: (621, 11), (621,)\n",
      "Train: (267, 11), (267,)\n"
     ]
    }
   ],
   "source": [
    "X_train, X_test, y_train, y_test = train_test_split(X, y, test_size = 0.3, random_state = 42)\n",
    "\n",
    "print(f\"Train: {X_train.shape}, {y_train.shape}\")\n",
    "print(f\"Train: {X_test.shape}, {y_test.shape}\")"
   ]
  },
  {
   "cell_type": "code",
   "execution_count": 17,
   "id": "a2489821",
   "metadata": {},
   "outputs": [
    {
     "data": {
      "text/plain": [
       "array([0., 1., 0., 0., 0., 0., 0., 0., 1., 1., 1., 1., 0., 0., 1., 0., 1.,\n",
       "       0., 0., 1., 0., 0., 0., 1., 0., 0., 0., 0., 0., 0., 0., 0., 0., 0.,\n",
       "       0., 0., 1., 0., 0., 0., 0., 1., 0., 1., 0., 1., 0., 0., 0., 1., 1.,\n",
       "       0., 0., 0., 0., 0., 0., 0., 1., 1., 0., 0., 1., 0., 0., 0., 0., 0.,\n",
       "       0., 1., 1., 1., 1., 1., 1., 0., 0., 0., 0., 0., 1., 0., 0., 0., 0.,\n",
       "       0., 1., 0., 0., 0., 0., 0., 1., 0., 0., 1., 1., 0., 0., 0., 1., 1.,\n",
       "       0., 0., 0., 1., 1., 1., 0., 0., 0., 0., 0., 1., 0., 0., 0., 0., 0.,\n",
       "       0., 0., 1., 0., 0., 1., 0., 0., 1., 1., 1., 0., 1., 0., 0., 1., 1.,\n",
       "       0., 0., 0., 1., 1., 0., 1., 0., 1., 1., 0., 1., 0., 1., 0., 1., 0.,\n",
       "       0., 0., 1., 1., 1., 0., 1., 0., 1., 0., 0., 0., 0., 0., 0., 0., 1.,\n",
       "       1., 0., 0., 0., 0., 0., 1., 1., 0., 0., 0., 0., 0., 1., 0., 0., 0.,\n",
       "       0., 0., 0., 1., 0., 0., 0., 0., 0., 0., 0., 0., 1., 0., 0., 0., 1.,\n",
       "       0., 0., 0., 0., 1., 1., 0., 0., 0., 0., 1., 0., 1., 0., 0., 0., 0.,\n",
       "       0., 1., 1., 0., 0., 0., 1., 1., 1., 0., 0., 0., 0., 0., 0., 0., 0.,\n",
       "       0., 0., 0., 0., 0., 1., 0., 1., 1., 0., 0., 1., 0., 1., 0., 0., 0.,\n",
       "       1., 0., 1., 1., 0., 0., 0., 0., 1., 0., 0., 0.])"
      ]
     },
     "execution_count": 17,
     "metadata": {},
     "output_type": "execute_result"
    }
   ],
   "source": [
    "clf = KNeighborsClassifier(3)\n",
    "clf.fit(X_train, y_train)\n",
    "\n",
    "yhat = clf.predict(X_test)\n",
    "yhat"
   ]
  },
  {
   "cell_type": "markdown",
   "id": "b0b72efe",
   "metadata": {},
   "source": [
    "## Métricas"
   ]
  },
  {
   "cell_type": "code",
   "execution_count": 18,
   "id": "b43c2d4d",
   "metadata": {},
   "outputs": [
    {
     "name": "stdout",
     "output_type": "stream",
     "text": [
      "Jaccard Index: 0.5467328974761678\n",
      "Exactitud: 0.7265917602996255\n",
      "Precisión: 0.7212261041529334\n",
      "Sensibilidad: 0.6960280373831775\n",
      "F1-score: 0.7010812054290314\n"
     ]
    }
   ],
   "source": [
    "print(\"Jaccard Index:\", jaccard_score(y_test, yhat, average = \"macro\"))\n",
    "print(\"Exactitud:\"    , accuracy_score(y_test, yhat))\n",
    "print(\"Precisión:\"    , precision_score(y_test, yhat, average = \"macro\"))\n",
    "print(\"Sensibilidad:\" , recall_score(y_test, yhat, average = \"macro\"))\n",
    "print(\"F1-score:\"     , f1_score(y_test, yhat, average = \"macro\"))"
   ]
  },
  {
   "cell_type": "markdown",
   "id": "8ac90bb3",
   "metadata": {},
   "source": [
    "### Matriz de confusion"
   ]
  },
  {
   "cell_type": "code",
   "execution_count": 22,
   "id": "a5c9697b",
   "metadata": {},
   "outputs": [
    {
     "data": {
      "text/plain": [
       "array([[ 58,  49],\n",
       "       [ 24, 136]], dtype=int64)"
      ]
     },
     "execution_count": 22,
     "metadata": {},
     "output_type": "execute_result"
    }
   ],
   "source": [
    "confusion_matrix(y_test, yhat, labels = [1, 0])"
   ]
  },
  {
   "cell_type": "markdown",
   "id": "08772bfc",
   "metadata": {},
   "source": [
    "### Classification Report"
   ]
  },
  {
   "cell_type": "code",
   "execution_count": 23,
   "id": "dd4a8cc0",
   "metadata": {},
   "outputs": [
    {
     "name": "stdout",
     "output_type": "stream",
     "text": [
      "              precision    recall  f1-score   support\n",
      "\n",
      "         0.0      0.735     0.850     0.788       160\n",
      "         1.0      0.707     0.542     0.614       107\n",
      "\n",
      "    accuracy                          0.727       267\n",
      "   macro avg      0.721     0.696     0.701       267\n",
      "weighted avg      0.724     0.727     0.718       267\n",
      "\n"
     ]
    }
   ],
   "source": [
    "print(classification_report(y_test, yhat, digits = 3))"
   ]
  },
  {
   "cell_type": "markdown",
   "id": "9913f979",
   "metadata": {},
   "source": [
    "### Curva ROC\n",
    "\n",
    "Una curva ROC es un gráfico que resume el rendimiento de un modelo de clasificación binaria en la clase positiva.\n",
    "\n",
    "**Solo para clasificación binaria.**"
   ]
  },
  {
   "cell_type": "code",
   "execution_count": 25,
   "id": "1dea0492",
   "metadata": {},
   "outputs": [
    {
     "name": "stdout",
     "output_type": "stream",
     "text": [
      "Train: (70, 4), (70,)\n",
      "Train: (30, 4), (30,)\n"
     ]
    }
   ],
   "source": [
    "# Hago el dataset binario\n",
    "\n",
    "#X_train, X_test, y_train, y_test = train_test_split(X[50:, :], y[:100], test_size = 0.3, random_state = 42)\n",
    "\n",
    "#print(f\"Train: {X_train.shape}, {y_train.shape}\")\n",
    "#print(f\"Train: {X_test.shape}, {y_test.shape}\")"
   ]
  },
  {
   "cell_type": "code",
   "execution_count": 24,
   "id": "f681498f",
   "metadata": {},
   "outputs": [],
   "source": [
    "# Entreno el modelo\n",
    "\n",
    "clf = KNeighborsClassifier(3)\n",
    "clf.fit(X_train, y_train)\n",
    "\n",
    "yhat = clf.predict(X_test)"
   ]
  },
  {
   "cell_type": "code",
   "execution_count": 25,
   "id": "d3b7fcfc",
   "metadata": {},
   "outputs": [
    {
     "name": "stdout",
     "output_type": "stream",
     "text": [
      "Area bajo la curva: 0.7423481308411215\n"
     ]
    },
    {
     "data": {
      "image/png": "[encoded data removed]",
      "text/plain": [
       "<Figure size 432x288 with 1 Axes>"
      ]
     },
     "metadata": {
      "needs_background": "light"
     },
     "output_type": "display_data"
    }
   ],
   "source": [
    "# ROC Plot\n",
    "\n",
    "probs = clf.predict_proba(X_test)\n",
    "\n",
    "preds = probs[:, 1]\n",
    "\n",
    "fpr, tpr, threshold = roc_curve(y_test, preds)\n",
    "roc_auc = auc(fpr, tpr)\n",
    "\n",
    "print(\"Area bajo la curva:\", auc(fpr, tpr))\n",
    "\n",
    "plt.plot(fpr, tpr, \"b\", label = \"AUC = %0.2f\" % roc_auc)\n",
    "\n",
    "plt.xlim([0, 1])\n",
    "plt.ylim([0, 1])\n",
    "\n",
    "plt.ylabel(\"Sensibilidad\")\n",
    "plt.xlabel(\"1 - Especificidad\")\n",
    "\n",
    "plt.legend()\n",
    "\n",
    "plt.show()"
   ]
  },
  {
   "cell_type": "markdown",
   "id": "ba78e375",
   "metadata": {},
   "source": [
    "### ROC AUC (Receiver Operating Characteristics Area Under the Curve)\n",
    "\n",
    "Este área puede interpretarse como la probabilidad de que ante un par de instancias, uno Positivo y uno Negativo, la prueba los clasifique correctamente.\n",
    "\n",
    "Ésta métrica es de las más utilizada para comparar modelos de clasificación con clases muy desequilibradas."
   ]
  },
  {
   "cell_type": "code",
   "execution_count": 26,
   "id": "f1211291",
   "metadata": {},
   "outputs": [
    {
     "name": "stdout",
     "output_type": "stream",
     "text": [
      "ROC AUC: 0.6960280373831775\n"
     ]
    }
   ],
   "source": [
    "print(\"ROC AUC:\", roc_auc_score(y_test, yhat))"
   ]
  },
  {
   "cell_type": "code",
   "execution_count": null,
   "id": "82da69ff",
   "metadata": {},
   "outputs": [],
   "source": []
  }
 ],
 "metadata": {
  "kernelspec": {
   "display_name": "Python 3 (ipykernel)",
   "language": "python",
   "name": "python3"
  },
  "language_info": {
   "codemirror_mode": {
    "name": "ipython",
    "version": 3
   },
   "file_extension": ".py",
   "mimetype": "text/x-python",
   "name": "python",
   "nbconvert_exporter": "python",
   "pygments_lexer": "ipython3",
   "version": "3.9.7"
  }
 },
 "nbformat": 4,
 "nbformat_minor": 5
}
