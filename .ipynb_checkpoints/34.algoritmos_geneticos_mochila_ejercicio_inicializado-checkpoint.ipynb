{
 "cells": [
  {
   "cell_type": "markdown",
   "id": "f4629a61",
   "metadata": {},
   "source": [
    "## Algoritmos Genéticos: Problema de la Mochila\n",
    "\n",
    "Siguiendo los pasos de la teoria de Algoritmos Genéticos, has el algoritmo del problema de la mochila.\n",
    "\n",
    "- Población Inicial: 20\n",
    "- Número de Genes: 20\n",
    "- Probabilidad de Cruce: 0.9\n",
    "- Probabilidad de Mutación: 0.1\n",
    "- Peso Maximo = 2500"
   ]
  },
  {
   "cell_type": "code",
   "execution_count": 1,
   "id": "ffd12930",
   "metadata": {},
   "outputs": [],
   "source": [
    "import random"
   ]
  },
  {
   "cell_type": "code",
   "execution_count": 2,
   "id": "18591134",
   "metadata": {},
   "outputs": [
    {
     "name": "stdout",
     "output_type": "stream",
     "text": [
      "['objeto_0', 'objeto_1', 'objeto_2', 'objeto_3', 'objeto_4', 'objeto_5', 'objeto_6', 'objeto_7', 'objeto_8', 'objeto_9', 'objeto_10', 'objeto_11', 'objeto_12', 'objeto_13', 'objeto_14', 'objeto_15', 'objeto_16', 'objeto_17', 'objeto_18', 'objeto_19']\n"
     ]
    }
   ],
   "source": [
    "n_genes = 20\n",
    "peso_max = 2500\n",
    "n_poblacion = 20 \n",
    "\n",
    "nombres = [f\"objeto_{i}\" for i in range(n_genes)]\n",
    "print(nombres)"
   ]
  },
  {
   "cell_type": "code",
   "execution_count": 7,
   "id": "406b08f5",
   "metadata": {},
   "outputs": [
    {
     "name": "stdout",
     "output_type": "stream",
     "text": [
      "[183, 156, 315, 172, 161, 297, 368, 283, 203, 201, 336, 320, 345, 228, 161, 394, 341, 243, 309, 173]\n"
     ]
    }
   ],
   "source": [
    "pesos = [random.randint(100, 400) for i in range(n_genes)]\n",
    "print(pesos)"
   ]
  },
  {
   "cell_type": "code",
   "execution_count": 9,
   "id": "1065465a",
   "metadata": {},
   "outputs": [
    {
     "name": "stdout",
     "output_type": "stream",
     "text": [
      "[796, 725, 725, 524, 636, 552, 689, 504, 784, 736, 729, 725, 519, 778, 507, 573, 583, 725, 722, 674]\n"
     ]
    }
   ],
   "source": [
    "valores = [random.randint(500, 800) for i in range(n_genes)]\n",
    "print(valores)"
   ]
  },
  {
   "cell_type": "code",
   "execution_count": 10,
   "id": "48b5207c",
   "metadata": {},
   "outputs": [
    {
     "name": "stdout",
     "output_type": "stream",
     "text": [
      "objeto_0 796 183\n",
      "objeto_1 725 156\n",
      "objeto_2 725 315\n",
      "objeto_3 524 172\n",
      "objeto_4 636 161\n",
      "objeto_5 552 297\n",
      "objeto_6 689 368\n",
      "objeto_7 504 283\n",
      "objeto_8 784 203\n",
      "objeto_9 736 201\n",
      "objeto_10 729 336\n",
      "objeto_11 725 320\n",
      "objeto_12 519 345\n",
      "objeto_13 778 228\n",
      "objeto_14 507 161\n",
      "objeto_15 573 394\n",
      "objeto_16 583 341\n",
      "objeto_17 725 243\n",
      "objeto_18 722 309\n",
      "objeto_19 674 173\n"
     ]
    }
   ],
   "source": [
    "for x, y, z in zip(nombres, valores, pesos):\n",
    "    print(x, y, z)"
   ]
  },
  {
   "cell_type": "code",
   "execution_count": 23,
   "id": "d4b79c1f",
   "metadata": {},
   "outputs": [
    {
     "data": {
      "text/plain": [
       "[1, 1, 1, 0, 0, 1, 0, 1, 1, 1, 1, 0, 1, 0, 0, 0, 0, 0, 1, 0]"
      ]
     },
     "execution_count": 23,
     "metadata": {},
     "output_type": "execute_result"
    }
   ],
   "source": [
    "individuo = [random.randint(0, 1) for i in range(n_genes)]\n",
    "\n",
    "individuo"
   ]
  },
  {
   "cell_type": "code",
   "execution_count": 24,
   "id": "9cb1e9b8",
   "metadata": {},
   "outputs": [
    {
     "name": "stdout",
     "output_type": "stream",
     "text": [
      "1 183\n",
      "1 156\n",
      "1 315\n",
      "0 172\n",
      "0 161\n",
      "1 297\n",
      "0 368\n",
      "1 283\n",
      "1 203\n",
      "1 201\n",
      "1 336\n",
      "0 320\n",
      "1 345\n",
      "0 228\n",
      "0 161\n",
      "0 394\n",
      "0 341\n",
      "0 243\n",
      "1 309\n",
      "0 173\n"
     ]
    }
   ],
   "source": [
    "for x, y in zip(individuo, pesos):\n",
    "    print(x, y)"
   ]
  },
  {
   "cell_type": "code",
   "execution_count": 25,
   "id": "d43ab80e",
   "metadata": {},
   "outputs": [
    {
     "data": {
      "text/plain": [
       "2628"
      ]
     },
     "execution_count": 25,
     "metadata": {},
     "output_type": "execute_result"
    }
   ],
   "source": [
    "import numpy as np\n",
    "\n",
    "np.dot(individuo, pesos)"
   ]
  },
  {
   "cell_type": "code",
   "execution_count": 26,
   "id": "8943eb4e",
   "metadata": {},
   "outputs": [
    {
     "data": {
      "text/plain": [
       "6792"
      ]
     },
     "execution_count": 26,
     "metadata": {},
     "output_type": "execute_result"
    }
   ],
   "source": [
    "np.dot(individuo, valores)"
   ]
  },
  {
   "cell_type": "code",
   "execution_count": 37,
   "id": "61ce2d1e",
   "metadata": {},
   "outputs": [],
   "source": [
    "def inicializar_poblacion(n_poblacion, n_genes, peso_max):\n",
    "    poblacion = list()\n",
    "\n",
    "    while len(poblacion) < n_poblacion:\n",
    "        individuo = [random.randint(0, 1) for i in range(n_genes)]\n",
    "\n",
    "        peso_individuo = np.dot(individuo, pesos)\n",
    "\n",
    "        if peso_individuo <= peso_max:\n",
    "            poblacion.append(individuo)\n",
    "    return poblacion"
   ]
  },
  {
   "cell_type": "code",
   "execution_count": 39,
   "id": "cbb176e6",
   "metadata": {},
   "outputs": [
    {
     "data": {
      "text/plain": [
       "[[0, 1, 1, 0, 1, 0, 0, 0, 1, 0, 1, 1, 0, 1, 0, 1, 0, 0, 1, 0],\n",
       " [0, 0, 0, 1, 1, 1, 0, 0, 1, 0, 0, 0, 0, 0, 0, 1, 1, 0, 0, 1],\n",
       " [0, 1, 0, 1, 1, 1, 1, 0, 0, 0, 1, 0, 1, 0, 1, 0, 1, 0, 0, 0],\n",
       " [1, 1, 0, 1, 0, 0, 0, 1, 0, 1, 1, 0, 0, 1, 0, 0, 0, 0, 0, 1],\n",
       " [1, 0, 1, 1, 0, 0, 1, 0, 0, 0, 0, 1, 0, 1, 0, 1, 0, 0, 1, 0],\n",
       " [0, 1, 1, 0, 0, 0, 0, 1, 0, 0, 0, 0, 0, 0, 0, 0, 0, 1, 1, 0],\n",
       " [0, 0, 0, 0, 0, 1, 1, 1, 0, 0, 0, 0, 0, 1, 1, 0, 1, 1, 0, 0],\n",
       " [0, 1, 1, 0, 0, 0, 0, 0, 1, 1, 0, 1, 1, 1, 1, 0, 0, 1, 0, 1],\n",
       " [0, 1, 0, 0, 1, 1, 0, 1, 0, 1, 0, 0, 1, 0, 1, 0, 0, 0, 1, 1],\n",
       " [0, 1, 0, 0, 0, 0, 1, 0, 0, 0, 1, 0, 1, 0, 0, 0, 0, 0, 1, 0],\n",
       " [0, 1, 1, 1, 0, 1, 1, 0, 1, 1, 0, 0, 0, 0, 0, 0, 1, 1, 0, 1],\n",
       " [0, 0, 0, 0, 0, 1, 0, 1, 1, 1, 1, 0, 0, 1, 1, 1, 0, 0, 0, 1],\n",
       " [1, 1, 0, 0, 0, 1, 0, 0, 0, 1, 0, 1, 1, 0, 1, 0, 1, 0, 1, 0],\n",
       " [0, 1, 1, 0, 0, 1, 0, 1, 0, 1, 0, 0, 1, 0, 0, 0, 0, 0, 0, 0],\n",
       " [0, 1, 1, 1, 0, 1, 0, 0, 0, 0, 0, 0, 1, 1, 1, 0, 0, 0, 0, 0],\n",
       " [1, 0, 0, 1, 0, 1, 0, 0, 1, 0, 0, 0, 0, 0, 1, 1, 0, 0, 1, 0],\n",
       " [0, 1, 0, 1, 0, 1, 0, 1, 1, 0, 0, 0, 0, 0, 0, 1, 0, 0, 1, 0],\n",
       " [1, 0, 0, 1, 1, 1, 0, 1, 0, 0, 0, 0, 0, 0, 0, 1, 1, 1, 1, 0],\n",
       " [0, 1, 1, 0, 0, 0, 0, 0, 1, 0, 0, 0, 0, 0, 1, 1, 0, 1, 0, 1],\n",
       " [0, 0, 1, 1, 0, 1, 0, 0, 1, 1, 1, 0, 1, 0, 0, 0, 0, 1, 0, 1]]"
      ]
     },
     "execution_count": 39,
     "metadata": {},
     "output_type": "execute_result"
    }
   ],
   "source": [
    "poblacion = inicializar_poblacion(n_poblacion, n_genes, peso_max)\n",
    "poblacion"
   ]
  },
  {
   "cell_type": "code",
   "execution_count": 35,
   "id": "a6303f1e",
   "metadata": {},
   "outputs": [
    {
     "name": "stdout",
     "output_type": "stream",
     "text": [
      "0 4439 2012\n",
      "1 5596 2411\n",
      "2 7029 2387\n",
      "3 4952 1803\n",
      "4 5971 2040\n",
      "5 3533 1731\n",
      "6 6361 2345\n",
      "7 5294 2242\n",
      "8 2755 840\n",
      "9 4706 1842\n",
      "10 5458 2219\n",
      "11 4708 1809\n",
      "12 4564 1769\n",
      "13 5493 2344\n",
      "14 5777 2386\n",
      "15 5950 2197\n",
      "16 6242 2397\n",
      "17 5053 1930\n",
      "18 5250 1940\n",
      "19 4563 1812\n"
     ]
    }
   ],
   "source": [
    "for num, individuo in enumerate(poblacion):\n",
    "    print(num, np.dot(individuo, valores), np.dot(individuo, pesos))"
   ]
  },
  {
   "cell_type": "code",
   "execution_count": null,
   "id": "caa2ddb8",
   "metadata": {},
   "outputs": [],
   "source": []
  }
 ],
 "metadata": {
  "kernelspec": {
   "display_name": "Python 3 (ipykernel)",
   "language": "python",
   "name": "python3"
  },
  "language_info": {
   "codemirror_mode": {
    "name": "ipython",
    "version": 3
   },
   "file_extension": ".py",
   "mimetype": "text/x-python",
   "name": "python",
   "nbconvert_exporter": "python",
   "pygments_lexer": "ipython3",
   "version": "3.9.7"
  }
 },
 "nbformat": 4,
 "nbformat_minor": 5
}
