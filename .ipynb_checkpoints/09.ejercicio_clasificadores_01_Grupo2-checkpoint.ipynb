{
 "cells": [
  {
   "cell_type": "markdown",
   "id": "c56917ed",
   "metadata": {},
   "source": [
    "### Ejercicio de clasificadores 01\n",
    "\n",
    "Vamos a poner en práctica los algoritmos de clasificación que hemos aprendido hasta el momento.\n",
    "\n",
    "Utilizando el dataset de **`BreastCancer.xlsx`** vamos a implementar todos los modelos de clasificación que hemos aprendido y vamos a comparar las métricas de cada modelo para ver cual modelo se desempeña mejor.\n",
    "\n",
    "**Guarda las métricas en un DataFrame para poder compararlas.**\n",
    "\n",
    "**Recuerda hacer el preprocesamiento necesario.**"
   ]
  },
  {
   "cell_type": "code",
   "execution_count": 1,
   "id": "ed6dc08f",
   "metadata": {},
   "outputs": [],
   "source": [
    "import numpy as np\n",
    "import pandas as pd\n",
    "import matplotlib.pyplot as plt\n",
    "import seaborn as sns\n",
    "\n",
    "from sklearn import datasets\n",
    "\n",
    "# Normalizacion\n",
    "from sklearn.preprocessing import MinMaxScaler\n",
    "\n",
    "# Train, Test\n",
    "from sklearn.model_selection import train_test_split\n",
    "\n",
    "# Modelos de Clasificación\n",
    "from sklearn.neighbors import KNeighborsClassifier\n",
    "from sklearn.neighbors import RadiusNeighborsClassifier\n",
    "from sklearn.neighbors import NearestCentroid\n",
    "from sklearn.naive_bayes import GaussianNB\n",
    "\n",
    "# Metricas\n",
    "from sklearn.metrics import jaccard_score\n",
    "from sklearn.metrics import accuracy_score\n",
    "from sklearn.metrics import precision_score\n",
    "from sklearn.metrics import recall_score\n",
    "from sklearn.metrics import f1_score\n",
    "from sklearn.metrics import roc_auc_score\n",
    "\n",
    "from sklearn.metrics import confusion_matrix\n",
    "from sklearn.metrics import classification_report"
   ]
  },
  {
   "cell_type": "code",
   "execution_count": 2,
   "id": "e07c80e3",
   "metadata": {
    "scrolled": false
   },
   "outputs": [
    {
     "data": {
      "text/html": [
       "<div>\n",
       "<style scoped>\n",
       "    .dataframe tbody tr th:only-of-type {\n",
       "        vertical-align: middle;\n",
       "    }\n",
       "\n",
       "    .dataframe tbody tr th {\n",
       "        vertical-align: top;\n",
       "    }\n",
       "\n",
       "    .dataframe thead th {\n",
       "        text-align: right;\n",
       "    }\n",
       "</style>\n",
       "<table border=\"1\" class=\"dataframe\">\n",
       "  <thead>\n",
       "    <tr style=\"text-align: right;\">\n",
       "      <th></th>\n",
       "      <th>Clump Thickness</th>\n",
       "      <th>Uniformity of Cell Size</th>\n",
       "      <th>niformity of Cell Shape</th>\n",
       "      <th>Marginal Adhesion</th>\n",
       "      <th>Single Epithelial Cell Size</th>\n",
       "      <th>Bare Nuclei</th>\n",
       "      <th>Bland Chromatin</th>\n",
       "      <th>Normal Nucleoli</th>\n",
       "      <th>Mitoses</th>\n",
       "      <th>Class</th>\n",
       "    </tr>\n",
       "  </thead>\n",
       "  <tbody>\n",
       "    <tr>\n",
       "      <th>0</th>\n",
       "      <td>5</td>\n",
       "      <td>1</td>\n",
       "      <td>1</td>\n",
       "      <td>1</td>\n",
       "      <td>2</td>\n",
       "      <td>1</td>\n",
       "      <td>3</td>\n",
       "      <td>1</td>\n",
       "      <td>1</td>\n",
       "      <td>0</td>\n",
       "    </tr>\n",
       "    <tr>\n",
       "      <th>1</th>\n",
       "      <td>5</td>\n",
       "      <td>4</td>\n",
       "      <td>4</td>\n",
       "      <td>5</td>\n",
       "      <td>7</td>\n",
       "      <td>10</td>\n",
       "      <td>3</td>\n",
       "      <td>2</td>\n",
       "      <td>1</td>\n",
       "      <td>0</td>\n",
       "    </tr>\n",
       "    <tr>\n",
       "      <th>2</th>\n",
       "      <td>3</td>\n",
       "      <td>1</td>\n",
       "      <td>1</td>\n",
       "      <td>1</td>\n",
       "      <td>2</td>\n",
       "      <td>2</td>\n",
       "      <td>3</td>\n",
       "      <td>1</td>\n",
       "      <td>1</td>\n",
       "      <td>0</td>\n",
       "    </tr>\n",
       "    <tr>\n",
       "      <th>3</th>\n",
       "      <td>6</td>\n",
       "      <td>8</td>\n",
       "      <td>8</td>\n",
       "      <td>1</td>\n",
       "      <td>3</td>\n",
       "      <td>4</td>\n",
       "      <td>3</td>\n",
       "      <td>7</td>\n",
       "      <td>1</td>\n",
       "      <td>0</td>\n",
       "    </tr>\n",
       "    <tr>\n",
       "      <th>4</th>\n",
       "      <td>4</td>\n",
       "      <td>1</td>\n",
       "      <td>1</td>\n",
       "      <td>3</td>\n",
       "      <td>2</td>\n",
       "      <td>1</td>\n",
       "      <td>3</td>\n",
       "      <td>1</td>\n",
       "      <td>1</td>\n",
       "      <td>0</td>\n",
       "    </tr>\n",
       "  </tbody>\n",
       "</table>\n",
       "</div>"
      ],
      "text/plain": [
       "   Clump Thickness  Uniformity of Cell Size  niformity of Cell Shape  \\\n",
       "0                5                        1                        1   \n",
       "1                5                        4                        4   \n",
       "2                3                        1                        1   \n",
       "3                6                        8                        8   \n",
       "4                4                        1                        1   \n",
       "\n",
       "   Marginal Adhesion  Single Epithelial Cell Size  Bare Nuclei  \\\n",
       "0                  1                            2            1   \n",
       "1                  5                            7           10   \n",
       "2                  1                            2            2   \n",
       "3                  1                            3            4   \n",
       "4                  3                            2            1   \n",
       "\n",
       "   Bland Chromatin  Normal Nucleoli  Mitoses  Class  \n",
       "0                3                1        1      0  \n",
       "1                3                2        1      0  \n",
       "2                3                1        1      0  \n",
       "3                3                7        1      0  \n",
       "4                3                1        1      0  "
      ]
     },
     "execution_count": 2,
     "metadata": {},
     "output_type": "execute_result"
    }
   ],
   "source": [
    "df = pd.read_excel(\"BreastCancer.xlsx\")\n",
    "df.head() #Columna a predecir: Class"
   ]
  },
  {
   "cell_type": "code",
   "execution_count": 3,
   "id": "8bf65241",
   "metadata": {
    "scrolled": true
   },
   "outputs": [],
   "source": [
    "#df.iloc[201]"
   ]
  },
  {
   "cell_type": "code",
   "execution_count": 4,
   "id": "742c557d",
   "metadata": {},
   "outputs": [],
   "source": [
    "#df = df.drop(201, axis = 0).reset_index()"
   ]
  },
  {
   "cell_type": "code",
   "execution_count": 5,
   "id": "172196ce",
   "metadata": {},
   "outputs": [
    {
     "data": {
      "text/plain": [
       "((699, 9), (699,))"
      ]
     },
     "execution_count": 5,
     "metadata": {},
     "output_type": "execute_result"
    }
   ],
   "source": [
    "X = np.array(df.drop(\"Class\", axis = 1))\n",
    "\n",
    "y = np.array(df[\"Class\"])\n",
    "\n",
    "X.shape, y.shape"
   ]
  },
  {
   "cell_type": "code",
   "execution_count": 6,
   "id": "e29496b7",
   "metadata": {},
   "outputs": [
    {
     "data": {
      "text/plain": [
       "0    458\n",
       "1    241\n",
       "Name: Class, dtype: int64"
      ]
     },
     "execution_count": 6,
     "metadata": {},
     "output_type": "execute_result"
    }
   ],
   "source": [
    "df[\"Class\"].value_counts() #0 = no, 1 = Sí"
   ]
  },
  {
   "cell_type": "code",
   "execution_count": 7,
   "id": "a7eae69a",
   "metadata": {},
   "outputs": [
    {
     "data": {
      "text/plain": [
       "array([[0.44444444, 0.        , 0.        , ..., 0.22222222, 0.        ,\n",
       "        0.        ],\n",
       "       [0.44444444, 0.33333333, 0.33333333, ..., 0.22222222, 0.11111111,\n",
       "        0.        ],\n",
       "       [0.22222222, 0.        , 0.        , ..., 0.22222222, 0.        ,\n",
       "        0.        ],\n",
       "       ...,\n",
       "       [0.44444444, 1.        , 1.        , ..., 0.77777778, 1.        ,\n",
       "        0.11111111],\n",
       "       [0.33333333, 0.77777778, 0.55555556, ..., 1.        , 0.55555556,\n",
       "        0.        ],\n",
       "       [0.33333333, 0.77777778, 0.77777778, ..., 1.        , 0.33333333,\n",
       "        0.        ]])"
      ]
     },
     "execution_count": 7,
     "metadata": {},
     "output_type": "execute_result"
    }
   ],
   "source": [
    "# Normalización de datos\n",
    "x_scaler = MinMaxScaler()\n",
    "X = x_scaler.fit_transform(X)\n",
    "\n",
    "X"
   ]
  },
  {
   "cell_type": "code",
   "execution_count": 50,
   "id": "0572b063",
   "metadata": {},
   "outputs": [
    {
     "name": "stdout",
     "output_type": "stream",
     "text": [
      "X_train: (69, 9), y_train: (69,)\n",
      "X_test: (630, 9),  y_test: (630,)\n"
     ]
    }
   ],
   "source": [
    "# Train, test\n",
    "X_train, X_test, y_train, y_test = train_test_split(X, y, test_size = 0.9, random_state = 42)\n",
    "\n",
    "print(f\"X_train: {X_train.shape}, y_train: {y_train.shape}\")\n",
    "print(f\"X_test: {X_test.shape},  y_test: {y_test.shape}\")"
   ]
  },
  {
   "cell_type": "code",
   "execution_count": 51,
   "id": "9361c5d7",
   "metadata": {
    "scrolled": true
   },
   "outputs": [
    {
     "name": "stderr",
     "output_type": "stream",
     "text": [
      "C:\\Users\\UsuarioM\\anaconda3\\lib\\site-packages\\seaborn\\_decorators.py:36: FutureWarning: Pass the following variables as keyword args: x, y. From version 0.12, the only valid positional argument will be `data`, and passing other arguments without an explicit keyword will result in an error or misinterpretation.\n",
      "  warnings.warn(\n"
     ]
    },
    {
     "data": {
      "text/plain": [
       "<AxesSubplot:>"
      ]
     },
     "execution_count": 51,
     "metadata": {},
     "output_type": "execute_result"
    },
    {
     "data": {
      "image/png": "[encoded data removed]",
      "text/plain": [
       "<Figure size 432x288 with 1 Axes>"
      ]
     },
     "metadata": {
      "needs_background": "light"
     },
     "output_type": "display_data"
    }
   ],
   "source": [
    "sns.scatterplot(X_test[:, 0], X_test[:, 1], alpha = 0.2)"
   ]
  },
  {
   "cell_type": "code",
   "execution_count": 52,
   "id": "19fd1752",
   "metadata": {},
   "outputs": [
    {
     "name": "stderr",
     "output_type": "stream",
     "text": [
      "C:\\Users\\UsuarioM\\anaconda3\\lib\\site-packages\\seaborn\\_decorators.py:36: FutureWarning: Pass the following variables as keyword args: x, y. From version 0.12, the only valid positional argument will be `data`, and passing other arguments without an explicit keyword will result in an error or misinterpretation.\n",
      "  warnings.warn(\n"
     ]
    },
    {
     "data": {
      "text/plain": [
       "<seaborn.axisgrid.JointGrid at 0x2330971b0d0>"
      ]
     },
     "execution_count": 52,
     "metadata": {},
     "output_type": "execute_result"
    },
    {
     "data": {
      "image/png": "[encoded data removed]",
      "text/plain": [
       "<Figure size 432x432 with 3 Axes>"
      ]
     },
     "metadata": {
      "needs_background": "light"
     },
     "output_type": "display_data"
    }
   ],
   "source": [
    "sns.jointplot(X_test[:, 0], X_test[:, 1], kind = \"kde\")"
   ]
  },
  {
   "cell_type": "code",
   "execution_count": 53,
   "id": "7b1d5b2f",
   "metadata": {
    "scrolled": false
   },
   "outputs": [
    {
     "name": "stdout",
     "output_type": "stream",
     "text": [
      "KNeighborsClassifier(n_neighbors=3)\n",
      "****************************************************************************************************\n",
      "RadiusNeighborsClassifier(outlier_label='most_frequent', radius=0.8)\n",
      "****************************************************************************************************\n",
      "NearestCentroid()\n",
      "****************************************************************************************************\n",
      "GaussianNB()\n",
      "****************************************************************************************************\n"
     ]
    },
    {
     "data": {
      "text/plain": [
       "[['KNeighborsClassifier',\n",
       "  array([0, 0, 0, 0, 0, 0, 0, 1, 1, 0, 0, 1, 0, 0, 0, 1, 0, 1, 1, 1, 1, 0,\n",
       "         1, 0, 1, 0, 0, 1, 0, 1, 0, 0, 0, 1, 0, 0, 0, 1, 0, 1, 0, 0, 1, 0,\n",
       "         0, 0, 0, 0, 0, 0, 0, 0, 1, 0, 1, 0, 0, 1, 0, 0, 0, 0, 1, 0, 0, 0,\n",
       "         1, 1, 0, 0, 1, 0, 1, 0, 0, 0, 0, 0, 0, 0, 0, 0, 0, 0, 0, 1, 1, 0,\n",
       "         0, 0, 0, 0, 1, 0, 0, 1, 0, 0, 0, 0, 0, 0, 0, 1, 1, 0, 1, 0, 0, 0,\n",
       "         1, 0, 0, 0, 0, 1, 0, 0, 0, 0, 0, 1, 0, 0, 1, 0, 0, 0, 1, 1, 0, 0,\n",
       "         1, 0, 1, 0, 1, 0, 0, 0, 0, 0, 0, 0, 0, 1, 0, 1, 0, 1, 0, 1, 0, 1,\n",
       "         0, 1, 0, 0, 0, 0, 0, 1, 0, 0, 0, 0, 1, 0, 1, 0, 0, 0, 1, 0, 0, 0,\n",
       "         1, 1, 0, 0, 0, 0, 1, 0, 0, 0, 1, 0, 0, 0, 0, 0, 0, 0, 0, 0, 0, 0,\n",
       "         0, 1, 1, 1, 1, 1, 0, 0, 0, 0, 0, 0, 1, 1, 0, 0, 1, 1, 0, 0, 1, 0,\n",
       "         0, 0, 0, 1, 0, 1, 1, 0, 0, 0, 1, 0, 0, 1, 0, 0, 0, 0, 0, 0, 1, 0,\n",
       "         0, 1, 1, 0, 1, 1, 0, 0, 1, 0, 0, 0, 0, 0, 0, 0, 0, 1, 1, 0, 0, 0,\n",
       "         0, 1, 0, 1, 1, 0, 1, 1, 0, 1, 1, 0, 1, 1, 0, 1, 0, 0, 0, 1, 1, 0,\n",
       "         0, 0, 0, 0, 0, 0, 1, 1, 1, 1, 0, 1, 0, 1, 0, 0, 0, 1, 0, 0, 0, 0,\n",
       "         1, 1, 1, 1, 0, 1, 0, 0, 0, 0, 1, 0, 1, 0, 0, 1, 0, 0, 0, 1, 0, 0,\n",
       "         1, 1, 0, 0, 1, 0, 0, 0, 1, 1, 0, 1, 0, 0, 0, 1, 1, 1, 0, 1, 0, 0,\n",
       "         0, 0, 0, 0, 1, 0, 1, 1, 0, 0, 0, 0, 0, 0, 0, 0, 0, 0, 0, 1, 0, 0,\n",
       "         0, 0, 0, 0, 0, 0, 0, 1, 1, 1, 1, 0, 1, 1, 1, 0, 0, 0, 0, 1, 1, 0,\n",
       "         1, 0, 0, 1, 1, 0, 0, 1, 1, 0, 0, 0, 0, 0, 1, 0, 0, 0, 0, 0, 1, 0,\n",
       "         0, 0, 0, 0, 0, 0, 0, 0, 0, 0, 1, 0, 0, 1, 1, 0, 0, 1, 0, 0, 1, 0,\n",
       "         0, 0, 0, 1, 0, 0, 1, 0, 0, 1, 0, 0, 0, 0, 1, 0, 0, 1, 0, 1, 0, 0,\n",
       "         1, 1, 0, 0, 1, 1, 1, 0, 1, 0, 0, 0, 1, 1, 0, 1, 0, 1, 0, 0, 1, 0,\n",
       "         0, 0, 0, 1, 0, 0, 1, 0, 0, 0, 0, 0, 0, 0, 0, 1, 0, 0, 0, 0, 1, 0,\n",
       "         0, 0, 0, 0, 0, 1, 1, 1, 1, 1, 0, 0, 1, 0, 0, 0, 0, 1, 0, 0, 0, 0,\n",
       "         0, 0, 1, 0, 0, 1, 0, 0, 1, 0, 0, 0, 1, 0, 1, 0, 0, 1, 0, 1, 0, 0,\n",
       "         1, 0, 0, 0, 0, 0, 0, 0, 0, 1, 0, 1, 0, 1, 0, 0, 0, 0, 0, 1, 0, 0,\n",
       "         0, 0, 1, 0, 0, 1, 1, 0, 0, 0, 0, 0, 0, 1, 1, 0, 0, 0, 0, 1, 1, 0,\n",
       "         0, 0, 1, 0, 0, 1, 0, 1, 1, 0, 0, 1, 0, 1, 0, 0, 0, 1, 0, 1, 0, 0,\n",
       "         1, 0, 1, 0, 1, 1, 0, 0, 1, 0, 1, 0, 0, 0], dtype=int64)],\n",
       " ['RadiusNeighborsClassifier',\n",
       "  array([0, 0, 0, 1, 0, 0, 0, 1, 1, 0, 0, 1, 0, 0, 0, 1, 0, 1, 1, 1, 1, 0,\n",
       "         1, 0, 1, 0, 0, 0, 0, 1, 0, 0, 0, 1, 0, 0, 0, 0, 0, 1, 0, 0, 0, 0,\n",
       "         0, 0, 0, 0, 0, 0, 0, 0, 1, 0, 1, 0, 0, 1, 0, 0, 0, 0, 0, 0, 0, 0,\n",
       "         1, 1, 0, 0, 1, 0, 1, 0, 0, 0, 0, 0, 0, 0, 0, 0, 0, 0, 0, 1, 0, 0,\n",
       "         0, 0, 0, 0, 1, 0, 0, 1, 0, 0, 0, 0, 0, 0, 0, 1, 1, 0, 1, 0, 0, 0,\n",
       "         1, 0, 0, 0, 0, 0, 0, 0, 0, 0, 0, 1, 0, 0, 0, 1, 0, 0, 1, 1, 0, 0,\n",
       "         1, 0, 1, 0, 0, 0, 0, 0, 0, 0, 0, 0, 0, 1, 0, 1, 0, 1, 0, 1, 0, 0,\n",
       "         0, 1, 0, 0, 0, 0, 0, 1, 0, 0, 0, 0, 1, 0, 0, 0, 0, 0, 1, 1, 0, 0,\n",
       "         1, 1, 0, 0, 0, 0, 0, 0, 0, 0, 1, 0, 0, 0, 0, 0, 0, 0, 0, 0, 0, 0,\n",
       "         0, 1, 1, 0, 1, 1, 0, 0, 0, 0, 0, 0, 0, 0, 0, 0, 1, 1, 0, 0, 1, 0,\n",
       "         0, 0, 0, 1, 0, 1, 1, 0, 0, 0, 1, 0, 0, 1, 0, 0, 0, 0, 0, 0, 1, 0,\n",
       "         0, 1, 1, 0, 1, 1, 0, 0, 1, 0, 0, 0, 0, 0, 0, 0, 0, 1, 1, 0, 0, 0,\n",
       "         0, 0, 0, 1, 0, 0, 0, 1, 0, 1, 1, 0, 1, 1, 0, 0, 0, 0, 0, 1, 1, 0,\n",
       "         0, 0, 0, 0, 0, 0, 1, 1, 1, 1, 0, 1, 0, 1, 0, 0, 0, 1, 0, 0, 1, 0,\n",
       "         0, 0, 0, 1, 0, 1, 0, 0, 0, 0, 0, 0, 1, 0, 0, 0, 0, 0, 0, 0, 0, 0,\n",
       "         1, 1, 0, 0, 1, 0, 0, 0, 1, 1, 0, 1, 0, 0, 0, 0, 1, 1, 0, 0, 0, 0,\n",
       "         0, 0, 0, 0, 1, 0, 1, 1, 0, 0, 0, 0, 0, 0, 0, 0, 0, 0, 0, 1, 0, 0,\n",
       "         0, 0, 0, 0, 0, 0, 0, 1, 1, 0, 1, 0, 1, 1, 1, 0, 0, 0, 0, 1, 1, 0,\n",
       "         0, 0, 0, 1, 1, 0, 0, 1, 1, 0, 0, 0, 0, 0, 1, 0, 0, 0, 0, 0, 1, 0,\n",
       "         0, 0, 0, 0, 0, 0, 0, 0, 0, 0, 1, 0, 0, 1, 1, 0, 0, 0, 0, 0, 1, 0,\n",
       "         0, 0, 0, 0, 0, 0, 1, 0, 0, 0, 0, 0, 0, 0, 1, 0, 0, 1, 0, 1, 0, 0,\n",
       "         0, 1, 0, 0, 1, 1, 1, 0, 1, 0, 0, 0, 0, 1, 0, 1, 0, 1, 0, 0, 0, 0,\n",
       "         0, 0, 0, 0, 0, 0, 1, 0, 0, 0, 0, 0, 0, 0, 0, 0, 0, 0, 0, 0, 1, 0,\n",
       "         0, 0, 0, 0, 0, 1, 1, 0, 0, 1, 0, 0, 1, 0, 0, 0, 0, 1, 0, 0, 0, 0,\n",
       "         0, 0, 1, 0, 0, 1, 0, 0, 1, 0, 0, 0, 1, 0, 1, 0, 0, 0, 0, 1, 0, 0,\n",
       "         1, 0, 1, 0, 0, 0, 0, 0, 0, 1, 0, 0, 0, 1, 0, 0, 0, 0, 0, 0, 0, 0,\n",
       "         0, 0, 1, 0, 0, 0, 0, 0, 0, 0, 0, 0, 0, 1, 0, 0, 0, 0, 0, 1, 1, 0,\n",
       "         0, 0, 1, 0, 0, 0, 0, 1, 0, 0, 0, 0, 0, 1, 0, 0, 0, 1, 0, 1, 0, 0,\n",
       "         1, 0, 1, 0, 1, 1, 0, 0, 1, 0, 0, 0, 0, 0], dtype=int64)],\n",
       " ['NearestCentroid',\n",
       "  array([0, 0, 0, 1, 0, 0, 0, 1, 1, 0, 0, 1, 0, 0, 0, 1, 0, 1, 1, 1, 1, 0,\n",
       "         1, 0, 1, 0, 0, 1, 0, 1, 0, 0, 0, 1, 0, 0, 0, 1, 0, 1, 0, 0, 1, 0,\n",
       "         0, 0, 0, 0, 0, 0, 0, 0, 1, 0, 0, 0, 0, 1, 0, 0, 0, 0, 1, 0, 0, 0,\n",
       "         1, 1, 0, 0, 1, 0, 1, 0, 0, 0, 0, 1, 0, 0, 0, 0, 0, 0, 0, 1, 1, 0,\n",
       "         0, 0, 0, 0, 1, 0, 0, 1, 0, 0, 0, 0, 0, 0, 0, 1, 0, 0, 1, 0, 0, 1,\n",
       "         1, 0, 0, 0, 0, 1, 0, 0, 0, 0, 0, 1, 0, 0, 1, 1, 0, 0, 1, 1, 0, 0,\n",
       "         1, 0, 1, 0, 1, 0, 0, 0, 0, 0, 0, 0, 0, 1, 0, 1, 0, 1, 0, 1, 0, 1,\n",
       "         0, 1, 0, 0, 0, 0, 0, 1, 0, 1, 0, 0, 1, 0, 1, 0, 0, 0, 1, 1, 0, 0,\n",
       "         1, 1, 0, 0, 0, 0, 1, 0, 0, 0, 1, 0, 0, 0, 0, 0, 0, 0, 0, 0, 0, 0,\n",
       "         0, 1, 1, 1, 1, 1, 0, 0, 0, 0, 0, 0, 1, 1, 0, 0, 1, 1, 0, 0, 1, 0,\n",
       "         0, 0, 0, 1, 0, 1, 1, 0, 0, 0, 1, 0, 0, 1, 0, 0, 0, 0, 0, 0, 1, 0,\n",
       "         0, 1, 1, 0, 1, 1, 0, 0, 1, 0, 0, 0, 0, 0, 0, 0, 0, 1, 1, 0, 0, 0,\n",
       "         0, 1, 0, 1, 1, 0, 1, 1, 0, 1, 1, 0, 1, 1, 0, 1, 0, 0, 0, 1, 1, 0,\n",
       "         0, 0, 0, 0, 0, 0, 1, 1, 1, 1, 0, 1, 0, 1, 0, 0, 0, 1, 0, 0, 1, 1,\n",
       "         1, 1, 1, 1, 0, 1, 0, 0, 0, 0, 1, 0, 1, 0, 0, 1, 0, 0, 0, 1, 0, 0,\n",
       "         1, 0, 0, 0, 1, 0, 0, 0, 1, 1, 0, 1, 0, 0, 0, 1, 1, 1, 0, 0, 0, 0,\n",
       "         0, 0, 0, 0, 1, 0, 1, 1, 0, 0, 0, 0, 0, 0, 0, 0, 0, 0, 0, 1, 0, 0,\n",
       "         0, 0, 0, 0, 0, 0, 0, 1, 1, 1, 1, 0, 1, 1, 1, 0, 0, 0, 0, 1, 0, 0,\n",
       "         1, 0, 0, 1, 1, 0, 0, 1, 1, 0, 0, 0, 0, 0, 1, 0, 0, 0, 0, 0, 1, 0,\n",
       "         0, 0, 0, 0, 0, 0, 0, 0, 0, 0, 1, 1, 0, 1, 1, 0, 0, 1, 0, 0, 0, 0,\n",
       "         0, 0, 0, 1, 1, 0, 1, 0, 0, 1, 0, 0, 0, 0, 1, 0, 0, 1, 0, 1, 0, 0,\n",
       "         0, 1, 0, 0, 1, 1, 1, 0, 1, 0, 0, 0, 1, 1, 0, 1, 0, 1, 0, 0, 1, 0,\n",
       "         0, 0, 0, 0, 0, 0, 1, 0, 0, 0, 0, 0, 0, 0, 0, 1, 1, 0, 0, 0, 1, 0,\n",
       "         0, 0, 0, 0, 0, 1, 1, 1, 1, 1, 0, 0, 1, 0, 0, 0, 0, 1, 0, 0, 0, 0,\n",
       "         0, 0, 1, 0, 0, 1, 0, 0, 1, 0, 0, 0, 1, 0, 1, 0, 0, 1, 0, 1, 0, 0,\n",
       "         1, 0, 1, 0, 0, 0, 0, 0, 0, 1, 0, 1, 0, 1, 0, 0, 0, 0, 0, 1, 0, 0,\n",
       "         0, 0, 1, 0, 0, 1, 1, 0, 0, 0, 0, 0, 0, 1, 1, 0, 0, 0, 0, 1, 1, 0,\n",
       "         0, 0, 1, 0, 0, 1, 0, 1, 1, 0, 0, 1, 0, 1, 0, 0, 0, 1, 0, 1, 0, 0,\n",
       "         1, 0, 1, 0, 1, 1, 0, 0, 1, 0, 1, 0, 0, 0], dtype=int64)],\n",
       " ['GaussianNB',\n",
       "  array([0, 0, 0, 1, 0, 0, 0, 1, 1, 0, 0, 1, 0, 0, 0, 1, 0, 1, 1, 1, 1, 0,\n",
       "         1, 0, 1, 0, 0, 1, 0, 1, 0, 0, 0, 1, 0, 0, 0, 1, 0, 1, 0, 0, 1, 0,\n",
       "         0, 0, 0, 1, 0, 1, 0, 0, 1, 0, 1, 0, 0, 1, 0, 0, 0, 0, 1, 0, 0, 0,\n",
       "         1, 1, 0, 0, 1, 0, 1, 0, 0, 0, 0, 1, 0, 0, 0, 0, 0, 0, 0, 1, 1, 0,\n",
       "         0, 0, 0, 0, 1, 0, 0, 1, 0, 0, 0, 0, 0, 0, 0, 1, 1, 0, 1, 0, 0, 1,\n",
       "         1, 0, 0, 0, 0, 1, 0, 0, 0, 0, 0, 1, 0, 0, 1, 1, 0, 0, 1, 1, 0, 0,\n",
       "         1, 0, 1, 0, 1, 0, 0, 0, 0, 0, 0, 0, 0, 1, 0, 1, 0, 1, 0, 1, 0, 1,\n",
       "         0, 1, 0, 0, 0, 0, 0, 1, 0, 1, 0, 0, 1, 0, 1, 0, 0, 0, 1, 1, 0, 1,\n",
       "         1, 1, 0, 0, 0, 0, 1, 0, 0, 0, 1, 0, 0, 0, 0, 0, 0, 0, 0, 0, 0, 0,\n",
       "         1, 1, 1, 1, 1, 1, 0, 0, 0, 0, 0, 0, 1, 1, 0, 0, 1, 1, 0, 0, 1, 0,\n",
       "         0, 0, 0, 1, 1, 1, 1, 0, 0, 0, 1, 0, 0, 1, 0, 0, 0, 0, 0, 0, 1, 0,\n",
       "         0, 1, 1, 0, 1, 1, 0, 0, 1, 0, 0, 0, 0, 0, 0, 0, 0, 1, 1, 0, 0, 0,\n",
       "         0, 1, 0, 1, 1, 0, 1, 1, 0, 1, 1, 0, 1, 1, 0, 1, 0, 0, 0, 1, 1, 0,\n",
       "         0, 0, 0, 0, 0, 0, 1, 1, 1, 1, 0, 1, 0, 1, 0, 0, 0, 1, 0, 0, 1, 1,\n",
       "         1, 1, 1, 1, 0, 1, 0, 0, 0, 1, 1, 0, 1, 0, 0, 1, 0, 0, 0, 1, 0, 0,\n",
       "         1, 1, 0, 0, 1, 0, 0, 0, 1, 1, 0, 1, 0, 0, 0, 1, 1, 1, 0, 1, 0, 0,\n",
       "         0, 0, 0, 0, 1, 0, 1, 1, 0, 0, 0, 0, 0, 0, 0, 0, 0, 0, 0, 1, 0, 0,\n",
       "         0, 0, 0, 0, 0, 0, 0, 1, 1, 1, 1, 0, 1, 1, 1, 0, 0, 0, 0, 1, 1, 0,\n",
       "         1, 0, 0, 1, 1, 0, 0, 1, 1, 0, 0, 0, 0, 0, 1, 0, 0, 0, 0, 0, 1, 0,\n",
       "         0, 0, 0, 0, 0, 0, 0, 0, 0, 0, 1, 1, 0, 1, 1, 0, 1, 1, 0, 0, 1, 0,\n",
       "         0, 0, 0, 1, 1, 0, 1, 0, 0, 1, 0, 0, 1, 0, 1, 0, 0, 1, 0, 1, 0, 0,\n",
       "         1, 1, 0, 0, 1, 1, 1, 0, 1, 0, 0, 0, 1, 1, 0, 1, 0, 1, 0, 0, 1, 0,\n",
       "         0, 0, 1, 1, 0, 0, 1, 0, 0, 0, 0, 0, 1, 0, 0, 1, 1, 0, 0, 0, 1, 0,\n",
       "         0, 0, 0, 0, 0, 1, 1, 1, 1, 1, 0, 0, 1, 0, 0, 0, 0, 1, 0, 0, 0, 0,\n",
       "         0, 0, 1, 0, 0, 1, 0, 0, 1, 1, 0, 0, 1, 0, 1, 0, 0, 1, 0, 1, 0, 0,\n",
       "         1, 0, 1, 0, 0, 0, 0, 0, 0, 1, 0, 1, 0, 1, 0, 0, 0, 0, 0, 1, 1, 0,\n",
       "         0, 0, 1, 0, 0, 1, 1, 0, 0, 0, 0, 0, 0, 1, 1, 0, 0, 0, 0, 1, 1, 0,\n",
       "         0, 0, 1, 0, 0, 1, 0, 1, 1, 0, 0, 1, 0, 1, 0, 0, 0, 1, 0, 1, 0, 0,\n",
       "         1, 0, 1, 0, 1, 1, 0, 0, 1, 0, 1, 0, 0, 0], dtype=int64)]]"
      ]
     },
     "execution_count": 53,
     "metadata": {},
     "output_type": "execute_result"
    }
   ],
   "source": [
    "# Modelo\n",
    "\n",
    "lista_clasificadores = [KNeighborsClassifier(n_neighbors = 3),\n",
    "                        RadiusNeighborsClassifier(radius = 0.8, outlier_label = \"most_frequent\"),\n",
    "                        NearestCentroid(metric = \"euclidean\"), GaussianNB()]\n",
    "\n",
    "lista_yhat = list()\n",
    "\n",
    "for clasificador in lista_clasificadores:\n",
    "    print(clasificador)\n",
    "    \n",
    "    clasificador.fit(X_train, y_train)\n",
    "\n",
    "    yhat = clasificador.predict(X_test)\n",
    "    \n",
    "    lista_yhat.append([str(clasificador).split(\"(\")[0], yhat])\n",
    "\n",
    "    print(\"*\"*100)\n",
    "    \n",
    "lista_yhat"
   ]
  },
  {
   "cell_type": "code",
   "execution_count": 54,
   "id": "bf3df552",
   "metadata": {},
   "outputs": [
    {
     "name": "stdout",
     "output_type": "stream",
     "text": [
      "KNeighborsClassifier\n",
      "Jaccard Index: 0.9050358228957269\n",
      "Accuracy: 0.9555555555555556\n",
      "Precisión: 0.959433601224646\n",
      "Sensibilidad: 0.9420448332422089\n",
      "F1-score: 0.9498800986486946\n",
      "ROC AUC: 0.9420448332422088\n",
      "Confusion Matrix:\n",
      " [[407   6]\n",
      " [ 22 195]]\n",
      "Classification Report:\n",
      "               precision    recall  f1-score   support\n",
      "\n",
      "           0      0.949     0.985     0.967       413\n",
      "           1      0.970     0.899     0.933       217\n",
      "\n",
      "    accuracy                          0.956       630\n",
      "   macro avg      0.959     0.942     0.950       630\n",
      "weighted avg      0.956     0.956     0.955       630\n",
      "\n",
      "****************************************************************************************************\n",
      "RadiusNeighborsClassifier\n",
      "Jaccard Index: 0.7665393924611141\n",
      "Accuracy: 0.8873015873015873\n",
      "Precisión: 0.9121567260244583\n",
      "Sensibilidad: 0.8429664922283839\n",
      "F1-score: 0.8652203389830508\n",
      "ROC AUC: 0.8429664922283839\n",
      "Confusion Matrix:\n",
      " [[407   6]\n",
      " [ 65 152]]\n",
      "Classification Report:\n",
      "               precision    recall  f1-score   support\n",
      "\n",
      "           0      0.862     0.985     0.920       413\n",
      "           1      0.962     0.700     0.811       217\n",
      "\n",
      "    accuracy                          0.887       630\n",
      "   macro avg      0.912     0.843     0.865       630\n",
      "weighted avg      0.897     0.887     0.882       630\n",
      "\n",
      "****************************************************************************************************\n",
      "NearestCentroid\n",
      "Jaccard Index: 0.911871693121693\n",
      "Accuracy: 0.9587301587301588\n",
      "Precisión: 0.9605738880918221\n",
      "Sensibilidad: 0.9477466218854956\n",
      "F1-score: 0.9536811863045618\n",
      "ROC AUC: 0.9477466218854956\n",
      "Confusion Matrix:\n",
      " [[406   7]\n",
      " [ 19 198]]\n",
      "Classification Report:\n",
      "               precision    recall  f1-score   support\n",
      "\n",
      "           0      0.955     0.983     0.969       413\n",
      "           1      0.966     0.912     0.938       217\n",
      "\n",
      "    accuracy                          0.959       630\n",
      "   macro avg      0.961     0.948     0.954       630\n",
      "weighted avg      0.959     0.959     0.958       630\n",
      "\n",
      "****************************************************************************************************\n",
      "GaussianNB\n",
      "Jaccard Index: 0.9263957307060755\n",
      "Accuracy: 0.9650793650793651\n",
      "Precisión: 0.9580246913580247\n",
      "Sensibilidad: 0.9657111614465359\n",
      "F1-score: 0.9616656894091096\n",
      "ROC AUC: 0.9657111614465359\n",
      "Confusion Matrix:\n",
      " [[398  15]\n",
      " [  7 210]]\n",
      "Classification Report:\n",
      "               precision    recall  f1-score   support\n",
      "\n",
      "           0      0.983     0.964     0.973       413\n",
      "           1      0.933     0.968     0.950       217\n",
      "\n",
      "    accuracy                          0.965       630\n",
      "   macro avg      0.958     0.966     0.962       630\n",
      "weighted avg      0.966     0.965     0.965       630\n",
      "\n",
      "****************************************************************************************************\n"
     ]
    }
   ],
   "source": [
    "for nombre, yhat in lista_yhat:\n",
    "    print(nombre)\n",
    "    print(\"Jaccard Index:\", jaccard_score(y_test, yhat, average = \"macro\"))\n",
    "    print(\"Accuracy:\"     , accuracy_score(y_test, yhat))\n",
    "    print(\"Precisión:\"    , precision_score(y_test, yhat, average = \"macro\"))\n",
    "    print(\"Sensibilidad:\" , recall_score(y_test, yhat, average = \"macro\"))\n",
    "    print(\"F1-score:\"     , f1_score(y_test, yhat, average = \"macro\"))\n",
    "    print(\"ROC AUC:\", roc_auc_score(y_test, yhat))\n",
    "    print(\"Confusion Matrix:\\n\", confusion_matrix(y_test, yhat, labels = [0, 1]))\n",
    "    print(\"Classification Report:\\n\", classification_report(y_test, yhat, digits = 3))\n",
    "    print(\"*\"*100)"
   ]
  },
  {
   "cell_type": "code",
   "execution_count": null,
   "id": "aec027ba",
   "metadata": {},
   "outputs": [],
   "source": []
  },
  {
   "cell_type": "code",
   "execution_count": 37,
   "id": "5744e48e",
   "metadata": {},
   "outputs": [
    {
     "name": "stdout",
     "output_type": "stream",
     "text": [
      "k: 1, ROC AUC. 0.9447343701075044\n",
      "k: 2, ROC AUC. 0.9034547542010228\n",
      "k: 3, ROC AUC. 0.9706189333055005\n",
      "k: 4, ROC AUC. 0.9556935601711722\n",
      "k: 5, ROC AUC. 0.9706189333055005\n",
      "k: 6, ROC AUC. 0.9556935601711722\n",
      "k: 7, ROC AUC. 0.9631562467383363\n",
      "k: 8, ROC AUC. 0.9556935601711722\n",
      "k: 9, ROC AUC. 0.9631562467383363\n",
      "k: 10, ROC AUC. 0.9631562467383363\n",
      "k: 11, ROC AUC. 0.9631562467383363\n",
      "k: 12, ROC AUC. 0.9666527502348399\n",
      "k: 13, ROC AUC. 0.9666527502348399\n",
      "k: 14, ROC AUC. 0.9666527502348399\n",
      "k: 15, ROC AUC. 0.9666527502348399\n",
      "k: 16, ROC AUC. 0.9666527502348399\n",
      "k: 17, ROC AUC. 0.9741154368020041\n",
      "k: 18, ROC AUC. 0.9591900636676757\n",
      "k: 19, ROC AUC. 0.9556935601711722\n",
      "k: 20, ROC AUC. 0.9556935601711722\n",
      "k: 21, ROC AUC. 0.9556935601711722\n",
      "k: 22, ROC AUC. 0.9556935601711722\n",
      "k: 23, ROC AUC. 0.9556935601711722\n",
      "k: 24, ROC AUC. 0.9556935601711722\n",
      "k: 25, ROC AUC. 0.9556935601711722\n",
      "k: 26, ROC AUC. 0.9556935601711722\n",
      "k: 27, ROC AUC. 0.9556935601711722\n",
      "k: 28, ROC AUC. 0.9556935601711722\n",
      "k: 29, ROC AUC. 0.9556935601711722\n",
      "k: 30, ROC AUC. 0.9556935601711722\n",
      "k: 31, ROC AUC. 0.9556935601711722\n",
      "k: 32, ROC AUC. 0.9556935601711722\n",
      "k: 33, ROC AUC. 0.9556935601711722\n",
      "k: 34, ROC AUC. 0.948230873604008\n",
      "k: 35, ROC AUC. 0.948230873604008\n",
      "k: 36, ROC AUC. 0.948230873604008\n",
      "k: 37, ROC AUC. 0.948230873604008\n",
      "k: 38, ROC AUC. 0.948230873604008\n",
      "k: 39, ROC AUC. 0.948230873604008\n",
      "k: 40, ROC AUC. 0.948230873604008\n",
      "k: 41, ROC AUC. 0.948230873604008\n",
      "k: 42, ROC AUC. 0.948230873604008\n",
      "k: 43, ROC AUC. 0.948230873604008\n",
      "k: 44, ROC AUC. 0.948230873604008\n",
      "k: 45, ROC AUC. 0.948230873604008\n",
      "k: 46, ROC AUC. 0.9407681870368437\n",
      "k: 47, ROC AUC. 0.948230873604008\n",
      "k: 48, ROC AUC. 0.948230873604008\n",
      "k: 49, ROC AUC. 0.948230873604008\n",
      "k: 50, ROC AUC. 0.9407681870368437\n",
      "k: 51, ROC AUC. 0.9407681870368437\n",
      "k: 52, ROC AUC. 0.9407681870368437\n",
      "k: 53, ROC AUC. 0.9407681870368437\n",
      "k: 54, ROC AUC. 0.9407681870368437\n",
      "k: 55, ROC AUC. 0.9407681870368437\n",
      "k: 56, ROC AUC. 0.9407681870368437\n",
      "k: 57, ROC AUC. 0.9407681870368437\n",
      "k: 58, ROC AUC. 0.9407681870368437\n",
      "k: 59, ROC AUC. 0.9407681870368437\n",
      "k: 60, ROC AUC. 0.9407681870368437\n",
      "k: 61, ROC AUC. 0.9407681870368437\n",
      "k: 62, ROC AUC. 0.9407681870368437\n",
      "k: 63, ROC AUC. 0.9407681870368437\n",
      "k: 64, ROC AUC. 0.9407681870368437\n",
      "k: 65, ROC AUC. 0.9407681870368437\n",
      "k: 66, ROC AUC. 0.9407681870368437\n",
      "k: 67, ROC AUC. 0.9407681870368437\n",
      "k: 68, ROC AUC. 0.9407681870368437\n",
      "k: 69, ROC AUC. 0.9407681870368437\n",
      "k: 70, ROC AUC. 0.9442646905333473\n",
      "k: 71, ROC AUC. 0.9442646905333473\n",
      "k: 72, ROC AUC. 0.9442646905333473\n",
      "k: 73, ROC AUC. 0.9442646905333473\n",
      "k: 74, ROC AUC. 0.9442646905333473\n",
      "k: 75, ROC AUC. 0.9442646905333473\n",
      "k: 76, ROC AUC. 0.9442646905333473\n",
      "k: 77, ROC AUC. 0.9442646905333473\n",
      "k: 78, ROC AUC. 0.9442646905333473\n",
      "k: 79, ROC AUC. 0.9442646905333473\n",
      "k: 80, ROC AUC. 0.9442646905333473\n",
      "k: 81, ROC AUC. 0.9442646905333473\n",
      "k: 82, ROC AUC. 0.9442646905333473\n",
      "k: 83, ROC AUC. 0.9442646905333473\n",
      "k: 84, ROC AUC. 0.9442646905333473\n",
      "k: 85, ROC AUC. 0.9442646905333473\n",
      "k: 86, ROC AUC. 0.9442646905333473\n",
      "k: 87, ROC AUC. 0.9442646905333473\n",
      "k: 88, ROC AUC. 0.9442646905333473\n",
      "k: 89, ROC AUC. 0.9442646905333473\n",
      "k: 90, ROC AUC. 0.9442646905333473\n",
      "k: 91, ROC AUC. 0.9442646905333473\n",
      "k: 92, ROC AUC. 0.9442646905333473\n",
      "k: 93, ROC AUC. 0.9442646905333473\n",
      "k: 94, ROC AUC. 0.9442646905333473\n",
      "k: 95, ROC AUC. 0.9442646905333473\n",
      "k: 96, ROC AUC. 0.9442646905333473\n",
      "k: 97, ROC AUC. 0.9442646905333473\n",
      "k: 98, ROC AUC. 0.9442646905333473\n",
      "k: 99, ROC AUC. 0.9442646905333473\n"
     ]
    }
   ],
   "source": [
    "list_roc_auc = list()\n",
    "\n",
    "for k in range(1, 100):\n",
    "    \n",
    "    # Modelo\n",
    "    model = KNeighborsClassifier(n_neighbors = k)\n",
    "    model.fit(X_train, y_train)\n",
    "    \n",
    "    # Predicciones\n",
    "    yhat = model.predict(X_test)\n",
    "    \n",
    "    # Metricas\n",
    "    roc_auc = roc_auc_score(y_test, yhat)\n",
    "    list_roc_auc.append([k, roc_auc])\n",
    "    \n",
    "    print(f\"k: {k}, ROC AUC. {roc_auc}\")"
   ]
  },
  {
   "cell_type": "code",
   "execution_count": 38,
   "id": "ac08ed77",
   "metadata": {},
   "outputs": [
    {
     "data": {
      "image/png": "[encoded data removed]",
      "text/plain": [
       "<Figure size 720x504 with 1 Axes>"
      ]
     },
     "metadata": {
      "needs_background": "light"
     },
     "output_type": "display_data"
    }
   ],
   "source": [
    "list_roc_auc = np.array(list_roc_auc)\n",
    "\n",
    "plt.figure(figsize = (10, 7))\n",
    "\n",
    "plt.plot(list_roc_auc[:, 1])\n",
    "\n",
    "plt.ylabel(\"ROC AUC\")\n",
    "plt.xlabel(\"Number of Neighbors (K)\")\n",
    "\n",
    "plt.show()"
   ]
  },
  {
   "cell_type": "code",
   "execution_count": 57,
   "id": "25a4fb5c",
   "metadata": {},
   "outputs": [
    {
     "data": {
      "text/plain": [
       "16"
      ]
     },
     "execution_count": 57,
     "metadata": {},
     "output_type": "execute_result"
    }
   ],
   "source": [
    "np.argmax(list_roc_auc[:, 1])"
   ]
  },
  {
   "cell_type": "code",
   "execution_count": 58,
   "id": "fbc112dc",
   "metadata": {},
   "outputs": [
    {
     "data": {
      "text/plain": [
       "array([17.        ,  0.97411544])"
      ]
     },
     "execution_count": 58,
     "metadata": {},
     "output_type": "execute_result"
    }
   ],
   "source": [
    "list_roc_auc[16]"
   ]
  },
  {
   "cell_type": "code",
   "execution_count": null,
   "id": "1db8e326",
   "metadata": {},
   "outputs": [],
   "source": []
  },
  {
   "cell_type": "code",
   "execution_count": null,
   "id": "f75a52a4",
   "metadata": {},
   "outputs": [],
   "source": [
    "model = KNeighborsClassifier(n_neighbors = 3)\n",
    "model.fit(X_train, y_train)\n",
    "\n",
    "yhat = model.predict(X_test)\n",
    "yhat"
   ]
  },
  {
   "cell_type": "code",
   "execution_count": null,
   "id": "8865a19d",
   "metadata": {},
   "outputs": [],
   "source": [
    "model = RadiusNeighborsClassifier(radius = 0.5)\n",
    "model.fit(X_train, y_train)\n",
    "\n",
    "yhat = model.predict(X_test)\n",
    "yhat"
   ]
  },
  {
   "cell_type": "code",
   "execution_count": null,
   "id": "04d553cc",
   "metadata": {},
   "outputs": [],
   "source": [
    "model = NearestCentroid(metric = \"euclidean\") #por defecto, es euclidiana\n",
    "model.fit(X_train, y_train)\n",
    "\n",
    "yhat = model.predict(X_test)\n",
    "yhat"
   ]
  },
  {
   "cell_type": "code",
   "execution_count": null,
   "id": "8e4c5498",
   "metadata": {},
   "outputs": [],
   "source": [
    "model = GaussianNB()\n",
    "model.fit(X_train, y_train)\n",
    "\n",
    "yhat = model.predict(X_test)\n",
    "yhat"
   ]
  },
  {
   "cell_type": "code",
   "execution_count": null,
   "id": "3e14ef60",
   "metadata": {},
   "outputs": [],
   "source": []
  }
 ],
 "metadata": {
  "kernelspec": {
   "display_name": "Python 3 (ipykernel)",
   "language": "python",
   "name": "python3"
  },
  "language_info": {
   "codemirror_mode": {
    "name": "ipython",
    "version": 3
   },
   "file_extension": ".py",
   "mimetype": "text/x-python",
   "name": "python",
   "nbconvert_exporter": "python",
   "pygments_lexer": "ipython3",
   "version": "3.9.7"
  }
 },
 "nbformat": 4,
 "nbformat_minor": 5
}
