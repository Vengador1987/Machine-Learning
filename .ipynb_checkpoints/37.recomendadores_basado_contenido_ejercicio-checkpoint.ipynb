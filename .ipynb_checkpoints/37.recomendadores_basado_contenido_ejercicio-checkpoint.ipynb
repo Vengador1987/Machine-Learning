{
 "cells": [
  {
   "cell_type": "markdown",
   "id": "afedaf33",
   "metadata": {},
   "source": [
    "## Recomendador: Basado en Contenido Ejercicio\n",
    "\n",
    "Utilizado el dataset **`movies.csv`**, realiza un algoritmo de recomendación basado en contenido para la información dada por **`usuario_input`**.\n",
    "\n",
    "Haz preprocesamiento para el nombre de las peliculas y utiliza la columna **`genres`** para descomponer las peliculas en sus categorias."
   ]
  },
  {
   "cell_type": "code",
   "execution_count": null,
   "id": "9d66eb9a",
   "metadata": {},
   "outputs": [],
   "source": [
    "import numpy as np\n",
    "import pandas as pd"
   ]
  },
  {
   "cell_type": "code",
   "execution_count": null,
   "id": "9fb9d9bc",
   "metadata": {},
   "outputs": [],
   "source": [
    "df = pd.read_csv(\"movies.csv\")\n",
    "\n",
    "df"
   ]
  },
  {
   "cell_type": "code",
   "execution_count": null,
   "id": "6e0ebc64",
   "metadata": {},
   "outputs": [],
   "source": [
    "usuario_input = [{\"title\" : \"Breakfast Club, The\", \"rating\" : 5  },\n",
    "                 {\"title\" : \"Toy Story\"          , \"rating\" : 3.5},\n",
    "                 {\"title\" : \"Jumanji\"            , \"rating\" : 2  },\n",
    "                 {\"title\" : \"Pulp Fiction\"       , \"rating\" : 5  },\n",
    "                 {\"title\" : \"Akira\"              , \"rating\" : 4.5}]    \n",
    "\n",
    "usuario_input"
   ]
  },
  {
   "cell_type": "code",
   "execution_count": null,
   "id": "005d2748",
   "metadata": {},
   "outputs": [],
   "source": []
  },
  {
   "cell_type": "code",
   "execution_count": null,
   "id": "48729ade",
   "metadata": {},
   "outputs": [],
   "source": []
  },
  {
   "cell_type": "code",
   "execution_count": null,
   "id": "26ec82e9",
   "metadata": {},
   "outputs": [],
   "source": []
  },
  {
   "cell_type": "code",
   "execution_count": null,
   "id": "1fef032a",
   "metadata": {},
   "outputs": [],
   "source": []
  },
  {
   "cell_type": "code",
   "execution_count": null,
   "id": "304a80ec",
   "metadata": {},
   "outputs": [],
   "source": []
  },
  {
   "cell_type": "code",
   "execution_count": null,
   "id": "e579725b",
   "metadata": {},
   "outputs": [],
   "source": []
  }
 ],
 "metadata": {
  "kernelspec": {
   "display_name": "Python 3 (ipykernel)",
   "language": "python",
   "name": "python3"
  },
  "language_info": {
   "codemirror_mode": {
    "name": "ipython",
    "version": 3
   },
   "file_extension": ".py",
   "mimetype": "text/x-python",
   "name": "python",
   "nbconvert_exporter": "python",
   "pygments_lexer": "ipython3",
   "version": "3.9.7"
  }
 },
 "nbformat": 4,
 "nbformat_minor": 5
}
