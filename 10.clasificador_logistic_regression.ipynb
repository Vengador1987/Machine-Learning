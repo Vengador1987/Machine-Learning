{
 "cells": [
  {
   "cell_type": "markdown",
   "id": "999f6a7a",
   "metadata": {},
   "source": [
    "## Logistic Regression (Regressión Logística)\n",
    "\n",
    "La regresión logística es una técnica estadística y de machine learning que se utiliza para clasificar datos, mientras que las regresiones lineale buscan predecir una variable continua **la regresión logística se enfoca en predecir la clase de una variable categorica.**\n",
    "\n",
    "Por lo tanto forma parte de los modelos de clasificación. Es sencillo de implementar, tiene buen rendimiento cuando las clases son linealmente separables, trabaja mejor con clases binarias y es un modelo probabilístico. \n",
    "\n",
    "**La regresión lógistica mide la probabilidad de que un patrón pertenezca a una clase u otra.**"
   ]
  },
  {
   "attachments": {
    "ml_16.png": {
     "image/png": "[encoded data removed]"
    }
   },
   "cell_type": "markdown",
   "id": "a0e03ec3",
   "metadata": {},
   "source": [
    "### Función Logistica (Sigmoid)\n",
    "\n",
    "La función logistica, también conocida como **función sigmoidal** (o Sigmoid en inglés) es la función que le da nombre a este clasificador.\n",
    "\n",
    "Ésta función se define de la siguiente forma:\n",
    "\n",
    "$$sigmoid(x) = \\frac{1}{1 + e^{-x}}$$\n",
    "\n",
    "Otra forma de definar la función:\n",
    "\n",
    "$$sigmoid(x) = \\frac{e^{x}}{e^{x} + 1}$$\n",
    "\n",
    "Gráfica de la función sigmoidal:\n",
    "![ml_16.png](attachment:ml_16.png)\n",
    "\n",
    "\n",
    "**La función sigmoidal mostrada arriba es la que se usaría si tuviesemos un modelo de una sola característica (atributo).**\n",
    "\n",
    "Para **modelos multilineales** el valor de **$x$ será sustituido por una función que se ajuste mejor a los datos de entrenamiento**, dando de esta forma una **variante de la función sigmoidal**, en otras palabras, estaríamos hablando de una función sigmoidal donde **$x$ pasa a ser una función de n-variables (una por cada atributo o columna)**, similar a lo que sucede con las **Regresiones Lineales**.\n",
    "\n",
    "Para estos casos, la función sigmoidal sería: \n",
    "\n",
    "$$sigmoid(x) = \\frac{1}{1 + e^{-(w_{0}*x_{0} + w_{1}*x_{1}+...+w_{n})}}$$\n",
    "\n",
    "\n",
    "\n",
    "**$x$ pasa a ser una ecuación lineal resultado de una regresion lineal que se ajusta lo mejor posible a los datos.**\n",
    "\n",
    "- El **dominio de esta función son todos los números reales** y el rango o **codominio son los valores entre 0 y 1**, sin incluirlos, es decir, **nunca llegan a ser 0 o 1**.\n",
    "\n",
    "\n",
    "- La idea detrás de este clasificador es **\"transformar\"** cada instancia del conjunto de entrenamiento **usando la función sigmoidal**, dando como **resultado un número entre 0 y 1**. Dependiendo del resultado, el clasificador asignará una clase a cada instancia. **Si el resultado es < 0.5 el clasificador lo asignará a la clase 0, si el resultado es > 0.5 el clasificador lo asignará a la clase 1**.\n",
    "\n",
    "\n",
    "- **La regresión logística es un algoritmo lineal** (con una transformación no lineal en la salida). **Asume una relación lineal entre las variables de entrada con la salida.** Las transformaciones de datos de sus variables de entrada que exponen mejor esta relación lineal pueden dar como **resultado un modelo más preciso**. Por ejemplo, puede usar **log, sqrt, Box-Cox y otras transformaciones** univariadas para exponer mejor esta relación.\n",
    "\n",
    "\n",
    "- **El modelo puede sobreajustarse (overfitting)** si tiene varias características (atributos) altamente correlacionados. Podemos considerar eliminar las carácterísticas (atributos) altamente correlacionadas.\n",
    "\n",
    "\n",
    "- **Es posible que el proceso de estimación de probabilidad esperada que aprende los coeficientes no converja**. Esto puede suceder si hay muchas características altamente correlacionadas o tenemos una matriz **\"sparse\"** (una matriz con muchos ceros).\n",
    "\n",
    "\n",
    "_**Documentacion:** https://scikit-learn.org/stable/modules/generated/sklearn.linear_model.LogisticRegression.html_"
   ]
  },
  {
   "cell_type": "code",
   "execution_count": 54,
   "id": "b01645c8",
   "metadata": {},
   "outputs": [],
   "source": [
    "import numpy as np\n",
    "import pandas as pd\n",
    "import matplotlib.pyplot as plt\n",
    "import seaborn as sns\n",
    "\n",
    "from sklearn import datasets\n",
    "\n",
    "# Normalizacion\n",
    "from sklearn.preprocessing import MinMaxScaler\n",
    "\n",
    "# Train, Test\n",
    "from sklearn.model_selection import train_test_split\n",
    "\n",
    "# Metricas\n",
    "from sklearn.metrics import jaccard_score\n",
    "from sklearn.metrics import accuracy_score\n",
    "from sklearn.metrics import precision_score\n",
    "from sklearn.metrics import recall_score\n",
    "from sklearn.metrics import f1_score\n",
    "from sklearn.metrics import roc_auc_score\n",
    "\n",
    "from sklearn.metrics import confusion_matrix\n",
    "from sklearn.metrics import classification_report"
   ]
  },
  {
   "cell_type": "code",
   "execution_count": 55,
   "id": "31e886bc",
   "metadata": {},
   "outputs": [],
   "source": [
    "iris = datasets.load_iris()\n",
    "X = iris.data[:100, :2]\n",
    "y = iris.target[:100]\n",
    "\n",
    "# En esta ocasión vamos a quedarnos con las primeras 2 clases"
   ]
  },
  {
   "cell_type": "code",
   "execution_count": 56,
   "id": "ce6371b9",
   "metadata": {},
   "outputs": [
    {
     "data": {
      "text/plain": [
       "((100, 2), (100,))"
      ]
     },
     "execution_count": 56,
     "metadata": {},
     "output_type": "execute_result"
    }
   ],
   "source": [
    "X.shape, y.shape"
   ]
  },
  {
   "cell_type": "markdown",
   "id": "f6aedd71",
   "metadata": {},
   "source": [
    "### Preprocesamiento"
   ]
  },
  {
   "cell_type": "code",
   "execution_count": 57,
   "id": "7fa4861c",
   "metadata": {
    "scrolled": true
   },
   "outputs": [
    {
     "data": {
      "text/plain": [
       "array([[0.2962963 , 0.625     ],\n",
       "       [0.22222222, 0.41666667],\n",
       "       [0.14814815, 0.5       ],\n",
       "       [0.11111111, 0.45833333],\n",
       "       [0.25925926, 0.66666667],\n",
       "       [0.40740741, 0.79166667],\n",
       "       [0.11111111, 0.58333333],\n",
       "       [0.25925926, 0.58333333],\n",
       "       [0.03703704, 0.375     ],\n",
       "       [0.22222222, 0.45833333],\n",
       "       [0.40740741, 0.70833333],\n",
       "       [0.18518519, 0.58333333],\n",
       "       [0.18518519, 0.41666667],\n",
       "       [0.        , 0.41666667],\n",
       "       [0.55555556, 0.83333333],\n",
       "       [0.51851852, 1.        ],\n",
       "       [0.40740741, 0.79166667],\n",
       "       [0.2962963 , 0.625     ],\n",
       "       [0.51851852, 0.75      ],\n",
       "       [0.2962963 , 0.75      ],\n",
       "       [0.40740741, 0.58333333],\n",
       "       [0.2962963 , 0.70833333],\n",
       "       [0.11111111, 0.66666667],\n",
       "       [0.2962963 , 0.54166667],\n",
       "       [0.18518519, 0.58333333],\n",
       "       [0.25925926, 0.41666667],\n",
       "       [0.25925926, 0.58333333],\n",
       "       [0.33333333, 0.625     ],\n",
       "       [0.33333333, 0.58333333],\n",
       "       [0.14814815, 0.5       ],\n",
       "       [0.18518519, 0.45833333],\n",
       "       [0.40740741, 0.58333333],\n",
       "       [0.33333333, 0.875     ],\n",
       "       [0.44444444, 0.91666667],\n",
       "       [0.22222222, 0.45833333],\n",
       "       [0.25925926, 0.5       ],\n",
       "       [0.44444444, 0.625     ],\n",
       "       [0.22222222, 0.66666667],\n",
       "       [0.03703704, 0.41666667],\n",
       "       [0.2962963 , 0.58333333],\n",
       "       [0.25925926, 0.625     ],\n",
       "       [0.07407407, 0.125     ],\n",
       "       [0.03703704, 0.5       ],\n",
       "       [0.25925926, 0.625     ],\n",
       "       [0.2962963 , 0.75      ],\n",
       "       [0.18518519, 0.41666667],\n",
       "       [0.2962963 , 0.75      ],\n",
       "       [0.11111111, 0.5       ],\n",
       "       [0.37037037, 0.70833333],\n",
       "       [0.25925926, 0.54166667],\n",
       "       [1.        , 0.5       ],\n",
       "       [0.77777778, 0.5       ],\n",
       "       [0.96296296, 0.45833333],\n",
       "       [0.44444444, 0.125     ],\n",
       "       [0.81481481, 0.33333333],\n",
       "       [0.51851852, 0.33333333],\n",
       "       [0.74074074, 0.54166667],\n",
       "       [0.22222222, 0.16666667],\n",
       "       [0.85185185, 0.375     ],\n",
       "       [0.33333333, 0.29166667],\n",
       "       [0.25925926, 0.        ],\n",
       "       [0.59259259, 0.41666667],\n",
       "       [0.62962963, 0.08333333],\n",
       "       [0.66666667, 0.375     ],\n",
       "       [0.48148148, 0.375     ],\n",
       "       [0.88888889, 0.45833333],\n",
       "       [0.48148148, 0.41666667],\n",
       "       [0.55555556, 0.29166667],\n",
       "       [0.7037037 , 0.08333333],\n",
       "       [0.48148148, 0.20833333],\n",
       "       [0.59259259, 0.5       ],\n",
       "       [0.66666667, 0.33333333],\n",
       "       [0.74074074, 0.20833333],\n",
       "       [0.66666667, 0.33333333],\n",
       "       [0.77777778, 0.375     ],\n",
       "       [0.85185185, 0.41666667],\n",
       "       [0.92592593, 0.33333333],\n",
       "       [0.88888889, 0.41666667],\n",
       "       [0.62962963, 0.375     ],\n",
       "       [0.51851852, 0.25      ],\n",
       "       [0.44444444, 0.16666667],\n",
       "       [0.44444444, 0.16666667],\n",
       "       [0.55555556, 0.29166667],\n",
       "       [0.62962963, 0.29166667],\n",
       "       [0.40740741, 0.41666667],\n",
       "       [0.62962963, 0.58333333],\n",
       "       [0.88888889, 0.45833333],\n",
       "       [0.74074074, 0.125     ],\n",
       "       [0.48148148, 0.41666667],\n",
       "       [0.44444444, 0.20833333],\n",
       "       [0.44444444, 0.25      ],\n",
       "       [0.66666667, 0.41666667],\n",
       "       [0.55555556, 0.25      ],\n",
       "       [0.25925926, 0.125     ],\n",
       "       [0.48148148, 0.29166667],\n",
       "       [0.51851852, 0.41666667],\n",
       "       [0.51851852, 0.375     ],\n",
       "       [0.7037037 , 0.375     ],\n",
       "       [0.2962963 , 0.20833333],\n",
       "       [0.51851852, 0.33333333]])"
      ]
     },
     "execution_count": 57,
     "metadata": {},
     "output_type": "execute_result"
    }
   ],
   "source": [
    "# Normalización de datos\n",
    "\n",
    "x_scaler = MinMaxScaler()\n",
    "X = x_scaler.fit_transform(X)\n",
    "\n",
    "X"
   ]
  },
  {
   "cell_type": "markdown",
   "id": "3a233edb",
   "metadata": {},
   "source": [
    "### Train, Test"
   ]
  },
  {
   "cell_type": "code",
   "execution_count": 58,
   "id": "8742e4a9",
   "metadata": {},
   "outputs": [
    {
     "name": "stdout",
     "output_type": "stream",
     "text": [
      "X_train: (70, 2), y_train: (70,)\n",
      "X_test: (30, 2),  y_test: (30,)\n"
     ]
    }
   ],
   "source": [
    "X_train, X_test, y_train, y_test = train_test_split(X, y, test_size = 0.3, random_state = 42)\n",
    "\n",
    "print(f\"X_train: {X_train.shape}, y_train: {y_train.shape}\")\n",
    "print(f\"X_test: {X_test.shape},  y_test: {y_test.shape}\")"
   ]
  },
  {
   "cell_type": "markdown",
   "id": "c79c7ec8",
   "metadata": {},
   "source": [
    "### Modelo"
   ]
  },
  {
   "cell_type": "code",
   "execution_count": 59,
   "id": "fcf7e6eb",
   "metadata": {},
   "outputs": [
    {
     "data": {
      "text/plain": [
       "LogisticRegression()"
      ]
     },
     "execution_count": 59,
     "metadata": {},
     "output_type": "execute_result"
    }
   ],
   "source": [
    "from sklearn.linear_model import LogisticRegression\n",
    "\n",
    "model = LogisticRegression()\n",
    "model.fit(X_train, y_train)"
   ]
  },
  {
   "cell_type": "markdown",
   "id": "2a4f2d4b",
   "metadata": {},
   "source": [
    "### Predicciones"
   ]
  },
  {
   "cell_type": "code",
   "execution_count": 60,
   "id": "93af6df4",
   "metadata": {},
   "outputs": [
    {
     "data": {
      "text/plain": [
       "array([1, 1, 1, 0, 0, 0, 0, 1, 0, 0, 0, 0, 1, 0, 1, 0, 1, 1, 0, 0, 1, 1,\n",
       "       0, 0, 1, 0, 0, 1, 0, 1])"
      ]
     },
     "execution_count": 60,
     "metadata": {},
     "output_type": "execute_result"
    }
   ],
   "source": [
    "yhat = model.predict(X_test)\n",
    "\n",
    "yhat"
   ]
  },
  {
   "cell_type": "code",
   "execution_count": 61,
   "id": "5d694a34",
   "metadata": {},
   "outputs": [
    {
     "name": "stdout",
     "output_type": "stream",
     "text": [
      "Jaccard Index: 1.0\n",
      "Accuracy: 1.0\n",
      "Precisión: 1.0\n",
      "Sensibilidad: 1.0\n",
      "F1-score: 1.0\n"
     ]
    }
   ],
   "source": [
    "print(\"Jaccard Index:\", jaccard_score(y_test, yhat, average = \"macro\"))\n",
    "print(\"Accuracy:\"     , accuracy_score(y_test, yhat))\n",
    "print(\"Precisión:\"    , precision_score(y_test, yhat, average = \"macro\"))\n",
    "print(\"Sensibilidad:\" , recall_score(y_test, yhat, average = \"macro\"))\n",
    "print(\"F1-score:\"     , f1_score(y_test, yhat, average = \"macro\"))"
   ]
  },
  {
   "cell_type": "markdown",
   "id": "8718ebae",
   "metadata": {},
   "source": [
    "### Confusion Matrix"
   ]
  },
  {
   "cell_type": "code",
   "execution_count": 62,
   "id": "43c3138f",
   "metadata": {},
   "outputs": [
    {
     "data": {
      "text/plain": [
       "array([[17,  0],\n",
       "       [ 0, 13]], dtype=int64)"
      ]
     },
     "execution_count": 62,
     "metadata": {},
     "output_type": "execute_result"
    }
   ],
   "source": [
    "confusion_matrix(y_test, yhat, labels = [0, 1])"
   ]
  },
  {
   "cell_type": "markdown",
   "id": "7b192bf8",
   "metadata": {},
   "source": [
    "### Classification Report"
   ]
  },
  {
   "cell_type": "code",
   "execution_count": 63,
   "id": "6919d72f",
   "metadata": {},
   "outputs": [
    {
     "name": "stdout",
     "output_type": "stream",
     "text": [
      "              precision    recall  f1-score   support\n",
      "\n",
      "           0      1.000     1.000     1.000        17\n",
      "           1      1.000     1.000     1.000        13\n",
      "\n",
      "    accuracy                          1.000        30\n",
      "   macro avg      1.000     1.000     1.000        30\n",
      "weighted avg      1.000     1.000     1.000        30\n",
      "\n"
     ]
    }
   ],
   "source": [
    "print(classification_report(y_test, yhat, digits = 3))"
   ]
  },
  {
   "cell_type": "markdown",
   "id": "15bf495d",
   "metadata": {},
   "source": [
    "### Métodos y Atributos del Modelo"
   ]
  },
  {
   "cell_type": "code",
   "execution_count": 64,
   "id": "5a2d94cb",
   "metadata": {
    "scrolled": true
   },
   "outputs": [
    {
     "data": {
      "text/plain": [
       "array([[0.24371714, 0.75628286],\n",
       "       [0.27259765, 0.72740235],\n",
       "       [0.38006402, 0.61993598],\n",
       "       [0.63677249, 0.36322751],\n",
       "       [0.74319439, 0.25680561],\n",
       "       [0.65473469, 0.34526531],\n",
       "       [0.80610904, 0.19389096],\n",
       "       [0.29404834, 0.70595166],\n",
       "       [0.64857255, 0.35142745],\n",
       "       [0.67821861, 0.32178139],\n",
       "       [0.5924888 , 0.4075112 ],\n",
       "       [0.66084528, 0.33915472],\n",
       "       [0.24205315, 0.75794685],\n",
       "       [0.73622572, 0.26377428],\n",
       "       [0.3397425 , 0.6602575 ],\n",
       "       [0.72432283, 0.27567717],\n",
       "       [0.12514778, 0.87485222],\n",
       "       [0.16541599, 0.83458401],\n",
       "       [0.63677249, 0.36322751],\n",
       "       [0.57339826, 0.42660174],\n",
       "       [0.33569474, 0.66430526],\n",
       "       [0.41181924, 0.58818076],\n",
       "       [0.68019021, 0.31980979],\n",
       "       [0.77410899, 0.22589101],\n",
       "       [0.29217347, 0.70782653],\n",
       "       [0.73269622, 0.26730378],\n",
       "       [0.70272884, 0.29727116],\n",
       "       [0.3596556 , 0.6403444 ],\n",
       "       [0.63467698, 0.36532302],\n",
       "       [0.15604495, 0.84395505]])"
      ]
     },
     "execution_count": 64,
     "metadata": {},
     "output_type": "execute_result"
    }
   ],
   "source": [
    "# .predict_proba()\n",
    "\n",
    "model.predict_proba(X_test)"
   ]
  },
  {
   "cell_type": "markdown",
   "id": "45081f76",
   "metadata": {},
   "source": [
    "### Recta que separa las nubes de puntos"
   ]
  },
  {
   "cell_type": "code",
   "execution_count": 65,
   "id": "fe817cc9",
   "metadata": {},
   "outputs": [
    {
     "name": "stdout",
     "output_type": "stream",
     "text": [
      "RECTA\n",
      "\tCoeficientes: [ 3.09768585 -2.53632744]\n",
      "\tIntercepción: -0.0782254595264431\n",
      "\tEcuación: +3.098*w0 -2.536*w1 -0.078\n",
      "****************************************************************************************************\n",
      "FUNCION SIGMOID\n",
      "\t1 / (1 + e**-(+3.098*w0 -2.536*w1 -0.078))\n"
     ]
    }
   ],
   "source": [
    "# Ecuación de la recta definida por el modelo\n",
    "\n",
    "print(\"RECTA\")\n",
    "\n",
    "print(f\"\\tCoeficientes: {model.coef_[0]}\")\n",
    "\n",
    "print(f\"\\tIntercepción: {model.intercept_[0]}\")\n",
    "\n",
    "ecuacion = \" \".join(([f\"+{coef}*w{num}\" if coef >= 0 else f\"{coef}*w{num}\"\\\n",
    "                      for num, coef in enumerate(np.round(model.coef_[0], 3))]\\\n",
    "                     + [str(np.round(model.intercept_[0], 3))]))\n",
    "\n",
    "print(f\"\\tEcuación: {ecuacion}\")\n",
    "\n",
    "print(\"*\"*100)\n",
    "\n",
    "print(\"FUNCION SIGMOID\")\n",
    "\n",
    "print(f\"\\t1 / (1 + e**-({ecuacion}))\")"
   ]
  },
  {
   "cell_type": "code",
   "execution_count": 66,
   "id": "d5a7e389",
   "metadata": {},
   "outputs": [
    {
     "data": {
      "image/png": "[encoded data removed]",
      "text/plain": [
       "<Figure size 576x432 with 1 Axes>"
      ]
     },
     "metadata": {
      "needs_background": "light"
     },
     "output_type": "display_data"
    }
   ],
   "source": [
    "# Gráfico\n",
    "\n",
    "plt.figure(figsize = (8, 6))\n",
    "\n",
    "# Puntos de las primera 2 clases\n",
    "sns.scatterplot(x = X[:, 0], y = X[:, 1], c = y, cmap = \"cool\")\n",
    "\n",
    "# Recta\n",
    "x_linspace = np.linspace(-0.25, 1.25, 100)\n",
    "recta = (model.coef_[0][0]*x_linspace + model.intercept_[0])/(-model.coef_[0][1])\n",
    "\n",
    "plt.plot(x_linspace, recta)\n",
    "\n",
    "plt.xlim(-0.25, 1.25)\n",
    "plt.ylim(-0.25, 1.25)\n",
    "\n",
    "plt.show()"
   ]
  },
  {
   "cell_type": "markdown",
   "id": "7297bdbc",
   "metadata": {},
   "source": [
    "### Representación de yhat y la función Sigmoid"
   ]
  },
  {
   "cell_type": "code",
   "execution_count": 67,
   "id": "474cdd0f",
   "metadata": {},
   "outputs": [],
   "source": [
    "def sigmoid(x):\n",
    "    return 1 / (1 + np.exp(-x))\n",
    "\n",
    "def sigmoid_regression(coef_, intercept_, x):\n",
    "    recta = np.dot(coef_, x) + intercept_\n",
    "    \n",
    "    return sigmoid(recta)"
   ]
  },
  {
   "cell_type": "code",
   "execution_count": 68,
   "id": "15a36ac8",
   "metadata": {},
   "outputs": [
    {
     "data": {
      "image/png": "[encoded data removed]",
      "text/plain": [
       "<Figure size 720x432 with 1 Axes>"
      ]
     },
     "metadata": {
      "needs_background": "light"
     },
     "output_type": "display_data"
    }
   ],
   "source": [
    "plt.figure(figsize = (10, 6))\n",
    "\n",
    "x_linspace = np.linspace(-5, 5, 100)\n",
    "curva_sigmoid = sigmoid_regression(model.coef_[0][0], model.intercept_[0], x_linspace)\n",
    "\n",
    "# Curva Sigmoid Original\n",
    "plt.plot(x_linspace, sigmoid(x_linspace), color = \"black\", alpha = 0.3, label = \"Sigmoid\")\n",
    "\n",
    "# Curva Sigmoid de la regression\n",
    "plt.plot(x_linspace, curva_sigmoid, label = \"Sigmoid Modelo\")\n",
    "\n",
    "# Puntos de X_test & y_test\n",
    "sns.scatterplot(x = X_test[:, 0], y = y_test, color = \"orange\", alpha = 0.5)\n",
    "\n",
    "plt.title(\"Valores Reales\")\n",
    "plt.legend()\n",
    "plt.show()"
   ]
  },
  {
   "cell_type": "code",
   "execution_count": 69,
   "id": "8efd374a",
   "metadata": {},
   "outputs": [
    {
     "data": {
      "image/png": "[encoded data removed]",
      "text/plain": [
       "<Figure size 720x432 with 1 Axes>"
      ]
     },
     "metadata": {
      "needs_background": "light"
     },
     "output_type": "display_data"
    }
   ],
   "source": [
    "plt.figure(figsize = (10, 6))\n",
    "\n",
    "x_linspace = np.linspace(-5, 5, 100)\n",
    "curva_sigmoid = sigmoid_regression(model.coef_[0][0], model.intercept_[0], x_linspace)\n",
    "\n",
    "# Curva Sigmoid Original\n",
    "plt.plot(x_linspace, sigmoid(x_linspace), color = \"black\", alpha = 0.3, label = \"Sigmoid\")\n",
    "\n",
    "# Curva Sigmoid de la regression\n",
    "plt.plot(x_linspace, curva_sigmoid, label = \"Sigmoid Modelo\")\n",
    "\n",
    "# Puntos de X_test & y_test\n",
    "sns.scatterplot(x = X_test[:, 0], y = yhat, color = \"orange\", alpha = 0.5)\n",
    "\n",
    "plt.title(\"Predicciones\")\n",
    "plt.legend()\n",
    "plt.show()"
   ]
  },
  {
   "cell_type": "code",
   "execution_count": 70,
   "id": "6e66637b",
   "metadata": {},
   "outputs": [],
   "source": [
    "################################################################################################################################"
   ]
  },
  {
   "cell_type": "markdown",
   "id": "2f53f286",
   "metadata": {},
   "source": [
    "### Ejercicio 1:\n",
    "- Utiliza el dataset del titanic para practicar **`LogisticRegression`**:"
   ]
  },
  {
   "cell_type": "markdown",
   "id": "32d0fe24-75ca-4fdf-b381-ef7b5cb2af30",
   "metadata": {},
   "source": [
    "# Modelo y métricas"
   ]
  },
  {
   "cell_type": "code",
   "execution_count": 71,
   "id": "457e670b",
   "metadata": {},
   "outputs": [
    {
     "data": {
      "text/html": [
       "<div>\n",
       "<style scoped>\n",
       "    .dataframe tbody tr th:only-of-type {\n",
       "        vertical-align: middle;\n",
       "    }\n",
       "\n",
       "    .dataframe tbody tr th {\n",
       "        vertical-align: top;\n",
       "    }\n",
       "\n",
       "    .dataframe thead th {\n",
       "        text-align: right;\n",
       "    }\n",
       "</style>\n",
       "<table border=\"1\" class=\"dataframe\">\n",
       "  <thead>\n",
       "    <tr style=\"text-align: right;\">\n",
       "      <th></th>\n",
       "      <th>Age</th>\n",
       "      <th>Pclass</th>\n",
       "      <th>Fare</th>\n",
       "      <th>Fare-Binning</th>\n",
       "      <th>Age-Binning</th>\n",
       "      <th>female</th>\n",
       "      <th>male</th>\n",
       "      <th>Familia</th>\n",
       "      <th>Soltero</th>\n",
       "      <th>Miss.</th>\n",
       "      <th>Mr.</th>\n",
       "      <th>Mrs.</th>\n",
       "      <th>Other</th>\n",
       "      <th>Survived</th>\n",
       "    </tr>\n",
       "  </thead>\n",
       "  <tbody>\n",
       "    <tr>\n",
       "      <th>0</th>\n",
       "      <td>22.0</td>\n",
       "      <td>3.0</td>\n",
       "      <td>7.2500</td>\n",
       "      <td>2.0</td>\n",
       "      <td>1.0</td>\n",
       "      <td>0</td>\n",
       "      <td>1</td>\n",
       "      <td>1</td>\n",
       "      <td>0</td>\n",
       "      <td>0</td>\n",
       "      <td>1</td>\n",
       "      <td>0</td>\n",
       "      <td>0</td>\n",
       "      <td>0.0</td>\n",
       "    </tr>\n",
       "    <tr>\n",
       "      <th>1</th>\n",
       "      <td>38.0</td>\n",
       "      <td>1.0</td>\n",
       "      <td>71.2833</td>\n",
       "      <td>2.0</td>\n",
       "      <td>0.0</td>\n",
       "      <td>1</td>\n",
       "      <td>0</td>\n",
       "      <td>0</td>\n",
       "      <td>1</td>\n",
       "      <td>0</td>\n",
       "      <td>0</td>\n",
       "      <td>1</td>\n",
       "      <td>0</td>\n",
       "      <td>1.0</td>\n",
       "    </tr>\n",
       "    <tr>\n",
       "      <th>2</th>\n",
       "      <td>26.0</td>\n",
       "      <td>3.0</td>\n",
       "      <td>7.9250</td>\n",
       "      <td>2.0</td>\n",
       "      <td>1.0</td>\n",
       "      <td>1</td>\n",
       "      <td>0</td>\n",
       "      <td>0</td>\n",
       "      <td>1</td>\n",
       "      <td>1</td>\n",
       "      <td>0</td>\n",
       "      <td>0</td>\n",
       "      <td>0</td>\n",
       "      <td>1.0</td>\n",
       "    </tr>\n",
       "  </tbody>\n",
       "</table>\n",
       "</div>"
      ],
      "text/plain": [
       "    Age  Pclass     Fare  Fare-Binning  Age-Binning  female  male  Familia  \\\n",
       "0  22.0     3.0   7.2500           2.0          1.0       0     1        1   \n",
       "1  38.0     1.0  71.2833           2.0          0.0       1     0        0   \n",
       "2  26.0     3.0   7.9250           2.0          1.0       1     0        0   \n",
       "\n",
       "   Soltero  Miss.  Mr.  Mrs.  Other  Survived  \n",
       "0        0      0    1     0      0       0.0  \n",
       "1        1      0    0     1      0       1.0  \n",
       "2        1      1    0     0      0       1.0  "
      ]
     },
     "execution_count": 71,
     "metadata": {},
     "output_type": "execute_result"
    }
   ],
   "source": [
    "df = pd.read_csv(\"titanic_preprocesamiento.csv\")\n",
    "df.head(3)"
   ]
  },
  {
   "cell_type": "code",
   "execution_count": 72,
   "id": "33b848c1-3c6e-4c3e-9e34-7b0a6780c5d2",
   "metadata": {},
   "outputs": [
    {
     "data": {
      "text/plain": [
       "((888, 11), (888,))"
      ]
     },
     "execution_count": 72,
     "metadata": {},
     "output_type": "execute_result"
    }
   ],
   "source": [
    "X = np.array(df1.drop([\"Survived\", \"Fare-Binning\", \"Age-Binning\"], axis = 1))\n",
    "\n",
    "y = np.array(df1[\"Survived\"])\n",
    "\n",
    "X.shape, y.shape"
   ]
  },
  {
   "cell_type": "code",
   "execution_count": 73,
   "id": "6baa5199-7249-42ac-a265-6d0b603e0a37",
   "metadata": {},
   "outputs": [
    {
     "data": {
      "text/plain": [
       "array([[0.27117366, 1.        , 0.02756654, ..., 1.        , 0.        ,\n",
       "        0.        ],\n",
       "       [0.4722292 , 0.        , 0.27103916, ..., 0.        , 1.        ,\n",
       "        0.        ],\n",
       "       [0.32143755, 1.        , 0.03013308, ..., 0.        , 0.        ,\n",
       "        0.        ],\n",
       "       ...,\n",
       "       [0.34656949, 1.        , 0.0891635 , ..., 0.        , 0.        ,\n",
       "        0.        ],\n",
       "       [0.32143755, 0.        , 0.11406844, ..., 1.        , 0.        ,\n",
       "        0.        ],\n",
       "       [0.39683338, 1.        , 0.02946768, ..., 1.        , 0.        ,\n",
       "        0.        ]])"
      ]
     },
     "execution_count": 73,
     "metadata": {},
     "output_type": "execute_result"
    }
   ],
   "source": [
    "x_scaler = MinMaxScaler()\n",
    "X = x_scaler.fit_transform(X)\n",
    "\n",
    "X"
   ]
  },
  {
   "cell_type": "code",
   "execution_count": 74,
   "id": "d5a621e7-3fce-450d-87d9-dafe26c96dfd",
   "metadata": {},
   "outputs": [
    {
     "name": "stdout",
     "output_type": "stream",
     "text": [
      "X_train: (621, 11), y_train: (621,)\n",
      "X_test: (267, 11),  y_test: (267,)\n"
     ]
    }
   ],
   "source": [
    "X_train, X_test, y_train, y_test = train_test_split(X, y, test_size = 0.3, random_state = 42)\n",
    "\n",
    "print(f\"X_train: {X_train.shape}, y_train: {y_train.shape}\")\n",
    "print(f\"X_test: {X_test.shape},  y_test: {y_test.shape}\")"
   ]
  },
  {
   "cell_type": "code",
   "execution_count": 75,
   "id": "a7eddcf1-acd1-408d-a252-86571f61c952",
   "metadata": {},
   "outputs": [
    {
     "data": {
      "text/plain": [
       "LogisticRegression()"
      ]
     },
     "execution_count": 75,
     "metadata": {},
     "output_type": "execute_result"
    }
   ],
   "source": [
    "model = LogisticRegression()\n",
    "model.fit(X_train, y_train)"
   ]
  },
  {
   "cell_type": "code",
   "execution_count": 76,
   "id": "2a545412-0585-401a-85f7-8c9b17b95c7e",
   "metadata": {},
   "outputs": [
    {
     "data": {
      "text/plain": [
       "array([0., 1., 1., 0., 1., 0., 0., 0., 1., 1., 0., 1., 0., 0., 0., 0., 0.,\n",
       "       0., 0., 0., 0., 0., 0., 0., 0., 1., 0., 1., 0., 0., 0., 0., 0., 0.,\n",
       "       0., 1., 1., 0., 0., 0., 0., 1., 0., 1., 0., 1., 1., 0., 0., 1., 1.,\n",
       "       1., 0., 1., 1., 1., 1., 0., 0., 1., 0., 1., 1., 0., 0., 0., 0., 0.,\n",
       "       0., 1., 0., 1., 0., 1., 0., 0., 1., 0., 0., 0., 0., 0., 1., 0., 0.,\n",
       "       0., 0., 0., 0., 0., 0., 1., 1., 1., 0., 0., 0., 0., 0., 0., 1., 0.,\n",
       "       1., 0., 0., 0., 1., 1., 0., 0., 0., 0., 0., 1., 0., 0., 0., 0., 0.,\n",
       "       0., 1., 1., 0., 0., 1., 0., 0., 1., 1., 0., 0., 1., 0., 0., 1., 0.,\n",
       "       1., 1., 1., 1., 1., 0., 1., 1., 1., 1., 0., 1., 0., 1., 0., 1., 0.,\n",
       "       0., 0., 1., 1., 1., 0., 1., 0., 1., 0., 0., 0., 0., 1., 0., 0., 0.,\n",
       "       1., 1., 1., 0., 1., 1., 1., 1., 0., 0., 0., 0., 0., 0., 0., 0., 0.,\n",
       "       1., 0., 0., 0., 0., 0., 0., 0., 0., 0., 0., 0., 0., 0., 0., 0., 1.,\n",
       "       0., 0., 0., 0., 1., 0., 0., 0., 0., 0., 0., 0., 0., 1., 0., 0., 1.,\n",
       "       1., 1., 1., 1., 0., 0., 0., 1., 1., 1., 0., 0., 0., 0., 1., 0., 1.,\n",
       "       0., 0., 1., 0., 1., 0., 1., 0., 1., 0., 1., 1., 0., 0., 0., 1., 0.,\n",
       "       1., 0., 1., 1., 0., 0., 0., 0., 1., 1., 0., 0.])"
      ]
     },
     "execution_count": 76,
     "metadata": {},
     "output_type": "execute_result"
    }
   ],
   "source": [
    "yhat = model.predict(X_test)\n",
    "\n",
    "yhat"
   ]
  },
  {
   "cell_type": "code",
   "execution_count": 78,
   "id": "761eb730-3182-423a-a74e-825da8ad1cb4",
   "metadata": {},
   "outputs": [
    {
     "name": "stdout",
     "output_type": "stream",
     "text": [
      "Jaccard Index: 0.6816842105263158\n",
      "Accuracy: 0.8202247191011236\n",
      "Precisión: 0.8180538555691554\n",
      "Sensibilidad: 0.8035630841121495\n",
      "F1-score: 0.808898962185375\n",
      "ROC AUC: 0.8035630841121495\n"
     ]
    }
   ],
   "source": [
    "print(\"Jaccard Index:\", jaccard_score(y_test, yhat, average = \"macro\"))\n",
    "print(\"Accuracy:\"     , accuracy_score(y_test, yhat))\n",
    "print(\"Precisión:\"    , precision_score(y_test, yhat, average = \"macro\"))\n",
    "print(\"Sensibilidad:\" , recall_score(y_test, yhat, average = \"macro\"))\n",
    "print(\"F1-score:\"     , f1_score(y_test, yhat, average = \"macro\"))\n",
    "print(\"ROC AUC:\", roc_auc_score(y_test, yhat))"
   ]
  },
  {
   "cell_type": "code",
   "execution_count": 79,
   "id": "f4e08688-00e7-473e-affe-46aaf63852c5",
   "metadata": {},
   "outputs": [
    {
     "data": {
      "text/plain": [
       "array([[142,  18],\n",
       "       [ 30,  77]], dtype=int64)"
      ]
     },
     "execution_count": 79,
     "metadata": {},
     "output_type": "execute_result"
    }
   ],
   "source": [
    "confusion_matrix(y_test, yhat, labels = [0, 1])"
   ]
  },
  {
   "cell_type": "code",
   "execution_count": 80,
   "id": "f4df305c-a59c-40ba-a8d5-9c8f5ce68fa3",
   "metadata": {},
   "outputs": [
    {
     "name": "stdout",
     "output_type": "stream",
     "text": [
      "              precision    recall  f1-score   support\n",
      "\n",
      "         0.0      0.826     0.887     0.855       160\n",
      "         1.0      0.811     0.720     0.762       107\n",
      "\n",
      "    accuracy                          0.820       267\n",
      "   macro avg      0.818     0.804     0.809       267\n",
      "weighted avg      0.820     0.820     0.818       267\n",
      "\n"
     ]
    }
   ],
   "source": [
    "print(classification_report(y_test, yhat, digits = 3))"
   ]
  },
  {
   "cell_type": "code",
   "execution_count": 81,
   "id": "f69c825d-7149-4b55-8e7d-c0cf699513e9",
   "metadata": {},
   "outputs": [
    {
     "data": {
      "text/plain": [
       "array([[0.93175196, 0.06824804],\n",
       "       [0.10384108, 0.89615892],\n",
       "       [0.4804836 , 0.5195164 ],\n",
       "       [0.78413346, 0.21586654],\n",
       "       [0.11476093, 0.88523907],\n",
       "       [0.70067834, 0.29932166],\n",
       "       [0.76762123, 0.23237877],\n",
       "       [0.88970826, 0.11029174],\n",
       "       [0.07794196, 0.92205804],\n",
       "       [0.09914637, 0.90085363],\n",
       "       [0.63281393, 0.36718607],\n",
       "       [0.42784697, 0.57215303],\n",
       "       [0.93607213, 0.06392787],\n",
       "       [0.74356337, 0.25643663],\n",
       "       [0.84656109, 0.15343891],\n",
       "       [0.9309089 , 0.0690911 ],\n",
       "       [0.64479177, 0.35520823],\n",
       "       [0.90546566, 0.09453434],\n",
       "       [0.76583521, 0.23416479],\n",
       "       [0.53633839, 0.46366161],\n",
       "       [0.79086739, 0.20913261],\n",
       "       [0.76360933, 0.23639067],\n",
       "       [0.90703993, 0.09296007],\n",
       "       [0.5989202 , 0.4010798 ],\n",
       "       [0.91472468, 0.08527532],\n",
       "       [0.35616808, 0.64383192],\n",
       "       [0.80282112, 0.19717888],\n",
       "       [0.29276389, 0.70723611],\n",
       "       [0.56491235, 0.43508765],\n",
       "       [0.77138926, 0.22861074],\n",
       "       [0.56020452, 0.43979548],\n",
       "       [0.5279329 , 0.4720671 ],\n",
       "       [0.91389191, 0.08610809],\n",
       "       [0.59623988, 0.40376012],\n",
       "       [0.94395293, 0.05604707],\n",
       "       [0.08756668, 0.91243332],\n",
       "       [0.43627527, 0.56372473],\n",
       "       [0.90041933, 0.09958067],\n",
       "       [0.90696698, 0.09303302],\n",
       "       [0.80724874, 0.19275126],\n",
       "       [0.82951719, 0.17048281],\n",
       "       [0.12429688, 0.87570312],\n",
       "       [0.93188474, 0.06811526],\n",
       "       [0.09395729, 0.90604271],\n",
       "       [0.59001407, 0.40998593],\n",
       "       [0.40020038, 0.59979962],\n",
       "       [0.11719196, 0.88280804],\n",
       "       [0.61633345, 0.38366655],\n",
       "       [0.84156028, 0.15843972],\n",
       "       [0.08436701, 0.91563299],\n",
       "       [0.2289426 , 0.7710574 ],\n",
       "       [0.41392774, 0.58607226],\n",
       "       [0.9241405 , 0.0758595 ],\n",
       "       [0.43721693, 0.56278307],\n",
       "       [0.25082128, 0.74917872],\n",
       "       [0.20525845, 0.79474155],\n",
       "       [0.42786141, 0.57213859],\n",
       "       [0.92093914, 0.07906086],\n",
       "       [0.68239941, 0.31760059],\n",
       "       [0.10511194, 0.89488806],\n",
       "       [0.88844964, 0.11155036],\n",
       "       [0.35126051, 0.64873949],\n",
       "       [0.0826161 , 0.9173839 ],\n",
       "       [0.72067368, 0.27932632],\n",
       "       [0.91856731, 0.08143269],\n",
       "       [0.8913219 , 0.1086781 ],\n",
       "       [0.93487134, 0.06512866],\n",
       "       [0.5214729 , 0.4785271 ],\n",
       "       [0.89211654, 0.10788346],\n",
       "       [0.11518924, 0.88481076],\n",
       "       [0.54089058, 0.45910942],\n",
       "       [0.0822936 , 0.9177064 ],\n",
       "       [0.53164078, 0.46835922],\n",
       "       [0.3473356 , 0.6526644 ],\n",
       "       [0.55360369, 0.44639631],\n",
       "       [0.92680715, 0.07319285],\n",
       "       [0.12473095, 0.87526905],\n",
       "       [0.91528183, 0.08471817],\n",
       "       [0.88656263, 0.11343737],\n",
       "       [0.9280855 , 0.0719145 ],\n",
       "       [0.53651445, 0.46348555],\n",
       "       [0.91459061, 0.08540939],\n",
       "       [0.20406741, 0.79593259],\n",
       "       [0.58798911, 0.41201089],\n",
       "       [0.79555213, 0.20444787],\n",
       "       [0.55267129, 0.44732871],\n",
       "       [0.94628164, 0.05371836],\n",
       "       [0.76077467, 0.23922533],\n",
       "       [0.75875112, 0.24124888],\n",
       "       [0.89985007, 0.10014993],\n",
       "       [0.91488546, 0.08511454],\n",
       "       [0.42738786, 0.57261214],\n",
       "       [0.26013199, 0.73986801],\n",
       "       [0.22454828, 0.77545172],\n",
       "       [0.89520333, 0.10479667],\n",
       "       [0.6429365 , 0.3570635 ],\n",
       "       [0.92843265, 0.07156735],\n",
       "       [0.90834383, 0.09165617],\n",
       "       [0.90098571, 0.09901429],\n",
       "       [0.9026792 , 0.0973208 ],\n",
       "       [0.40940989, 0.59059011],\n",
       "       [0.65640782, 0.34359218],\n",
       "       [0.45312189, 0.54687811],\n",
       "       [0.95229699, 0.04770301],\n",
       "       [0.90617214, 0.09382786],\n",
       "       [0.92629052, 0.07370948],\n",
       "       [0.13868639, 0.86131361],\n",
       "       [0.21254248, 0.78745752],\n",
       "       [0.89405385, 0.10594615],\n",
       "       [0.89213636, 0.10786364],\n",
       "       [0.9213    , 0.0787    ],\n",
       "       [0.7426286 , 0.2573714 ],\n",
       "       [0.91351552, 0.08648448],\n",
       "       [0.07629912, 0.92370088],\n",
       "       [0.78413346, 0.21586654],\n",
       "       [0.75876457, 0.24123543],\n",
       "       [0.66284133, 0.33715867],\n",
       "       [0.80662927, 0.19337073],\n",
       "       [0.50500655, 0.49499345],\n",
       "       [0.7871493 , 0.2128507 ],\n",
       "       [0.41393319, 0.58606681],\n",
       "       [0.10018851, 0.89981149],\n",
       "       [0.94590807, 0.05409193],\n",
       "       [0.89582091, 0.10417909],\n",
       "       [0.05557656, 0.94442344],\n",
       "       [0.74420114, 0.25579886],\n",
       "       [0.74477802, 0.25522198],\n",
       "       [0.08156744, 0.91843256],\n",
       "       [0.42320282, 0.57679718],\n",
       "       [0.88845833, 0.11154167],\n",
       "       [0.81949791, 0.18050209],\n",
       "       [0.10536624, 0.89463376],\n",
       "       [0.83769976, 0.16230024],\n",
       "       [0.95115927, 0.04884073],\n",
       "       [0.44651995, 0.55348005],\n",
       "       [0.65761795, 0.34238205],\n",
       "       [0.40934923, 0.59065077],\n",
       "       [0.29329885, 0.70670115],\n",
       "       [0.3086282 , 0.6913718 ],\n",
       "       [0.26847164, 0.73152836],\n",
       "       [0.40811848, 0.59188152],\n",
       "       [0.90154923, 0.09845077],\n",
       "       [0.28444814, 0.71555186],\n",
       "       [0.39705438, 0.60294562],\n",
       "       [0.09117184, 0.90882816],\n",
       "       [0.15718835, 0.84281165],\n",
       "       [0.87826496, 0.12173504],\n",
       "       [0.05527041, 0.94472959],\n",
       "       [0.91224193, 0.08775807],\n",
       "       [0.05879191, 0.94120809],\n",
       "       [0.92677997, 0.07322003],\n",
       "       [0.12118053, 0.87881947],\n",
       "       [0.53372578, 0.46627422],\n",
       "       [0.89983758, 0.10016242],\n",
       "       [0.91724568, 0.08275432],\n",
       "       [0.21708371, 0.78291629],\n",
       "       [0.43094193, 0.56905807],\n",
       "       [0.24359216, 0.75640784],\n",
       "       [0.67578307, 0.32421693],\n",
       "       [0.14587428, 0.85412572],\n",
       "       [0.89928775, 0.10071225],\n",
       "       [0.13708574, 0.86291426],\n",
       "       [0.93642489, 0.06357511],\n",
       "       [0.93331148, 0.06668852],\n",
       "       [0.71527302, 0.28472698],\n",
       "       [0.90437432, 0.09562568],\n",
       "       [0.07026528, 0.92973472],\n",
       "       [0.89405173, 0.10594827],\n",
       "       [0.91528705, 0.08471295],\n",
       "       [0.53045447, 0.46954553],\n",
       "       [0.48750343, 0.51249657],\n",
       "       [0.07454037, 0.92545963],\n",
       "       [0.08222482, 0.91777518],\n",
       "       [0.88472271, 0.11527729],\n",
       "       [0.07359655, 0.92640345],\n",
       "       [0.39203052, 0.60796948],\n",
       "       [0.20136   , 0.79864   ],\n",
       "       [0.43217268, 0.56782732],\n",
       "       [0.85866618, 0.14133382],\n",
       "       [0.79373125, 0.20626875],\n",
       "       [0.91069807, 0.08930193],\n",
       "       [0.89927791, 0.10072209],\n",
       "       [0.90062266, 0.09937734],\n",
       "       [0.58495458, 0.41504542],\n",
       "       [0.89399675, 0.10600325],\n",
       "       [0.90432413, 0.09567587],\n",
       "       [0.91374244, 0.08625756],\n",
       "       [0.49242163, 0.50757837],\n",
       "       [0.81248694, 0.18751306],\n",
       "       [0.85555903, 0.14444097],\n",
       "       [0.93673542, 0.06326458],\n",
       "       [0.94217105, 0.05782895],\n",
       "       [0.90583243, 0.09416757],\n",
       "       [0.94871517, 0.05128483],\n",
       "       [0.886703  , 0.113297  ],\n",
       "       [0.71012143, 0.28987857],\n",
       "       [0.89402867, 0.10597133],\n",
       "       [0.56609404, 0.43390596],\n",
       "       [0.92137706, 0.07862294],\n",
       "       [0.52317396, 0.47682604],\n",
       "       [0.74054836, 0.25945164],\n",
       "       [0.55679973, 0.44320027],\n",
       "       [0.64663662, 0.35336338],\n",
       "       [0.07338421, 0.92661579],\n",
       "       [0.91714786, 0.08285214],\n",
       "       [0.93285857, 0.06714143],\n",
       "       [0.80013789, 0.19986211],\n",
       "       [0.88142701, 0.11857299],\n",
       "       [0.12651063, 0.87348937],\n",
       "       [0.59460171, 0.40539829],\n",
       "       [0.90754991, 0.09245009],\n",
       "       [0.93416367, 0.06583633],\n",
       "       [0.91173724, 0.08826276],\n",
       "       [0.94277966, 0.05722034],\n",
       "       [0.73867413, 0.26132587],\n",
       "       [0.93295465, 0.06704535],\n",
       "       [0.73562587, 0.26437413],\n",
       "       [0.217646  , 0.782354  ],\n",
       "       [0.90327337, 0.09672663],\n",
       "       [0.9371763 , 0.0628237 ],\n",
       "       [0.22320693, 0.77679307],\n",
       "       [0.12246384, 0.87753616],\n",
       "       [0.08041423, 0.91958577],\n",
       "       [0.42795695, 0.57204305],\n",
       "       [0.32063079, 0.67936921],\n",
       "       [0.76077467, 0.23922533],\n",
       "       [0.58233345, 0.41766655],\n",
       "       [0.50730874, 0.49269126],\n",
       "       [0.44650423, 0.55349577],\n",
       "       [0.09009109, 0.90990891],\n",
       "       [0.4418795 , 0.5581205 ],\n",
       "       [0.93829319, 0.06170681],\n",
       "       [0.92279411, 0.07720589],\n",
       "       [0.89748064, 0.10251936],\n",
       "       [0.91156865, 0.08843135],\n",
       "       [0.29722889, 0.70277111],\n",
       "       [0.59881874, 0.40118126],\n",
       "       [0.11289244, 0.88710756],\n",
       "       [0.83356289, 0.16643711],\n",
       "       [0.88827029, 0.11172971],\n",
       "       [0.15247459, 0.84752541],\n",
       "       [0.90997406, 0.09002594],\n",
       "       [0.23364661, 0.76635339],\n",
       "       [0.92743813, 0.07256187],\n",
       "       [0.4226511 , 0.5773489 ],\n",
       "       [0.75207558, 0.24792442],\n",
       "       [0.42164039, 0.57835961],\n",
       "       [0.89405173, 0.10594827],\n",
       "       [0.40937409, 0.59062591],\n",
       "       [0.46433548, 0.53566452],\n",
       "       [0.85438118, 0.14561882],\n",
       "       [0.90708448, 0.09291552],\n",
       "       [0.8940535 , 0.1059465 ],\n",
       "       [0.15534681, 0.84465319],\n",
       "       [0.92004044, 0.07995956],\n",
       "       [0.17409637, 0.82590363],\n",
       "       [0.89068189, 0.10931811],\n",
       "       [0.13971837, 0.86028163],\n",
       "       [0.12321837, 0.87678163],\n",
       "       [0.83642797, 0.16357203],\n",
       "       [0.84341935, 0.15658065],\n",
       "       [0.91960291, 0.08039709],\n",
       "       [0.91906665, 0.08093335],\n",
       "       [0.32158048, 0.67841952],\n",
       "       [0.4474403 , 0.5525597 ],\n",
       "       [0.89686411, 0.10313589],\n",
       "       [0.56218491, 0.43781509]])"
      ]
     },
     "execution_count": 81,
     "metadata": {},
     "output_type": "execute_result"
    }
   ],
   "source": [
    "model.predict_proba(X_test)"
   ]
  },
  {
   "cell_type": "markdown",
   "id": "73149aa5-0594-471c-b3bd-f732c6b1a97a",
   "metadata": {},
   "source": [
    "# Recta y representación gráfica"
   ]
  },
  {
   "cell_type": "code",
   "execution_count": 82,
   "id": "7660bf95-2c9f-4475-8f2b-deb8ac29c5f2",
   "metadata": {},
   "outputs": [
    {
     "name": "stdout",
     "output_type": "stream",
     "text": [
      "RECTA\n",
      "\tCoeficientes: [-1.51187888 -1.97942575  0.23631936  0.55232613 -0.55310364 -0.18421821\n",
      "  0.18344069  0.19171015 -1.12586434  0.99024521 -0.05686854]\n",
      "\tIntercepción: 1.745607638781772\n",
      "\tEcuación: -1.512*w0 -1.979*w1 +0.236*w2 +0.552*w3 -0.553*w4 -0.184*w5 +0.183*w6 +0.192*w7 -1.126*w8 +0.99*w9 -0.057*w10 1.746\n",
      "****************************************************************************************************\n",
      "FUNCION SIGMOID\n",
      "\t1 / (1 + e**-(-1.512*w0 -1.979*w1 +0.236*w2 +0.552*w3 -0.553*w4 -0.184*w5 +0.183*w6 +0.192*w7 -1.126*w8 +0.99*w9 -0.057*w10 1.746))\n"
     ]
    }
   ],
   "source": [
    "# Ecuación de la recta definida por el modelo\n",
    "\n",
    "print(\"RECTA\")\n",
    "\n",
    "print(f\"\\tCoeficientes: {model.coef_[0]}\")\n",
    "\n",
    "print(f\"\\tIntercepción: {model.intercept_[0]}\")\n",
    "\n",
    "ecuacion = \" \".join(([f\"+{coef}*w{num}\" if coef >= 0 else f\"{coef}*w{num}\"\\\n",
    "                      for num, coef in enumerate(np.round(model.coef_[0], 3))]\\\n",
    "                     + [str(np.round(model.intercept_[0], 3))]))\n",
    "\n",
    "print(f\"\\tEcuación: {ecuacion}\")\n",
    "\n",
    "print(\"*\"*100)\n",
    "\n",
    "print(\"FUNCION SIGMOID\")\n",
    "\n",
    "print(f\"\\t1 / (1 + e**-({ecuacion}))\")"
   ]
  },
  {
   "cell_type": "code",
   "execution_count": 90,
   "id": "cd5b356d-16b4-48a7-8061-e3f5142a9c7b",
   "metadata": {},
   "outputs": [
    {
     "data": {
      "image/png": "[encoded data removed]",
      "text/plain": [
       "<Figure size 864x576 with 1 Axes>"
      ]
     },
     "metadata": {
      "needs_background": "light"
     },
     "output_type": "display_data"
    }
   ],
   "source": [
    "# Gráfico\n",
    "\n",
    "plt.figure(figsize = (12, 8))\n",
    "\n",
    "# Puntos\n",
    "sns.scatterplot(x = X[:, 0], y = X[:, 1], c = y, cmap = \"cool\")\n",
    "\n",
    "# Recta\n",
    "x_linspace = np.linspace(-0.25, 1.25, 100)\n",
    "recta = (model.coef_[0][0]*x_linspace + model.intercept_[0])/(-model.coef_[0][1])\n",
    "\n",
    "plt.plot(x_linspace, recta)\n",
    "\n",
    "plt.xlim(-0.25, 1.25)\n",
    "plt.ylim(-0.25, 1.25)\n",
    "\n",
    "plt.show()"
   ]
  },
  {
   "cell_type": "code",
   "execution_count": 84,
   "id": "5ad82e50-0632-48fd-b4e7-56a40d9e79c5",
   "metadata": {},
   "outputs": [],
   "source": [
    "def sigmoid(x):\n",
    "    return 1 / (1 + np.exp(-x))\n",
    "\n",
    "def sigmoid_regression(coef_, intercept_, x):\n",
    "    recta = np.dot(coef_, x) + intercept_\n",
    "    \n",
    "    return sigmoid(recta)"
   ]
  },
  {
   "cell_type": "code",
   "execution_count": 85,
   "id": "001f7895-c6c0-4730-a91a-6abed9534993",
   "metadata": {},
   "outputs": [
    {
     "data": {
      "image/png": "[encoded data removed]",
      "text/plain": [
       "<Figure size 864x576 with 1 Axes>"
      ]
     },
     "metadata": {
      "needs_background": "light"
     },
     "output_type": "display_data"
    }
   ],
   "source": [
    "# Valores originales\n",
    "\n",
    "plt.figure(figsize = (12, 8))\n",
    "\n",
    "x_linspace = np.linspace(-5, 5, 100)\n",
    "curva_sigmoid = sigmoid_regression(model.coef_[0][0], model.intercept_[0], x_linspace)\n",
    "\n",
    "# Curva Sigmoid Original\n",
    "plt.plot(x_linspace, sigmoid(x_linspace), color = \"black\", alpha = 0.3, label = \"Sigmoid\")\n",
    "\n",
    "# Curva Sigmoid de la regression\n",
    "plt.plot(x_linspace, curva_sigmoid, label = \"Sigmoid Modelo\")\n",
    "\n",
    "# Puntos de X_test & y_test\n",
    "sns.scatterplot(x = X_test[:, 0], y = y_test, color = \"orange\", alpha = 0.5)\n",
    "\n",
    "plt.title(\"Valores Reales\")\n",
    "plt.legend()\n",
    "plt.show()"
   ]
  },
  {
   "cell_type": "code",
   "execution_count": 86,
   "id": "0e0b139c-6c00-439b-9de3-89d82791df9a",
   "metadata": {},
   "outputs": [
    {
     "data": {
      "image/png": "[encoded data removed]",
      "text/plain": [
       "<Figure size 864x576 with 1 Axes>"
      ]
     },
     "metadata": {
      "needs_background": "light"
     },
     "output_type": "display_data"
    }
   ],
   "source": [
    "# Valores predichos\n",
    "\n",
    "plt.figure(figsize = (12, 8))\n",
    "\n",
    "x_linspace = np.linspace(-5, 5, 100)\n",
    "curva_sigmoid = sigmoid_regression(model.coef_[0][0], model.intercept_[0], x_linspace)\n",
    "\n",
    "# Curva Sigmoid Original\n",
    "plt.plot(x_linspace, sigmoid(x_linspace), color = \"black\", alpha = 0.3, label = \"Sigmoid\")\n",
    "\n",
    "# Curva Sigmoid de la regression\n",
    "plt.plot(x_linspace, curva_sigmoid, label = \"Sigmoid Modelo\")\n",
    "\n",
    "# Puntos de X_test & y_test\n",
    "sns.scatterplot(x = X_test[:, 0], y = yhat, color = \"orange\", alpha = 0.5)\n",
    "\n",
    "plt.title(\"Predicciones\")\n",
    "plt.legend()\n",
    "plt.show()"
   ]
  },
  {
   "cell_type": "code",
   "execution_count": null,
   "id": "947c3ae9-c23e-44e9-a619-bb740e92f74f",
   "metadata": {},
   "outputs": [],
   "source": []
  }
 ],
 "metadata": {
  "kernelspec": {
   "display_name": "Python 3 (ipykernel)",
   "language": "python",
   "name": "python3"
  },
  "language_info": {
   "codemirror_mode": {
    "name": "ipython",
    "version": 3
   },
   "file_extension": ".py",
   "mimetype": "text/x-python",
   "name": "python",
   "nbconvert_exporter": "python",
   "pygments_lexer": "ipython3",
   "version": "3.9.7"
  }
 },
 "nbformat": 4,
 "nbformat_minor": 5
}
